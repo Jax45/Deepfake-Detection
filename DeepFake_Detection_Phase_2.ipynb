{
  "nbformat": 4,
  "nbformat_minor": 0,
  "metadata": {
    "colab": {
      "name": "DeepFake Detection Phase 2.ipynb",
      "provenance": [],
      "collapsed_sections": [
        "HcbuoRUD3eev",
        "ORuYC6v6wIuz",
        "pYYvWewUtjez",
        "w66tjfzNHMcw",
        "mb_0I8zzreNd"
      ],
      "toc_visible": true,
      "authorship_tag": "ABX9TyOXrsHhUuQv7CA7Pu5vPtLk",
      "include_colab_link": true
    },
    "kernelspec": {
      "display_name": "Python 3",
      "name": "python3"
    },
    "accelerator": "GPU"
  },
  "cells": [
    {
      "cell_type": "markdown",
      "metadata": {
        "id": "view-in-github",
        "colab_type": "text"
      },
      "source": [
        "<a href=\"https://colab.research.google.com/github/Jax45/Deepfake-Detection/blob/main/DeepFake_Detection_Phase_2.ipynb\" target=\"_parent\"><img src=\"https://colab.research.google.com/assets/colab-badge.svg\" alt=\"Open In Colab\"/></a>"
      ]
    },
    {
      "cell_type": "markdown",
      "metadata": {
        "id": "jDyPEuW3tVDx"
      },
      "source": [
        "# 5390 Deep Learning UMSL\n",
        "## sp21 Semester Project\n",
        "### Jackson Hoenig\n",
        "\n"
      ]
    },
    {
      "cell_type": "markdown",
      "metadata": {
        "id": "HcbuoRUD3eev"
      },
      "source": [
        "#Imports"
      ]
    },
    {
      "cell_type": "code",
      "metadata": {
        "id": "gTr0HMch3hF5"
      },
      "source": [
        "import requests, zipfile, io, os\n",
        "import os\n",
        "from tensorflow.keras.models import Sequential\n",
        "from tensorflow.keras.layers import Dense, Conv2D, Flatten, MaxPool2D\n",
        "from keras.preprocessing.image import ImageDataGenerator\n",
        "from keras.callbacks import EarlyStopping\n",
        "import matplotlib.pyplot as plt\n",
        "from keras import layers\n",
        "from keras import models\n",
        "from keras.preprocessing import image\n",
        "import matplotlib.pyplot as plt\n",
        "import numpy as np\n",
        "from sklearn.datasets import make_circles\n",
        "from sklearn.metrics import accuracy_score\n",
        "from sklearn.metrics import precision_score\n",
        "from sklearn.metrics import recall_score\n",
        "from sklearn.metrics import f1_score\n",
        "from sklearn.metrics import cohen_kappa_score\n",
        "from sklearn.metrics import roc_auc_score\n",
        "from sklearn.metrics import confusion_matrix\n"
      ],
      "execution_count": 1,
      "outputs": []
    },
    {
      "cell_type": "markdown",
      "metadata": {
        "id": "ORuYC6v6wIuz"
      },
      "source": [
        "# Prevent google colab from stalling"
      ]
    },
    {
      "cell_type": "code",
      "metadata": {
        "colab": {
          "base_uri": "https://localhost:8080/",
          "height": 34
        },
        "id": "hH-YfE12wNss",
        "outputId": "8364cb9c-3b77-41c0-8de2-5a5451da638a"
      },
      "source": [
        "import IPython\n",
        "from google.colab import output\n",
        "\n",
        "display(IPython.display.Javascript('''\n",
        " function ClickConnect(){\n",
        "   btn = document.querySelector(\"colab-connect-button\")\n",
        "   if (btn != null){\n",
        "     console.log(\"Click colab-connect-button\"); \n",
        "     btn.click() \n",
        "     }\n",
        "   \n",
        "   btn = document.getElementById('ok')\n",
        "   if (btn != null){\n",
        "     console.log(\"Click reconnect\"); \n",
        "     btn.click() \n",
        "     }\n",
        "  }\n",
        "  \n",
        "setInterval(ClickConnect,60000)\n",
        "'''))\n",
        "\n",
        "print(\"Done.\")"
      ],
      "execution_count": null,
      "outputs": [
        {
          "output_type": "display_data",
          "data": {
            "application/javascript": [
              "\n",
              " function ClickConnect(){\n",
              "   btn = document.querySelector(\"colab-connect-button\")\n",
              "   if (btn != null){\n",
              "     console.log(\"Click colab-connect-button\"); \n",
              "     btn.click() \n",
              "     }\n",
              "   \n",
              "   btn = document.getElementById('ok')\n",
              "   if (btn != null){\n",
              "     console.log(\"Click reconnect\"); \n",
              "     btn.click() \n",
              "     }\n",
              "  }\n",
              "  \n",
              "setInterval(ClickConnect,60000)\n"
            ],
            "text/plain": [
              "<IPython.core.display.Javascript object>"
            ]
          },
          "metadata": {
            "tags": []
          }
        },
        {
          "output_type": "stream",
          "text": [
            "Done.\n"
          ],
          "name": "stdout"
        }
      ]
    },
    {
      "cell_type": "markdown",
      "metadata": {
        "id": "pYYvWewUtjez"
      },
      "source": [
        "# Loading the data"
      ]
    },
    {
      "cell_type": "code",
      "metadata": {
        "colab": {
          "base_uri": "https://localhost:8080/"
        },
        "id": "Go_gtsLztQ68",
        "outputId": "ece6d8e5-fa79-4334-a12e-3ff5851190c0"
      },
      "source": [
        "\n",
        "\n",
        "print('Downloading and unzipping test file.')\n",
        "r = requests.get('https://github.com/Jax45/Deepfake-Detection/raw/main/DeepfakeDataset-001.zip')\n",
        "z = zipfile.ZipFile(io.BytesIO(r.content))\n",
        "z.extractall()"
      ],
      "execution_count": 2,
      "outputs": [
        {
          "output_type": "stream",
          "text": [
            "Downloading and unzipping test file.\n"
          ],
          "name": "stdout"
        }
      ]
    },
    {
      "cell_type": "markdown",
      "metadata": {
        "id": "w66tjfzNHMcw"
      },
      "source": [
        "#Separate the data into Train, Validatation, and Test folders\n",
        " while maintaining the difference between fake and real image."
      ]
    },
    {
      "cell_type": "code",
      "metadata": {
        "id": "yN-me6o8IEQk"
      },
      "source": [
        "#create the directory paths\n",
        "!mkdir SplitDataset\n",
        "!mkdir SplitDataset/train\n",
        "!mkdir SplitDataset/test\n",
        "!mkdir SplitDataset/valid\n",
        "!mkdir SplitDataset/train/real\n",
        "!mkdir SplitDataset/train/fake\n",
        "!mkdir SplitDataset/test/real\n",
        "!mkdir SplitDataset/test/fake\n",
        "!mkdir SplitDataset/valid/real\n",
        "!mkdir SplitDataset/valid/fake\n",
        "!mkdir FullDataset\n",
        "!mkdir FullDataset/real\n",
        "!mkdir FullDataset/fake"
      ],
      "execution_count": 3,
      "outputs": []
    },
    {
      "cell_type": "code",
      "metadata": {
        "id": "UjcTUnhTOtcJ"
      },
      "source": [
        "#in case needs to be reset.\n",
        "# !rm SplitDataset/train/real/*\n",
        "# !rm SplitDataset/train/fake/*\n",
        "# !rm SplitDataset/test/real/*\n",
        "# !rm SplitDataset/test/fake/*\n",
        "# !rm SplitDataset/valid/real/*\n",
        "# !rm SplitDataset/valid/fake/*"
      ],
      "execution_count": 4,
      "outputs": []
    },
    {
      "cell_type": "code",
      "metadata": {
        "id": "gMeM2-0PJP4d"
      },
      "source": [
        "\n",
        "#save all real file names to list\n",
        "import os\n",
        "count = 0\n",
        "realFileNames = list()\n",
        "fakeFileNames = list()\n",
        "for filename in os.listdir('/content/Real_Images'):\n",
        "  realFileNames.append(filename)\n",
        "\n",
        "#save all fake file names to list\n",
        "for filename in os.listdir('/content/Fake_Images'):\n",
        "  fakeFileNames.append(filename)\n",
        "\n"
      ],
      "execution_count": 5,
      "outputs": []
    },
    {
      "cell_type": "code",
      "metadata": {
        "colab": {
          "base_uri": "https://localhost:8080/"
        },
        "id": "7rYawiuYOZLT",
        "outputId": "d1310a8e-e561-4807-80a9-8521f22daf34"
      },
      "source": [
        "print(len(realFileNames))\n",
        "print(len(fakeFileNames))"
      ],
      "execution_count": 6,
      "outputs": [
        {
          "output_type": "stream",
          "text": [
            "503\n",
            "361\n"
          ],
          "name": "stdout"
        }
      ]
    },
    {
      "cell_type": "code",
      "metadata": {
        "id": "-nKS8WaHKbEI"
      },
      "source": [
        "import random\n",
        "import os\n",
        "import imageio\n",
        "#split real file names into\n",
        "#train valid and test\n",
        "random.shuffle(realFileNames)\n",
        "count = 0\n",
        "for file in realFileNames:\n",
        "  imageio.imwrite('/content/FullDataset/real/' + file, imageio.imread('/content/Real_Images/' + file))\n",
        "  if count < len(realFileNames) * 3 / 5: #first 60%\n",
        "    # print(\"Train dataset\" + str(count))\n",
        "    imageio.imwrite('/content/SplitDataset/train/real/' + file, imageio.imread('/content/Real_Images/' + file))\n",
        "\n",
        "  elif count < len(realFileNames) * 4 / 5: #20% after 60%\n",
        "    # print(\"Valid dataset\" + str(count))\n",
        "    imageio.imwrite('/content/SplitDataset/valid/real/' + file, imageio.imread('/content/Real_Images/' + file))\n",
        "\n",
        "  else: #Last 20 percent\n",
        "    #Test\n",
        "    imageio.imwrite('/content/SplitDataset/test/real/' + file, imageio.imread('/content/Real_Images/' + file))\n",
        "\n",
        "  count += 1;\n",
        "#same with fake\n",
        "random.shuffle(fakeFileNames)\n",
        "count = 0\n",
        "for file in fakeFileNames:\n",
        "  imageio.imwrite('/content/FullDataset/fake/' + file, imageio.imread('/content/Fake_Images/' + file))\n",
        "  if count < len(fakeFileNames) * 3 / 5: #first 60%\n",
        "    # print(\"Train dataset\" + str(count))\n",
        "    imageio.imwrite('/content/SplitDataset/train/fake/' + file, imageio.imread('/content/Fake_Images/' + file))\n",
        "\n",
        "  elif count < len(fakeFileNames) * 4 / 5: #20% after 60%\n",
        "    # print(\"Valid dataset\" + str(count))\n",
        "    imageio.imwrite('/content/SplitDataset/valid/fake/' + file, imageio.imread('/content/Fake_Images/' + file))\n",
        "\n",
        "  else: #Last 20 percent\n",
        "    #Test\n",
        "    imageio.imwrite('/content/SplitDataset/test/fake/' + file, imageio.imread('/content/Fake_Images/' + file))\n",
        "  \n",
        "  count += 1;\n"
      ],
      "execution_count": 7,
      "outputs": []
    },
    {
      "cell_type": "code",
      "metadata": {
        "colab": {
          "base_uri": "https://localhost:8080/"
        },
        "id": "AxQn8gYuHSED",
        "outputId": "e05c9470-8692-4940-92d8-6f4d7086dba8"
      },
      "source": [
        "base_dir = 'SplitDataset'\n",
        "train_dir = os.path.join(base_dir, 'train')\n",
        "validation_dir = os.path.join(base_dir, 'valid')\n",
        "test_dir = os.path.join(base_dir, 'test')\n",
        "\n",
        "for s in os.listdir(base_dir):\n",
        "  for origin in os.listdir(base_dir+'/'+s):\n",
        "    print(base_dir+'/'+s+'/'+origin+': '+str(len(os.listdir(base_dir+'/'+s+'/'+origin))))\n",
        "  print('-----')"
      ],
      "execution_count": 8,
      "outputs": [
        {
          "output_type": "stream",
          "text": [
            "SplitDataset/test/real: 100\n",
            "SplitDataset/test/fake: 72\n",
            "-----\n",
            "SplitDataset/valid/real: 101\n",
            "SplitDataset/valid/fake: 72\n",
            "-----\n",
            "SplitDataset/train/real: 302\n",
            "SplitDataset/train/fake: 217\n",
            "-----\n"
          ],
          "name": "stdout"
        }
      ]
    },
    {
      "cell_type": "markdown",
      "metadata": {
        "id": "yZhK-QmJ45sE"
      },
      "source": [
        "# Overfitting Model with all the data"
      ]
    },
    {
      "cell_type": "code",
      "metadata": {
        "colab": {
          "base_uri": "https://localhost:8080/"
        },
        "id": "Q8scSExO38Uv",
        "outputId": "f28c47fe-e413-4f92-b0b3-d3aa3d1f188f"
      },
      "source": [
        "from keras.preprocessing.image import ImageDataGenerator\n",
        "from keras.callbacks import EarlyStopping\n",
        "import matplotlib.pyplot as plt\n",
        "from keras import layers\n",
        "from keras import models\n",
        "from keras.preprocessing import image\n",
        "import matplotlib.pyplot as plt\n",
        "import numpy as np\n",
        "\n",
        "full_datagen = ImageDataGenerator(rescale=1./255,\n",
        "    rotation_range=10,\n",
        "    brightness_range=[0.8,1.2],\n",
        "    fill_mode='nearest' \n",
        "    )\n",
        "\n",
        "full_generator = full_datagen.flow_from_directory(\n",
        "        '/content/FullDataset',\n",
        "        target_size=(256, 256),\n",
        "        batch_size=4,\n",
        "        class_mode='categorical',\n",
        "        color_mode='grayscale')\n",
        "class_dictionary = full_generator.class_indices\n",
        "print(class_dictionary)"
      ],
      "execution_count": 9,
      "outputs": [
        {
          "output_type": "stream",
          "text": [
            "Found 864 images belonging to 2 classes.\n",
            "{'fake': 0, 'real': 1}\n"
          ],
          "name": "stdout"
        }
      ]
    },
    {
      "cell_type": "code",
      "metadata": {
        "colab": {
          "base_uri": "https://localhost:8080/"
        },
        "id": "0K1S49nvGiDp",
        "outputId": "1f5e5e50-78b2-4a29-81b4-0e6c9c5017b6"
      },
      "source": [
        "#get a validation set generator\n",
        "validate_datagen = ImageDataGenerator(rescale=1./255)\n",
        "validation_generator = validate_datagen.flow_from_directory(\n",
        "        validation_dir,\n",
        "        target_size=(256, 256),\n",
        "        batch_size=4,\n",
        "        class_mode='categorical',\n",
        "        color_mode='grayscale')"
      ],
      "execution_count": 10,
      "outputs": [
        {
          "output_type": "stream",
          "text": [
            "Found 173 images belonging to 2 classes.\n"
          ],
          "name": "stdout"
        }
      ]
    },
    {
      "cell_type": "code",
      "metadata": {
        "id": "-JRm3BjrT9lL"
      },
      "source": [
        "# #trying to switch to binary\n",
        "# full_datagen = ImageDataGenerator(rescale=1./255,\n",
        "#     rotation_range=10,\n",
        "#     brightness_range=[0.8,1.2],\n",
        "#     fill_mode='nearest' \n",
        "#     )\n",
        "\n",
        "# full_generator = full_datagen.flow_from_directory(\n",
        "#         '/content/FullDataset',\n",
        "#         target_size=(256, 256),\n",
        "#         batch_size=4,\n",
        "#         class_mode='binary',\n",
        "#         color_mode='grayscale')\n",
        "# class_dictionary = full_generator.class_indices\n",
        "# print(class_dictionary)"
      ],
      "execution_count": null,
      "outputs": []
    },
    {
      "cell_type": "code",
      "metadata": {
        "colab": {
          "base_uri": "https://localhost:8080/"
        },
        "id": "WA6tlR6W4-4M",
        "outputId": "8d6c6b52-8224-450f-e321-e1f4aad3ebeb"
      },
      "source": [
        "from tensorflow.keras.models import Sequential\n",
        "from tensorflow.keras.layers import Dense, Conv2D, Flatten, MaxPool2D\n",
        "\n",
        "modelOverfit = Sequential()\n",
        "modelOverfit.add( Conv2D( 64, ( 3, 3 ), activation = 'relu', input_shape=(256, 256, 1) ) )\n",
        "modelOverfit.add( MaxPool2D(4, 4) )\n",
        "modelOverfit.add( Conv2D( 32, ( 3, 3 ), activation = 'relu' ) )\n",
        "modelOverfit.add( MaxPool2D(4, 4) )\n",
        "modelOverfit.add( Conv2D( 16, ( 3, 3 ), activation = 'relu' ) )\n",
        "modelOverfit.add( Flatten() )\n",
        "modelOverfit.add( Dense( 10, activation = 'relu' ) )\n",
        "modelOverfit.add( Dense( 2, activation = 'sigmoid' ) )\n",
        "modelOverfit.summary()"
      ],
      "execution_count": null,
      "outputs": [
        {
          "output_type": "stream",
          "text": [
            "Model: \"sequential_11\"\n",
            "_________________________________________________________________\n",
            "Layer (type)                 Output Shape              Param #   \n",
            "=================================================================\n",
            "conv2d_28 (Conv2D)           (None, 254, 254, 64)      640       \n",
            "_________________________________________________________________\n",
            "max_pooling2d_19 (MaxPooling (None, 63, 63, 64)        0         \n",
            "_________________________________________________________________\n",
            "conv2d_29 (Conv2D)           (None, 61, 61, 32)        18464     \n",
            "_________________________________________________________________\n",
            "max_pooling2d_20 (MaxPooling (None, 15, 15, 32)        0         \n",
            "_________________________________________________________________\n",
            "conv2d_30 (Conv2D)           (None, 13, 13, 16)        4624      \n",
            "_________________________________________________________________\n",
            "flatten_11 (Flatten)         (None, 2704)              0         \n",
            "_________________________________________________________________\n",
            "dense_21 (Dense)             (None, 10)                27050     \n",
            "_________________________________________________________________\n",
            "dense_22 (Dense)             (None, 2)                 22        \n",
            "=================================================================\n",
            "Total params: 50,800\n",
            "Trainable params: 50,800\n",
            "Non-trainable params: 0\n",
            "_________________________________________________________________\n"
          ],
          "name": "stdout"
        }
      ]
    },
    {
      "cell_type": "code",
      "metadata": {
        "id": "J0TDTQJL5BpJ"
      },
      "source": [
        "modelOverfit.compile( optimizer = 'adam', loss = 'binary_crossentropy', metrics = [ 'accuracy' ] )"
      ],
      "execution_count": null,
      "outputs": []
    },
    {
      "cell_type": "code",
      "metadata": {
        "colab": {
          "base_uri": "https://localhost:8080/"
        },
        "id": "Buik8aRW5Dhe",
        "outputId": "8668891a-e98c-49c1-b22e-3889a7fb8014"
      },
      "source": [
        "history = modelOverfit.fit( full_generator, validation_data=validation_generator, epochs = 25, batch_size = 64 )"
      ],
      "execution_count": null,
      "outputs": [
        {
          "output_type": "stream",
          "text": [
            "Epoch 1/25\n",
            "216/216 [==============================] - 7s 29ms/step - loss: 0.6767 - accuracy: 0.6081 - val_loss: 0.5365 - val_accuracy: 0.5838\n",
            "Epoch 2/25\n",
            "216/216 [==============================] - 6s 29ms/step - loss: 0.5453 - accuracy: 0.6911 - val_loss: 0.4521 - val_accuracy: 0.8497\n",
            "Epoch 3/25\n",
            "216/216 [==============================] - 6s 29ms/step - loss: 0.4749 - accuracy: 0.8063 - val_loss: 0.4103 - val_accuracy: 0.8902\n",
            "Epoch 4/25\n",
            "216/216 [==============================] - 6s 29ms/step - loss: 0.4465 - accuracy: 0.8198 - val_loss: 0.3173 - val_accuracy: 0.8960\n",
            "Epoch 5/25\n",
            "216/216 [==============================] - 6s 29ms/step - loss: 0.3588 - accuracy: 0.9019 - val_loss: 0.2702 - val_accuracy: 0.9422\n",
            "Epoch 6/25\n",
            "216/216 [==============================] - 6s 29ms/step - loss: 0.3315 - accuracy: 0.9008 - val_loss: 0.2495 - val_accuracy: 0.9711\n",
            "Epoch 7/25\n",
            "216/216 [==============================] - 6s 29ms/step - loss: 0.3152 - accuracy: 0.9098 - val_loss: 0.2336 - val_accuracy: 0.9827\n",
            "Epoch 8/25\n",
            "216/216 [==============================] - 6s 29ms/step - loss: 0.2619 - accuracy: 0.9371 - val_loss: 0.1972 - val_accuracy: 0.9884\n",
            "Epoch 9/25\n",
            "216/216 [==============================] - 6s 29ms/step - loss: 0.2351 - accuracy: 0.9461 - val_loss: 0.2152 - val_accuracy: 0.9711\n",
            "Epoch 10/25\n",
            "216/216 [==============================] - 6s 29ms/step - loss: 0.2097 - accuracy: 0.9596 - val_loss: 0.1667 - val_accuracy: 0.9884\n",
            "Epoch 11/25\n",
            "216/216 [==============================] - 6s 29ms/step - loss: 0.2012 - accuracy: 0.9576 - val_loss: 0.1642 - val_accuracy: 0.9769\n",
            "Epoch 12/25\n",
            "216/216 [==============================] - 6s 29ms/step - loss: 0.1920 - accuracy: 0.9550 - val_loss: 0.1450 - val_accuracy: 0.9827\n",
            "Epoch 13/25\n",
            "216/216 [==============================] - 6s 29ms/step - loss: 0.1759 - accuracy: 0.9680 - val_loss: 0.1269 - val_accuracy: 0.9769\n",
            "Epoch 14/25\n",
            "216/216 [==============================] - 6s 29ms/step - loss: 0.1423 - accuracy: 0.9761 - val_loss: 0.2546 - val_accuracy: 0.9133\n",
            "Epoch 15/25\n",
            "216/216 [==============================] - 6s 29ms/step - loss: 0.1467 - accuracy: 0.9724 - val_loss: 0.0968 - val_accuracy: 1.0000\n",
            "Epoch 16/25\n",
            "216/216 [==============================] - 6s 29ms/step - loss: 0.1117 - accuracy: 0.9829 - val_loss: 0.1011 - val_accuracy: 0.9769\n",
            "Epoch 17/25\n",
            "216/216 [==============================] - 6s 29ms/step - loss: 0.1328 - accuracy: 0.9685 - val_loss: 0.1762 - val_accuracy: 0.9538\n",
            "Epoch 18/25\n",
            "216/216 [==============================] - 6s 29ms/step - loss: 0.1076 - accuracy: 0.9805 - val_loss: 0.1091 - val_accuracy: 0.9827\n",
            "Epoch 19/25\n",
            "216/216 [==============================] - 6s 29ms/step - loss: 0.1048 - accuracy: 0.9798 - val_loss: 0.0917 - val_accuracy: 0.9942\n",
            "Epoch 20/25\n",
            "216/216 [==============================] - 6s 29ms/step - loss: 0.0896 - accuracy: 0.9840 - val_loss: 0.0670 - val_accuracy: 1.0000\n",
            "Epoch 21/25\n",
            "216/216 [==============================] - 6s 29ms/step - loss: 0.0811 - accuracy: 0.9879 - val_loss: 0.0993 - val_accuracy: 0.9711\n",
            "Epoch 22/25\n",
            "216/216 [==============================] - 6s 29ms/step - loss: 0.0981 - accuracy: 0.9742 - val_loss: 0.0706 - val_accuracy: 0.9942\n",
            "Epoch 23/25\n",
            "216/216 [==============================] - 6s 29ms/step - loss: 0.0764 - accuracy: 0.9880 - val_loss: 0.0572 - val_accuracy: 0.9942\n",
            "Epoch 24/25\n",
            "216/216 [==============================] - 6s 29ms/step - loss: 0.0720 - accuracy: 0.9857 - val_loss: 0.1296 - val_accuracy: 0.9422\n",
            "Epoch 25/25\n",
            "216/216 [==============================] - 6s 29ms/step - loss: 0.0632 - accuracy: 0.9930 - val_loss: 0.0487 - val_accuracy: 1.0000\n"
          ],
          "name": "stdout"
        }
      ]
    },
    {
      "cell_type": "markdown",
      "metadata": {
        "id": "mb_0I8zzreNd"
      },
      "source": [
        "# Data Generator Output as Input"
      ]
    },
    {
      "cell_type": "code",
      "metadata": {
        "id": "PjjIYE74rke1"
      },
      "source": [
        "# Empty placeholders for 2000 Grayscale images and their labels\n",
        "mydatax = np.zeros((2000, 256, 256, 1))\n",
        "mydatay = np.zeros((2000, 2))\n",
        "# Read everything from your generator\n",
        "i = 0;\n",
        "j = 0;\n",
        "maxI = 2000 / 4\n",
        "for x, y in full_generator:\n",
        "  #  print(x.shape)\n",
        "  #  print(y)\n",
        "  #  print(mydatax[j, :, :].shape)\n",
        "   mydatax[j] = x[0]\n",
        "   mydatay[j] = y[0]\n",
        "   j+=1\n",
        "\n",
        "   mydatax[j] = x[1]\n",
        "   mydatay[j] = y[1]\n",
        "   j+=1\n",
        "   mydatax[j] = x[2]\n",
        "   mydatay[j] = y[2]\n",
        "   j+=1\n",
        "   mydatax[j] = x[3]\n",
        "   mydatay[j] = y[3]\n",
        "   j+=1\n",
        "   i+=1\n",
        "   if i == maxI:\n",
        "     break"
      ],
      "execution_count": 11,
      "outputs": []
    },
    {
      "cell_type": "code",
      "metadata": {
        "colab": {
          "base_uri": "https://localhost:8080/"
        },
        "id": "KY4w31bquL0A",
        "outputId": "9536b92f-93b5-4efc-b0c7-003147843a2e"
      },
      "source": [
        "print(mydatax.shape)\n",
        "print(mydatay.shape)"
      ],
      "execution_count": 12,
      "outputs": [
        {
          "output_type": "stream",
          "text": [
            "(2000, 256, 256, 1)\n",
            "(2000, 2)\n"
          ],
          "name": "stdout"
        }
      ]
    },
    {
      "cell_type": "code",
      "metadata": {
        "colab": {
          "base_uri": "https://localhost:8080/"
        },
        "id": "i0wjyavCuqYo",
        "outputId": "88eed793-0a77-4087-aa20-892adde5b1fd"
      },
      "source": [
        "print(mydatay[:20])"
      ],
      "execution_count": 13,
      "outputs": [
        {
          "output_type": "stream",
          "text": [
            "[[1. 0.]\n",
            " [1. 0.]\n",
            " [0. 1.]\n",
            " [1. 0.]\n",
            " [1. 0.]\n",
            " [1. 0.]\n",
            " [1. 0.]\n",
            " [0. 1.]\n",
            " [0. 1.]\n",
            " [0. 1.]\n",
            " [0. 1.]\n",
            " [0. 1.]\n",
            " [1. 0.]\n",
            " [1. 0.]\n",
            " [1. 0.]\n",
            " [0. 1.]\n",
            " [0. 1.]\n",
            " [0. 1.]\n",
            " [0. 1.]\n",
            " [0. 1.]]\n"
          ],
          "name": "stdout"
        }
      ]
    },
    {
      "cell_type": "code",
      "metadata": {
        "id": "rit3k6ZAdJda"
      },
      "source": [
        "#newDataY = categorical to binary\n",
        "newDataY = np.zeros((2000, 1))\n",
        "for i, yPair in enumerate(mydatay):\n",
        "  if yPair[0] == 0:\n",
        "    newDataY[i] = 0\n",
        "  else:\n",
        "    newDataY[i] = 1"
      ],
      "execution_count": 14,
      "outputs": []
    },
    {
      "cell_type": "code",
      "metadata": {
        "colab": {
          "base_uri": "https://localhost:8080/"
        },
        "id": "zoQMgmf0d3M4",
        "outputId": "761ec9e1-69aa-49e8-cb42-a9374dd0094d"
      },
      "source": [
        "print(newDataY[:20])\n",
        "print(mydatay[:20])\n"
      ],
      "execution_count": 15,
      "outputs": [
        {
          "output_type": "stream",
          "text": [
            "[[1.]\n",
            " [1.]\n",
            " [0.]\n",
            " [1.]\n",
            " [1.]\n",
            " [1.]\n",
            " [1.]\n",
            " [0.]\n",
            " [0.]\n",
            " [0.]\n",
            " [0.]\n",
            " [0.]\n",
            " [1.]\n",
            " [1.]\n",
            " [1.]\n",
            " [0.]\n",
            " [0.]\n",
            " [0.]\n",
            " [0.]\n",
            " [0.]]\n",
            "[[1. 0.]\n",
            " [1. 0.]\n",
            " [0. 1.]\n",
            " [1. 0.]\n",
            " [1. 0.]\n",
            " [1. 0.]\n",
            " [1. 0.]\n",
            " [0. 1.]\n",
            " [0. 1.]\n",
            " [0. 1.]\n",
            " [0. 1.]\n",
            " [0. 1.]\n",
            " [1. 0.]\n",
            " [1. 0.]\n",
            " [1. 0.]\n",
            " [0. 1.]\n",
            " [0. 1.]\n",
            " [0. 1.]\n",
            " [0. 1.]\n",
            " [0. 1.]]\n"
          ],
          "name": "stdout"
        }
      ]
    },
    {
      "cell_type": "code",
      "metadata": {
        "id": "ZK8xFD1jtlQb"
      },
      "source": [
        "# # Example of how to use output labels as additional input channel\n",
        "# import numpy as np\n",
        "# N = len(mydatax[:, 0, 0, 0])\n",
        "# L = len(mydatax[0, :, 0, 0])\n",
        "# xtrain_with_outputlabels = np.zeros((N, L, L, 2))\n",
        "# for i in range(len(mydatax)):\n",
        "#    existing = mydatax[i, :, :, :]\n",
        "#    newchannel = np.full((L, L), newDataY[i])\n",
        "#    newchannel = newchannel.reshape(L, L, 1)\n",
        "#    x = np.concatenate((existing, newchannel), axis = -1)\n",
        "#    print(existing.shape, newchannel.shape, x.shape)\n",
        "#    xtrain_with_outputlabels[i] = x\n",
        "#    break"
      ],
      "execution_count": null,
      "outputs": []
    },
    {
      "cell_type": "code",
      "metadata": {
        "id": "FiThac6ug6RH"
      },
      "source": [
        "# import numpy as np\n",
        "# N = len(mydatax[:, 0, 0, 0])\n",
        "# L = len(mydatax[0, :, 0, 0])\n",
        "# xtrain_with_outputlabels = np.zeros((N, L, L, 1))\n",
        "# #append newDataY to mydatax\n",
        "# print(mydatax.shape)\n",
        "# print(newDataY.shape)\n",
        "# xtrain_with_outputlabels = np.concatenate((mydatax, newDataY), axis=-1) #axis is 3 since we already have 4 columns we want a fourth"
      ],
      "execution_count": null,
      "outputs": []
    },
    {
      "cell_type": "code",
      "metadata": {
        "id": "OevxJVwBjFa9"
      },
      "source": [
        "N = len(mydatax[:, 0, 0, 0])\n",
        "L = len(mydatax[0, :, 0, 0])\n",
        "xtrain_with_outputlabels = np.zeros((N, L, L, 2))\n",
        "for i in range(N): #runs for 2000\n",
        "  # print(mydatax[i,:,:,0].shape)\n",
        "  # print(xtrain_with_outputlabels[i,:,:,0].shape)\n",
        "  xtrain_with_outputlabels[i, :, :, 0] = mydatax[i,:,:,0]\n",
        "  xtrain_with_outputlabels[i, :, :, 1] = newDataY[i]\n"
      ],
      "execution_count": 16,
      "outputs": []
    },
    {
      "cell_type": "code",
      "metadata": {
        "colab": {
          "base_uri": "https://localhost:8080/"
        },
        "id": "WRn98hlX2lfQ",
        "outputId": "796d6053-f606-4afa-8aab-807033e288ce"
      },
      "source": [
        "xtrain_with_outputlabels[0, :, :, :].shape"
      ],
      "execution_count": 17,
      "outputs": [
        {
          "output_type": "execute_result",
          "data": {
            "text/plain": [
              "(256, 256, 2)"
            ]
          },
          "metadata": {
            "tags": []
          },
          "execution_count": 17
        }
      ]
    },
    {
      "cell_type": "code",
      "metadata": {
        "id": "45n1swEGwBoV"
      },
      "source": [
        "\n",
        "from tensorflow.keras.models import Sequential\n",
        "from tensorflow.keras.layers import Dense, Conv2D, Flatten, MaxPool2D\n",
        "\n",
        "model = Sequential()\n",
        "model.add( Conv2D( 64, ( 3, 3 ), activation = 'relu', input_shape = xtrain_with_outputlabels[0, :, :, :].shape ) )\n",
        "model.add( MaxPool2D(4, 4) )\n",
        "model.add( Conv2D( 32, ( 3, 3 ), activation = 'relu' ) )\n",
        "model.add( MaxPool2D(4, 4) )\n",
        "model.add( Conv2D( 16, ( 3, 3 ), activation = 'relu' ) )\n",
        "model.add( Flatten() )\n",
        "model.add( Dense( 10, activation = 'relu' ) )\n",
        "model.add( Dense( 1, activation = 'sigmoid' ) )\n",
        "model.compile( optimizer = 'adam', loss = 'binary_crossentropy', metrics = [ 'accuracy' ] )\n"
      ],
      "execution_count": null,
      "outputs": []
    },
    {
      "cell_type": "code",
      "metadata": {
        "colab": {
          "base_uri": "https://localhost:8080/"
        },
        "id": "lH3RfE4de3be",
        "outputId": "4ac3507f-0ef2-4bcb-c8c1-89e015d448f3"
      },
      "source": [
        "# Train using the training set and evaluate using the validation set\n",
        "historyOutputInput = model.fit( xtrain_with_outputlabels, newDataY, epochs = 5, batch_size = 64 )"
      ],
      "execution_count": null,
      "outputs": [
        {
          "output_type": "stream",
          "text": [
            "Epoch 1/5\n",
            "32/32 [==============================] - 37s 89ms/step - loss: 0.3477 - accuracy: 0.8663\n",
            "Epoch 2/5\n",
            "32/32 [==============================] - 3s 81ms/step - loss: 1.8713e-06 - accuracy: 1.0000\n",
            "Epoch 3/5\n",
            "32/32 [==============================] - 3s 80ms/step - loss: 3.0931e-08 - accuracy: 1.0000\n",
            "Epoch 4/5\n",
            "32/32 [==============================] - 3s 80ms/step - loss: 1.3857e-08 - accuracy: 1.0000\n",
            "Epoch 5/5\n",
            "32/32 [==============================] - 3s 80ms/step - loss: 2.2460e-08 - accuracy: 1.0000\n"
          ],
          "name": "stdout"
        }
      ]
    },
    {
      "cell_type": "markdown",
      "metadata": {
        "id": "zLFmCABJnlAB"
      },
      "source": [
        "**We overfit in 2 epoches here, so we can definetly decrease the model size and still overfit I think.**\n",
        "\n",
        "\n"
      ]
    },
    {
      "cell_type": "code",
      "metadata": {
        "colab": {
          "base_uri": "https://localhost:8080/"
        },
        "id": "fDN27PGontZU",
        "outputId": "922f0054-81c6-46ed-afc3-e4073416a519"
      },
      "source": [
        "model2 = Sequential()\n",
        "model2.add( Conv2D( 32, ( 3, 3 ), activation = 'relu', input_shape = xtrain_with_outputlabels[0, :, :, :].shape ) )\n",
        "model2.add( MaxPool2D(4, 4) )\n",
        "model2.add( Conv2D( 16, ( 3, 3 ), activation = 'relu' ) )\n",
        "model2.add( Flatten() )\n",
        "model2.add( Dense( 10, activation = 'relu' ) )\n",
        "model2.add( Dense( 1, activation = 'sigmoid' ) )\n",
        "model2.compile( optimizer = 'adam', loss = 'binary_crossentropy', metrics = [ 'accuracy' ] )\n",
        "historyOutputInput2 = model2.fit( xtrain_with_outputlabels, newDataY, epochs = 5, batch_size = 64 )"
      ],
      "execution_count": null,
      "outputs": [
        {
          "output_type": "stream",
          "text": [
            "Epoch 1/5\n",
            "32/32 [==============================] - 4s 74ms/step - loss: 0.1077 - accuracy: 0.9361\n",
            "Epoch 2/5\n",
            "32/32 [==============================] - 2s 65ms/step - loss: 1.1847e-11 - accuracy: 1.0000\n",
            "Epoch 3/5\n",
            "32/32 [==============================] - 2s 66ms/step - loss: 2.6868e-12 - accuracy: 1.0000\n",
            "Epoch 4/5\n",
            "32/32 [==============================] - 2s 65ms/step - loss: 2.6223e-12 - accuracy: 1.0000\n",
            "Epoch 5/5\n",
            "32/32 [==============================] - 2s 65ms/step - loss: 5.9888e-12 - accuracy: 1.0000\n"
          ],
          "name": "stdout"
        }
      ]
    },
    {
      "cell_type": "markdown",
      "metadata": {
        "id": "txgRPC7boEQJ"
      },
      "source": [
        "**Still overfitting.**"
      ]
    },
    {
      "cell_type": "code",
      "metadata": {
        "colab": {
          "base_uri": "https://localhost:8080/"
        },
        "id": "G6bqte9AoJUu",
        "outputId": "f922cbde-c7dd-4ff0-9284-a82da48ae7de"
      },
      "source": [
        "model3 = Sequential()\n",
        "model3.add( Conv2D( 16, ( 3, 3 ), activation = 'relu', input_shape = xtrain_with_outputlabels[0, :, :, :].shape ) )\n",
        "model3.add( Flatten() )\n",
        "model3.add( Dense( 10, activation = 'relu' ) )\n",
        "model3.add( Dense( 1, activation = 'sigmoid' ) )\n",
        "model3.compile( optimizer = 'adam', loss = 'binary_crossentropy', metrics = [ 'accuracy' ] )\n",
        "historyOutputInput3 = model3.fit( xtrain_with_outputlabels, newDataY, epochs = 5, batch_size = 64 )"
      ],
      "execution_count": null,
      "outputs": [
        {
          "output_type": "stream",
          "text": [
            "Epoch 1/5\n",
            "32/32 [==============================] - 3s 53ms/step - loss: 0.0806 - accuracy: 0.9380\n",
            "Epoch 2/5\n",
            "32/32 [==============================] - 2s 47ms/step - loss: 4.1358e-16 - accuracy: 1.0000\n",
            "Epoch 3/5\n",
            "32/32 [==============================] - 2s 48ms/step - loss: 2.5116e-16 - accuracy: 1.0000\n",
            "Epoch 4/5\n",
            "32/32 [==============================] - 1s 47ms/step - loss: 1.7392e-16 - accuracy: 1.0000\n",
            "Epoch 5/5\n",
            "32/32 [==============================] - 2s 48ms/step - loss: 4.0300e-16 - accuracy: 1.0000\n"
          ],
          "name": "stdout"
        }
      ]
    },
    {
      "cell_type": "code",
      "metadata": {
        "colab": {
          "base_uri": "https://localhost:8080/"
        },
        "id": "Nztx9IAyoTeC",
        "outputId": "22e22dff-6a14-4927-e3f4-d623246ab8ea"
      },
      "source": [
        "model4 = Sequential()\n",
        "model4.add( Conv2D( 16, ( 3, 3 ), activation = 'relu', input_shape = xtrain_with_outputlabels[0, :, :, :].shape ) )\n",
        "model4.add( Flatten() )\n",
        "model4.add( Dense( 1, activation = 'sigmoid' ) )\n",
        "model4.compile( optimizer = 'adam', loss = 'binary_crossentropy', metrics = [ 'accuracy' ] )\n",
        "historyOutputInput4 = model4.fit( xtrain_with_outputlabels, newDataY, epochs = 5, batch_size = 64 )"
      ],
      "execution_count": null,
      "outputs": [
        {
          "output_type": "stream",
          "text": [
            "Epoch 1/5\n",
            "32/32 [==============================] - 35s 48ms/step - loss: 0.0769 - accuracy: 0.9632\n",
            "Epoch 2/5\n",
            "32/32 [==============================] - 1s 44ms/step - loss: 0.0000e+00 - accuracy: 1.0000\n",
            "Epoch 3/5\n",
            "32/32 [==============================] - 1s 43ms/step - loss: 0.0000e+00 - accuracy: 1.0000\n",
            "Epoch 4/5\n",
            "32/32 [==============================] - 1s 44ms/step - loss: 0.0000e+00 - accuracy: 1.0000\n",
            "Epoch 5/5\n",
            "32/32 [==============================] - 1s 44ms/step - loss: 0.0000e+00 - accuracy: 1.0000\n"
          ],
          "name": "stdout"
        }
      ]
    },
    {
      "cell_type": "code",
      "metadata": {
        "colab": {
          "base_uri": "https://localhost:8080/"
        },
        "id": "sVIdh5mPodcX",
        "outputId": "c78a52aa-15c9-49b4-dde9-6c9c71274e11"
      },
      "source": [
        "model5 = Sequential()\n",
        "model5.add( Conv2D( 8, ( 3, 3 ), activation = 'relu', input_shape = xtrain_with_outputlabels[0, :, :, :].shape ) )\n",
        "model5.add( Flatten() )\n",
        "model5.add( Dense( 1, activation = 'sigmoid' ) )\n",
        "model5.compile( optimizer = 'adam', loss = 'binary_crossentropy', metrics = [ 'accuracy' ] )\n",
        "historyOutputInput5 = model5.fit( xtrain_with_outputlabels, newDataY, epochs = 5, batch_size = 64 )"
      ],
      "execution_count": null,
      "outputs": [
        {
          "output_type": "stream",
          "text": [
            "Epoch 1/5\n",
            "32/32 [==============================] - 2s 37ms/step - loss: 0.0871 - accuracy: 0.9264\n",
            "Epoch 2/5\n",
            "32/32 [==============================] - 1s 33ms/step - loss: 1.9171e-23 - accuracy: 1.0000\n",
            "Epoch 3/5\n",
            "32/32 [==============================] - 1s 33ms/step - loss: 3.0478e-23 - accuracy: 1.0000\n",
            "Epoch 4/5\n",
            "32/32 [==============================] - 1s 32ms/step - loss: 1.2278e-23 - accuracy: 1.0000\n",
            "Epoch 5/5\n",
            "32/32 [==============================] - 1s 32ms/step - loss: 1.8814e-23 - accuracy: 1.0000\n"
          ],
          "name": "stdout"
        }
      ]
    },
    {
      "cell_type": "code",
      "metadata": {
        "colab": {
          "base_uri": "https://localhost:8080/"
        },
        "id": "pf7ysHFqpKy-",
        "outputId": "2795a8a0-77ec-49be-d4c5-f251961842ed"
      },
      "source": [
        "model6 = Sequential()\n",
        "model6.add( Conv2D( 2, ( 3, 3 ), activation = 'relu', input_shape = xtrain_with_outputlabels[0, :, :, :].shape ) )\n",
        "model6.add( Flatten() )\n",
        "model6.add( Dense( 1, activation = 'sigmoid' ) )\n",
        "model6.compile( optimizer = 'adam', loss = 'binary_crossentropy', metrics = [ 'accuracy' ] )\n",
        "historyOutputInput6 = model6.fit( xtrain_with_outputlabels, newDataY, epochs = 5, batch_size = 64 )"
      ],
      "execution_count": null,
      "outputs": [
        {
          "output_type": "stream",
          "text": [
            "Epoch 1/5\n",
            "32/32 [==============================] - 2s 27ms/step - loss: 0.0630 - accuracy: 0.9542\n",
            "Epoch 2/5\n",
            "32/32 [==============================] - 1s 23ms/step - loss: 1.2489e-30 - accuracy: 1.0000\n",
            "Epoch 3/5\n",
            "32/32 [==============================] - 1s 23ms/step - loss: 9.7462e-32 - accuracy: 1.0000\n",
            "Epoch 4/5\n",
            "32/32 [==============================] - 1s 23ms/step - loss: 3.2233e-31 - accuracy: 1.0000\n",
            "Epoch 5/5\n",
            "32/32 [==============================] - 1s 23ms/step - loss: 3.3972e-31 - accuracy: 1.0000\n"
          ],
          "name": "stdout"
        }
      ]
    },
    {
      "cell_type": "code",
      "metadata": {
        "id": "KgFIhLj2qD0c",
        "colab": {
          "base_uri": "https://localhost:8080/"
        },
        "outputId": "88a9823d-0574-49cf-a4d0-0195e06fd6ba"
      },
      "source": [
        "model7 = Sequential()\n",
        "model7.add( Dense( 1, activation = 'relu', input_shape = xtrain_with_outputlabels[0, :, :, :].shape ) )\n",
        "model7.add( Flatten())\n",
        "model7.add( Dense( 1, activation = 'sigmoid' ) )\n",
        "model7.compile( optimizer = 'adam', loss = 'binary_crossentropy', metrics = [ 'accuracy' ] )\n",
        "historyOutputInput7 = model7.fit( xtrain_with_outputlabels, newDataY, epochs = 25, batch_size = 64 )"
      ],
      "execution_count": 25,
      "outputs": [
        {
          "output_type": "stream",
          "text": [
            "Epoch 1/25\n",
            "32/32 [==============================] - 1s 20ms/step - loss: 1.3190 - accuracy: 0.5237\n",
            "Epoch 2/25\n",
            "32/32 [==============================] - 1s 21ms/step - loss: 0.3475 - accuracy: 0.8800\n",
            "Epoch 3/25\n",
            "32/32 [==============================] - 1s 20ms/step - loss: 0.2485 - accuracy: 0.9028\n",
            "Epoch 4/25\n",
            "32/32 [==============================] - 1s 21ms/step - loss: 0.1768 - accuracy: 0.9399\n",
            "Epoch 5/25\n",
            "32/32 [==============================] - 1s 20ms/step - loss: 0.1534 - accuracy: 0.9480\n",
            "Epoch 6/25\n",
            "32/32 [==============================] - 1s 21ms/step - loss: 0.1247 - accuracy: 0.9592\n",
            "Epoch 7/25\n",
            "32/32 [==============================] - 1s 21ms/step - loss: 0.0982 - accuracy: 0.9759\n",
            "Epoch 8/25\n",
            "32/32 [==============================] - 1s 20ms/step - loss: 0.0926 - accuracy: 0.9883\n",
            "Epoch 9/25\n",
            "32/32 [==============================] - 1s 21ms/step - loss: 0.0706 - accuracy: 0.9984\n",
            "Epoch 10/25\n",
            "32/32 [==============================] - 1s 20ms/step - loss: 0.0628 - accuracy: 0.9960\n",
            "Epoch 11/25\n",
            "32/32 [==============================] - 1s 20ms/step - loss: 0.0540 - accuracy: 0.9933\n",
            "Epoch 12/25\n",
            "32/32 [==============================] - 1s 21ms/step - loss: 0.0441 - accuracy: 0.9962\n",
            "Epoch 13/25\n",
            "32/32 [==============================] - 1s 21ms/step - loss: 0.0352 - accuracy: 0.9983\n",
            "Epoch 14/25\n",
            "32/32 [==============================] - 1s 20ms/step - loss: 0.0345 - accuracy: 0.9964\n",
            "Epoch 15/25\n",
            "32/32 [==============================] - 1s 20ms/step - loss: 0.0368 - accuracy: 0.9977\n",
            "Epoch 16/25\n",
            "32/32 [==============================] - 1s 21ms/step - loss: 0.0278 - accuracy: 0.9992\n",
            "Epoch 17/25\n",
            "32/32 [==============================] - 1s 20ms/step - loss: 0.0240 - accuracy: 0.9982\n",
            "Epoch 18/25\n",
            "32/32 [==============================] - 1s 21ms/step - loss: 0.0528 - accuracy: 0.9881\n",
            "Epoch 19/25\n",
            "32/32 [==============================] - 1s 21ms/step - loss: 0.0254 - accuracy: 0.9963\n",
            "Epoch 20/25\n",
            "32/32 [==============================] - 1s 21ms/step - loss: 0.0562 - accuracy: 0.9893\n",
            "Epoch 21/25\n",
            "32/32 [==============================] - 1s 20ms/step - loss: 0.0158 - accuracy: 0.9998\n",
            "Epoch 22/25\n",
            "32/32 [==============================] - 1s 20ms/step - loss: 0.0168 - accuracy: 0.9984\n",
            "Epoch 23/25\n",
            "32/32 [==============================] - 1s 21ms/step - loss: 0.0126 - accuracy: 0.9999\n",
            "Epoch 24/25\n",
            "32/32 [==============================] - 1s 21ms/step - loss: 0.0090 - accuracy: 0.9998\n",
            "Epoch 25/25\n",
            "32/32 [==============================] - 1s 21ms/step - loss: 0.0089 - accuracy: 0.9994\n"
          ],
          "name": "stdout"
        }
      ]
    },
    {
      "cell_type": "markdown",
      "metadata": {
        "id": "BNpLR59FHbBx"
      },
      "source": [
        "I cannot think of a valid model that could be smaller than this one. At least it does not overfit quite as fast."
      ]
    },
    {
      "cell_type": "markdown",
      "metadata": {
        "id": "b0BZaZs7DJBI"
      },
      "source": [
        "# Performance Analysis\n",
        "Goal: Look at the performance of the models when the number of filters and layers are increased and decreased."
      ]
    },
    {
      "cell_type": "markdown",
      "metadata": {
        "id": "T-704teTbplk"
      },
      "source": [
        "## Create alternate models"
      ]
    },
    {
      "cell_type": "code",
      "metadata": {
        "colab": {
          "base_uri": "https://localhost:8080/"
        },
        "id": "mQjfFTQmtrZU",
        "outputId": "71de26df-d276-4533-b392-4e9bcfb7fb73"
      },
      "source": [
        "modelOverfit2 = Sequential()\n",
        "#Increased the input from 64 to 128\n",
        "modelOverfit2.add( Conv2D( 128, ( 3, 3 ), activation = 'relu', input_shape=(256, 256, 1) ) )\n",
        "modelOverfit2.add( MaxPool2D(4, 4) )\n",
        "modelOverfit2.add( Conv2D( 32, ( 3, 3 ), activation = 'relu' ) )\n",
        "modelOverfit2.add( MaxPool2D(4, 4) )\n",
        "modelOverfit2.add( Conv2D( 16, ( 3, 3 ), activation = 'relu' ) )\n",
        "modelOverfit2.add( Flatten() )\n",
        "modelOverfit2.add( Dense( 10, activation = 'relu' ) )\n",
        "modelOverfit2.add( Dense( 2, activation = 'sigmoid' ) )\n",
        "modelOverfit2.summary()\n",
        "modelOverfit2.compile( optimizer = 'adam', loss = 'binary_crossentropy', metrics = [ 'accuracy' ] )\n",
        "history2 = modelOverfit2.fit( full_generator, validation_data=validation_generator, epochs = 25, batch_size = 64 )"
      ],
      "execution_count": null,
      "outputs": [
        {
          "output_type": "stream",
          "text": [
            "Model: \"sequential_3\"\n",
            "_________________________________________________________________\n",
            "Layer (type)                 Output Shape              Param #   \n",
            "=================================================================\n",
            "conv2d_9 (Conv2D)            (None, 254, 254, 128)     1280      \n",
            "_________________________________________________________________\n",
            "max_pooling2d_6 (MaxPooling2 (None, 63, 63, 128)       0         \n",
            "_________________________________________________________________\n",
            "conv2d_10 (Conv2D)           (None, 61, 61, 32)        36896     \n",
            "_________________________________________________________________\n",
            "max_pooling2d_7 (MaxPooling2 (None, 15, 15, 32)        0         \n",
            "_________________________________________________________________\n",
            "conv2d_11 (Conv2D)           (None, 13, 13, 16)        4624      \n",
            "_________________________________________________________________\n",
            "flatten_3 (Flatten)          (None, 2704)              0         \n",
            "_________________________________________________________________\n",
            "dense_6 (Dense)              (None, 10)                27050     \n",
            "_________________________________________________________________\n",
            "dense_7 (Dense)              (None, 2)                 22        \n",
            "=================================================================\n",
            "Total params: 69,872\n",
            "Trainable params: 69,872\n",
            "Non-trainable params: 0\n",
            "_________________________________________________________________\n",
            "Epoch 1/25\n",
            "216/216 [==============================] - 7s 31ms/step - loss: 0.6948 - accuracy: 0.5959 - val_loss: 0.6074 - val_accuracy: 0.5838\n",
            "Epoch 2/25\n",
            "216/216 [==============================] - 7s 31ms/step - loss: 0.6161 - accuracy: 0.5842 - val_loss: 0.5304 - val_accuracy: 0.7861\n",
            "Epoch 3/25\n",
            "216/216 [==============================] - 7s 31ms/step - loss: 0.5085 - accuracy: 0.7392 - val_loss: 0.4736 - val_accuracy: 0.8555\n",
            "Epoch 4/25\n",
            "216/216 [==============================] - 7s 30ms/step - loss: 0.4314 - accuracy: 0.8126 - val_loss: 0.3610 - val_accuracy: 0.8844\n",
            "Epoch 5/25\n",
            "216/216 [==============================] - 7s 30ms/step - loss: 0.3606 - accuracy: 0.8818 - val_loss: 0.3078 - val_accuracy: 0.9249\n",
            "Epoch 6/25\n",
            "216/216 [==============================] - 7s 30ms/step - loss: 0.3379 - accuracy: 0.8822 - val_loss: 0.2822 - val_accuracy: 0.9017\n",
            "Epoch 7/25\n",
            "216/216 [==============================] - 7s 30ms/step - loss: 0.3256 - accuracy: 0.8999 - val_loss: 0.2504 - val_accuracy: 0.9538\n",
            "Epoch 8/25\n",
            "216/216 [==============================] - 7s 30ms/step - loss: 0.2771 - accuracy: 0.9232 - val_loss: 0.2594 - val_accuracy: 0.8902\n",
            "Epoch 9/25\n",
            "216/216 [==============================] - 7s 30ms/step - loss: 0.2664 - accuracy: 0.9211 - val_loss: 0.2085 - val_accuracy: 0.9595\n",
            "Epoch 10/25\n",
            "216/216 [==============================] - 7s 30ms/step - loss: 0.2397 - accuracy: 0.9469 - val_loss: 0.1800 - val_accuracy: 0.9827\n",
            "Epoch 11/25\n",
            "216/216 [==============================] - 7s 31ms/step - loss: 0.1949 - accuracy: 0.9711 - val_loss: 0.1531 - val_accuracy: 0.9884\n",
            "Epoch 12/25\n",
            "216/216 [==============================] - 7s 30ms/step - loss: 0.1897 - accuracy: 0.9521 - val_loss: 0.1474 - val_accuracy: 0.9884\n",
            "Epoch 13/25\n",
            "216/216 [==============================] - 7s 30ms/step - loss: 0.1662 - accuracy: 0.9703 - val_loss: 0.1379 - val_accuracy: 0.9942\n",
            "Epoch 14/25\n",
            "216/216 [==============================] - 7s 30ms/step - loss: 0.1617 - accuracy: 0.9607 - val_loss: 0.1119 - val_accuracy: 0.9942\n",
            "Epoch 15/25\n",
            "216/216 [==============================] - 7s 31ms/step - loss: 0.1439 - accuracy: 0.9772 - val_loss: 0.1075 - val_accuracy: 0.9942\n",
            "Epoch 16/25\n",
            "216/216 [==============================] - 7s 30ms/step - loss: 0.1419 - accuracy: 0.9626 - val_loss: 0.0967 - val_accuracy: 0.9942\n",
            "Epoch 17/25\n",
            "216/216 [==============================] - 7s 30ms/step - loss: 0.1352 - accuracy: 0.9738 - val_loss: 0.0989 - val_accuracy: 0.9942\n",
            "Epoch 18/25\n",
            "216/216 [==============================] - 7s 31ms/step - loss: 0.1402 - accuracy: 0.9711 - val_loss: 0.0828 - val_accuracy: 1.0000\n",
            "Epoch 19/25\n",
            "216/216 [==============================] - 7s 31ms/step - loss: 0.0938 - accuracy: 0.9896 - val_loss: 0.0767 - val_accuracy: 0.9942\n",
            "Epoch 20/25\n",
            "216/216 [==============================] - 7s 31ms/step - loss: 0.1015 - accuracy: 0.9820 - val_loss: 0.0733 - val_accuracy: 1.0000\n",
            "Epoch 21/25\n",
            "216/216 [==============================] - 7s 30ms/step - loss: 0.1059 - accuracy: 0.9790 - val_loss: 0.0867 - val_accuracy: 0.9884\n",
            "Epoch 22/25\n",
            "216/216 [==============================] - 7s 30ms/step - loss: 0.1087 - accuracy: 0.9767 - val_loss: 0.0734 - val_accuracy: 0.9942\n",
            "Epoch 23/25\n",
            "216/216 [==============================] - 7s 30ms/step - loss: 0.0872 - accuracy: 0.9810 - val_loss: 0.1577 - val_accuracy: 0.9364\n",
            "Epoch 24/25\n",
            "216/216 [==============================] - 7s 30ms/step - loss: 0.0704 - accuracy: 0.9819 - val_loss: 0.0509 - val_accuracy: 1.0000\n",
            "Epoch 25/25\n",
            "216/216 [==============================] - 7s 30ms/step - loss: 0.0736 - accuracy: 0.9823 - val_loss: 0.0419 - val_accuracy: 0.9942\n"
          ],
          "name": "stdout"
        }
      ]
    },
    {
      "cell_type": "code",
      "metadata": {
        "colab": {
          "base_uri": "https://localhost:8080/"
        },
        "id": "LHifOQ9Ftw7A",
        "outputId": "86aa4afa-e9fb-486f-8a07-50e13e25eebb"
      },
      "source": [
        "modelOverfit3 = Sequential()\n",
        "modelOverfit3.add( Conv2D( 64, ( 3, 3 ), activation = 'relu', input_shape=(256, 256, 1) ) )\n",
        "modelOverfit3.add( MaxPool2D(4, 4) )\n",
        "#removed this layer\n",
        "# modelOverfit3.add( Conv2D( 32, ( 3, 3 ), activation = 'relu' ) )\n",
        "# modelOverfit3.add( MaxPool2D(4, 4) )\n",
        "modelOverfit3.add( Conv2D( 16, ( 3, 3 ), activation = 'relu' ) )\n",
        "modelOverfit3.add( Flatten() )\n",
        "modelOverfit3.add( Dense( 10, activation = 'relu' ) )\n",
        "modelOverfit3.add( Dense( 2, activation = 'sigmoid' ) )\n",
        "modelOverfit3.summary()\n",
        "modelOverfit3.compile( optimizer = 'adam', loss = 'binary_crossentropy', metrics = [ 'accuracy' ] )\n",
        "history3 = modelOverfit3.fit( full_generator, validation_data=validation_generator, epochs = 25, batch_size = 64 )"
      ],
      "execution_count": null,
      "outputs": [
        {
          "output_type": "stream",
          "text": [
            "Model: \"sequential_4\"\n",
            "_________________________________________________________________\n",
            "Layer (type)                 Output Shape              Param #   \n",
            "=================================================================\n",
            "conv2d_12 (Conv2D)           (None, 254, 254, 64)      640       \n",
            "_________________________________________________________________\n",
            "max_pooling2d_8 (MaxPooling2 (None, 63, 63, 64)        0         \n",
            "_________________________________________________________________\n",
            "conv2d_13 (Conv2D)           (None, 61, 61, 16)        9232      \n",
            "_________________________________________________________________\n",
            "flatten_4 (Flatten)          (None, 59536)             0         \n",
            "_________________________________________________________________\n",
            "dense_8 (Dense)              (None, 10)                595370    \n",
            "_________________________________________________________________\n",
            "dense_9 (Dense)              (None, 2)                 22        \n",
            "=================================================================\n",
            "Total params: 605,264\n",
            "Trainable params: 605,264\n",
            "Non-trainable params: 0\n",
            "_________________________________________________________________\n",
            "Epoch 1/25\n",
            "216/216 [==============================] - 7s 29ms/step - loss: 0.6538 - accuracy: 0.6215 - val_loss: 0.3882 - val_accuracy: 0.8728\n",
            "Epoch 2/25\n",
            "216/216 [==============================] - 6s 29ms/step - loss: 0.4156 - accuracy: 0.7930 - val_loss: 0.3117 - val_accuracy: 0.9075\n",
            "Epoch 3/25\n",
            "216/216 [==============================] - 6s 29ms/step - loss: 0.3191 - accuracy: 0.8648 - val_loss: 0.2671 - val_accuracy: 0.9306\n",
            "Epoch 4/25\n",
            "216/216 [==============================] - 6s 29ms/step - loss: 0.1794 - accuracy: 0.9205 - val_loss: 0.1561 - val_accuracy: 0.9884\n",
            "Epoch 5/25\n",
            "216/216 [==============================] - 6s 29ms/step - loss: 0.1291 - accuracy: 0.9540 - val_loss: 0.1450 - val_accuracy: 0.9595\n",
            "Epoch 6/25\n",
            "216/216 [==============================] - 6s 29ms/step - loss: 0.0745 - accuracy: 0.9712 - val_loss: 0.0638 - val_accuracy: 0.9827\n",
            "Epoch 7/25\n",
            "216/216 [==============================] - 6s 29ms/step - loss: 0.0702 - accuracy: 0.9796 - val_loss: 0.1663 - val_accuracy: 0.9075\n",
            "Epoch 8/25\n",
            "216/216 [==============================] - 6s 29ms/step - loss: 0.0628 - accuracy: 0.9772 - val_loss: 0.0458 - val_accuracy: 0.9827\n",
            "Epoch 9/25\n",
            "216/216 [==============================] - 6s 29ms/step - loss: 0.0468 - accuracy: 0.9864 - val_loss: 0.0368 - val_accuracy: 0.9942\n",
            "Epoch 10/25\n",
            "216/216 [==============================] - 6s 29ms/step - loss: 0.0568 - accuracy: 0.9740 - val_loss: 0.0358 - val_accuracy: 0.9942\n",
            "Epoch 11/25\n",
            "216/216 [==============================] - 6s 29ms/step - loss: 0.0315 - accuracy: 0.9886 - val_loss: 0.0268 - val_accuracy: 0.9942\n",
            "Epoch 12/25\n",
            "216/216 [==============================] - 6s 29ms/step - loss: 0.0383 - accuracy: 0.9848 - val_loss: 0.0727 - val_accuracy: 0.9711\n",
            "Epoch 13/25\n",
            "216/216 [==============================] - 6s 29ms/step - loss: 0.0330 - accuracy: 0.9876 - val_loss: 0.0130 - val_accuracy: 1.0000\n",
            "Epoch 14/25\n",
            "216/216 [==============================] - 6s 29ms/step - loss: 0.0371 - accuracy: 0.9846 - val_loss: 0.0625 - val_accuracy: 0.9769\n",
            "Epoch 15/25\n",
            "216/216 [==============================] - 6s 28ms/step - loss: 0.0322 - accuracy: 0.9858 - val_loss: 0.0242 - val_accuracy: 0.9942\n",
            "Epoch 16/25\n",
            "216/216 [==============================] - 6s 29ms/step - loss: 0.0322 - accuracy: 0.9901 - val_loss: 0.0398 - val_accuracy: 0.9942\n",
            "Epoch 17/25\n",
            "216/216 [==============================] - 6s 29ms/step - loss: 0.0258 - accuracy: 0.9925 - val_loss: 0.0400 - val_accuracy: 1.0000\n",
            "Epoch 18/25\n",
            "216/216 [==============================] - 6s 30ms/step - loss: 0.0537 - accuracy: 0.9875 - val_loss: 0.0290 - val_accuracy: 1.0000\n",
            "Epoch 19/25\n",
            "216/216 [==============================] - 6s 30ms/step - loss: 0.0327 - accuracy: 0.9854 - val_loss: 0.0682 - val_accuracy: 0.9827\n",
            "Epoch 20/25\n",
            "216/216 [==============================] - 6s 29ms/step - loss: 0.0359 - accuracy: 0.9897 - val_loss: 0.0285 - val_accuracy: 0.9942\n",
            "Epoch 21/25\n",
            "216/216 [==============================] - 6s 29ms/step - loss: 0.0164 - accuracy: 0.9946 - val_loss: 0.0366 - val_accuracy: 0.9942\n",
            "Epoch 22/25\n",
            "216/216 [==============================] - 6s 29ms/step - loss: 0.0166 - accuracy: 0.9950 - val_loss: 0.0810 - val_accuracy: 0.9769\n",
            "Epoch 23/25\n",
            "216/216 [==============================] - 6s 29ms/step - loss: 0.0143 - accuracy: 0.9931 - val_loss: 0.1842 - val_accuracy: 0.9306\n",
            "Epoch 24/25\n",
            "216/216 [==============================] - 6s 29ms/step - loss: 0.0188 - accuracy: 0.9904 - val_loss: 0.0302 - val_accuracy: 0.9942\n",
            "Epoch 25/25\n",
            "216/216 [==============================] - 6s 29ms/step - loss: 0.0158 - accuracy: 0.9956 - val_loss: 0.0556 - val_accuracy: 0.9827\n"
          ],
          "name": "stdout"
        }
      ]
    },
    {
      "cell_type": "code",
      "metadata": {
        "colab": {
          "base_uri": "https://localhost:8080/"
        },
        "id": "tHAJyRR4uY9K",
        "outputId": "cab65210-9e0f-4b1d-9699-4105d6374e21"
      },
      "source": [
        "modelOverfit4 = Sequential()\n",
        "#reduced input size 64 to 48\n",
        "modelOverfit4.add( Conv2D( 48, ( 3, 3 ), activation = 'relu', input_shape=(256, 256, 1) ) )\n",
        "modelOverfit4.add( MaxPool2D(4, 4) )\n",
        "modelOverfit4.add( Conv2D( 32, ( 3, 3 ), activation = 'relu' ) )\n",
        "modelOverfit4.add( MaxPool2D(4, 4) )\n",
        "modelOverfit4.add( Conv2D( 16, ( 3, 3 ), activation = 'relu' ) )\n",
        "modelOverfit4.add( Flatten() )\n",
        "modelOverfit4.add( Dense( 10, activation = 'relu' ) )\n",
        "modelOverfit4.add( Dense( 2, activation = 'sigmoid' ) )\n",
        "modelOverfit4.summary()\n",
        "modelOverfit4.compile( optimizer = 'adam', loss = 'binary_crossentropy', metrics = [ 'accuracy' ] )\n",
        "history4 = modelOverfit4.fit( full_generator, validation_data=validation_generator, epochs = 25, batch_size = 64 )"
      ],
      "execution_count": null,
      "outputs": [
        {
          "output_type": "stream",
          "text": [
            "Model: \"sequential_5\"\n",
            "_________________________________________________________________\n",
            "Layer (type)                 Output Shape              Param #   \n",
            "=================================================================\n",
            "conv2d_14 (Conv2D)           (None, 254, 254, 48)      480       \n",
            "_________________________________________________________________\n",
            "max_pooling2d_9 (MaxPooling2 (None, 63, 63, 48)        0         \n",
            "_________________________________________________________________\n",
            "conv2d_15 (Conv2D)           (None, 61, 61, 32)        13856     \n",
            "_________________________________________________________________\n",
            "max_pooling2d_10 (MaxPooling (None, 15, 15, 32)        0         \n",
            "_________________________________________________________________\n",
            "conv2d_16 (Conv2D)           (None, 13, 13, 16)        4624      \n",
            "_________________________________________________________________\n",
            "flatten_5 (Flatten)          (None, 2704)              0         \n",
            "_________________________________________________________________\n",
            "dense_10 (Dense)             (None, 10)                27050     \n",
            "_________________________________________________________________\n",
            "dense_11 (Dense)             (None, 2)                 22        \n",
            "=================================================================\n",
            "Total params: 46,032\n",
            "Trainable params: 46,032\n",
            "Non-trainable params: 0\n",
            "_________________________________________________________________\n",
            "Epoch 1/25\n",
            "216/216 [==============================] - 7s 29ms/step - loss: 0.6721 - accuracy: 0.5991 - val_loss: 0.5418 - val_accuracy: 0.5838\n",
            "Epoch 2/25\n",
            "216/216 [==============================] - 6s 28ms/step - loss: 0.5564 - accuracy: 0.6788 - val_loss: 0.4676 - val_accuracy: 0.7283\n",
            "Epoch 3/25\n",
            "216/216 [==============================] - 6s 28ms/step - loss: 0.4484 - accuracy: 0.8155 - val_loss: 0.4745 - val_accuracy: 0.8035\n",
            "Epoch 4/25\n",
            "216/216 [==============================] - 6s 28ms/step - loss: 0.3630 - accuracy: 0.8559 - val_loss: 0.3056 - val_accuracy: 0.9133\n",
            "Epoch 5/25\n",
            "216/216 [==============================] - 6s 28ms/step - loss: 0.2965 - accuracy: 0.8716 - val_loss: 0.2471 - val_accuracy: 0.9017\n",
            "Epoch 6/25\n",
            "216/216 [==============================] - 6s 28ms/step - loss: 0.2599 - accuracy: 0.8843 - val_loss: 0.2115 - val_accuracy: 0.9422\n",
            "Epoch 7/25\n",
            "216/216 [==============================] - 6s 28ms/step - loss: 0.2363 - accuracy: 0.9126 - val_loss: 0.1609 - val_accuracy: 0.9653\n",
            "Epoch 8/25\n",
            "216/216 [==============================] - 6s 28ms/step - loss: 0.1948 - accuracy: 0.9183 - val_loss: 0.2498 - val_accuracy: 0.9191\n",
            "Epoch 9/25\n",
            "216/216 [==============================] - 6s 28ms/step - loss: 0.1895 - accuracy: 0.9411 - val_loss: 0.1662 - val_accuracy: 0.9595\n",
            "Epoch 10/25\n",
            "216/216 [==============================] - 6s 28ms/step - loss: 0.1651 - accuracy: 0.9609 - val_loss: 0.1223 - val_accuracy: 0.9769\n",
            "Epoch 11/25\n",
            "216/216 [==============================] - 6s 28ms/step - loss: 0.1410 - accuracy: 0.9650 - val_loss: 0.1279 - val_accuracy: 0.9769\n",
            "Epoch 12/25\n",
            "216/216 [==============================] - 6s 28ms/step - loss: 0.1426 - accuracy: 0.9588 - val_loss: 0.1751 - val_accuracy: 0.9422\n",
            "Epoch 13/25\n",
            "216/216 [==============================] - 6s 28ms/step - loss: 0.1125 - accuracy: 0.9797 - val_loss: 0.1537 - val_accuracy: 0.9538\n",
            "Epoch 14/25\n",
            "216/216 [==============================] - 6s 28ms/step - loss: 0.1167 - accuracy: 0.9789 - val_loss: 0.1114 - val_accuracy: 0.9827\n",
            "Epoch 15/25\n",
            "216/216 [==============================] - 6s 28ms/step - loss: 0.1090 - accuracy: 0.9753 - val_loss: 0.0893 - val_accuracy: 1.0000\n",
            "Epoch 16/25\n",
            "216/216 [==============================] - 6s 28ms/step - loss: 0.1054 - accuracy: 0.9799 - val_loss: 0.1378 - val_accuracy: 0.9711\n",
            "Epoch 17/25\n",
            "216/216 [==============================] - 6s 28ms/step - loss: 0.0974 - accuracy: 0.9812 - val_loss: 0.0913 - val_accuracy: 0.9942\n",
            "Epoch 18/25\n",
            "216/216 [==============================] - 6s 28ms/step - loss: 0.0697 - accuracy: 0.9914 - val_loss: 0.2641 - val_accuracy: 0.9075\n",
            "Epoch 19/25\n",
            "216/216 [==============================] - 6s 28ms/step - loss: 0.0877 - accuracy: 0.9850 - val_loss: 0.1258 - val_accuracy: 0.9769\n",
            "Epoch 20/25\n",
            "216/216 [==============================] - 6s 28ms/step - loss: 0.0669 - accuracy: 0.9893 - val_loss: 0.0579 - val_accuracy: 1.0000\n",
            "Epoch 21/25\n",
            "216/216 [==============================] - 6s 29ms/step - loss: 0.0843 - accuracy: 0.9826 - val_loss: 0.2290 - val_accuracy: 0.9075\n",
            "Epoch 22/25\n",
            "216/216 [==============================] - 6s 28ms/step - loss: 0.0602 - accuracy: 0.9895 - val_loss: 0.1103 - val_accuracy: 0.9711\n",
            "Epoch 23/25\n",
            "216/216 [==============================] - 6s 28ms/step - loss: 0.0556 - accuracy: 0.9830 - val_loss: 0.0303 - val_accuracy: 0.9884\n",
            "Epoch 24/25\n",
            "216/216 [==============================] - 6s 28ms/step - loss: 0.0778 - accuracy: 0.9776 - val_loss: 0.0974 - val_accuracy: 0.9653\n",
            "Epoch 25/25\n",
            "216/216 [==============================] - 6s 28ms/step - loss: 0.0479 - accuracy: 0.9827 - val_loss: 0.0860 - val_accuracy: 0.9595\n"
          ],
          "name": "stdout"
        }
      ]
    },
    {
      "cell_type": "code",
      "metadata": {
        "colab": {
          "base_uri": "https://localhost:8080/"
        },
        "id": "-KnjpXT_uZ53",
        "outputId": "089f985f-d712-43ed-af9b-c05bfed1cf51"
      },
      "source": [
        "modelOverfit5 = Sequential()\n",
        "#added a top layer here\n",
        "modelOverfit5.add( Conv2D( 128, ( 3, 3 ), activation = 'relu', input_shape=(256, 256, 1) ) )\n",
        "modelOverfit5.add( MaxPool2D(4, 4) )\n",
        "modelOverfit5.add( Conv2D( 64, ( 3, 3 ), activation = 'relu' ) )\n",
        "modelOverfit5.add( MaxPool2D(4, 4) )\n",
        "modelOverfit5.add( Conv2D( 32, ( 3, 3 ), activation = 'relu' ) )\n",
        "modelOverfit5.add( MaxPool2D(4, 4) )\n",
        "modelOverfit5.add( Conv2D( 16, ( 3, 3 ), activation = 'relu' ) )\n",
        "modelOverfit5.add( Flatten() )\n",
        "modelOverfit5.add( Dense( 10, activation = 'relu' ) )\n",
        "modelOverfit5.add( Dense( 2, activation = 'sigmoid' ) )\n",
        "modelOverfit5.summary()\n",
        "modelOverfit5.compile( optimizer = 'adam', loss = 'binary_crossentropy', metrics = [ 'accuracy' ] )\n",
        "history5 = modelOverfit5.fit( full_generator, validation_data=validation_generator, epochs = 25, batch_size = 64 )"
      ],
      "execution_count": null,
      "outputs": [
        {
          "output_type": "stream",
          "text": [
            "Model: \"sequential_6\"\n",
            "_________________________________________________________________\n",
            "Layer (type)                 Output Shape              Param #   \n",
            "=================================================================\n",
            "conv2d_17 (Conv2D)           (None, 254, 254, 128)     1280      \n",
            "_________________________________________________________________\n",
            "max_pooling2d_11 (MaxPooling (None, 63, 63, 128)       0         \n",
            "_________________________________________________________________\n",
            "conv2d_18 (Conv2D)           (None, 61, 61, 64)        73792     \n",
            "_________________________________________________________________\n",
            "max_pooling2d_12 (MaxPooling (None, 15, 15, 64)        0         \n",
            "_________________________________________________________________\n",
            "conv2d_19 (Conv2D)           (None, 13, 13, 32)        18464     \n",
            "_________________________________________________________________\n",
            "max_pooling2d_13 (MaxPooling (None, 3, 3, 32)          0         \n",
            "_________________________________________________________________\n",
            "conv2d_20 (Conv2D)           (None, 1, 1, 16)          4624      \n",
            "_________________________________________________________________\n",
            "flatten_6 (Flatten)          (None, 16)                0         \n",
            "_________________________________________________________________\n",
            "dense_12 (Dense)             (None, 10)                170       \n",
            "_________________________________________________________________\n",
            "dense_13 (Dense)             (None, 2)                 22        \n",
            "=================================================================\n",
            "Total params: 98,352\n",
            "Trainable params: 98,352\n",
            "Non-trainable params: 0\n",
            "_________________________________________________________________\n",
            "Epoch 1/25\n",
            "216/216 [==============================] - 7s 31ms/step - loss: 0.6801 - accuracy: 0.5712 - val_loss: 0.6066 - val_accuracy: 0.5838\n",
            "Epoch 2/25\n",
            "216/216 [==============================] - 7s 30ms/step - loss: 0.5322 - accuracy: 0.7063 - val_loss: 0.5082 - val_accuracy: 0.7168\n",
            "Epoch 3/25\n",
            "216/216 [==============================] - 7s 30ms/step - loss: 0.4135 - accuracy: 0.8128 - val_loss: 0.2210 - val_accuracy: 0.9364\n",
            "Epoch 4/25\n",
            "216/216 [==============================] - 7s 30ms/step - loss: 0.2569 - accuracy: 0.9069 - val_loss: 0.2916 - val_accuracy: 0.9075\n",
            "Epoch 5/25\n",
            "216/216 [==============================] - 7s 30ms/step - loss: 0.2156 - accuracy: 0.9261 - val_loss: 0.1639 - val_accuracy: 0.9422\n",
            "Epoch 6/25\n",
            "216/216 [==============================] - 7s 30ms/step - loss: 0.0912 - accuracy: 0.9720 - val_loss: 0.0572 - val_accuracy: 0.9942\n",
            "Epoch 7/25\n",
            "216/216 [==============================] - 7s 30ms/step - loss: 0.0892 - accuracy: 0.9737 - val_loss: 0.0993 - val_accuracy: 0.9653\n",
            "Epoch 8/25\n",
            "216/216 [==============================] - 7s 30ms/step - loss: 0.0707 - accuracy: 0.9802 - val_loss: 0.0677 - val_accuracy: 0.9769\n",
            "Epoch 9/25\n",
            "216/216 [==============================] - 7s 30ms/step - loss: 0.0578 - accuracy: 0.9788 - val_loss: 0.0585 - val_accuracy: 0.9942\n",
            "Epoch 10/25\n",
            "216/216 [==============================] - 7s 30ms/step - loss: 0.0669 - accuracy: 0.9760 - val_loss: 0.1411 - val_accuracy: 0.9364\n",
            "Epoch 11/25\n",
            "216/216 [==============================] - 7s 30ms/step - loss: 0.0450 - accuracy: 0.9860 - val_loss: 0.0526 - val_accuracy: 0.9942\n",
            "Epoch 12/25\n",
            "216/216 [==============================] - 7s 30ms/step - loss: 0.0589 - accuracy: 0.9835 - val_loss: 0.0775 - val_accuracy: 0.9769\n",
            "Epoch 13/25\n",
            "216/216 [==============================] - 7s 30ms/step - loss: 0.0662 - accuracy: 0.9777 - val_loss: 0.0819 - val_accuracy: 0.9653\n",
            "Epoch 14/25\n",
            "216/216 [==============================] - 7s 30ms/step - loss: 0.0545 - accuracy: 0.9763 - val_loss: 0.0817 - val_accuracy: 0.9595\n",
            "Epoch 15/25\n",
            "216/216 [==============================] - 7s 30ms/step - loss: 0.0657 - accuracy: 0.9753 - val_loss: 0.0850 - val_accuracy: 0.9827\n",
            "Epoch 16/25\n",
            "216/216 [==============================] - 7s 31ms/step - loss: 0.0157 - accuracy: 0.9929 - val_loss: 0.0887 - val_accuracy: 0.9769\n",
            "Epoch 17/25\n",
            "216/216 [==============================] - 7s 31ms/step - loss: 0.0452 - accuracy: 0.9818 - val_loss: 0.0729 - val_accuracy: 0.9653\n",
            "Epoch 18/25\n",
            "216/216 [==============================] - 7s 31ms/step - loss: 0.0931 - accuracy: 0.9684 - val_loss: 0.0503 - val_accuracy: 0.9884\n",
            "Epoch 19/25\n",
            "216/216 [==============================] - 7s 31ms/step - loss: 0.0254 - accuracy: 0.9893 - val_loss: 0.0349 - val_accuracy: 1.0000\n",
            "Epoch 20/25\n",
            "216/216 [==============================] - 7s 30ms/step - loss: 0.0307 - accuracy: 0.9926 - val_loss: 0.0300 - val_accuracy: 1.0000\n",
            "Epoch 21/25\n",
            "216/216 [==============================] - 7s 31ms/step - loss: 0.0069 - accuracy: 0.9994 - val_loss: 0.4360 - val_accuracy: 0.8671\n",
            "Epoch 22/25\n",
            "216/216 [==============================] - 7s 30ms/step - loss: 0.0721 - accuracy: 0.9775 - val_loss: 0.0419 - val_accuracy: 0.9942\n",
            "Epoch 23/25\n",
            "216/216 [==============================] - 7s 30ms/step - loss: 0.0176 - accuracy: 0.9927 - val_loss: 0.0436 - val_accuracy: 0.9884\n",
            "Epoch 24/25\n",
            "216/216 [==============================] - 7s 30ms/step - loss: 0.0424 - accuracy: 0.9742 - val_loss: 0.0288 - val_accuracy: 0.9942\n",
            "Epoch 25/25\n",
            "216/216 [==============================] - 7s 30ms/step - loss: 0.0163 - accuracy: 0.9964 - val_loss: 0.1329 - val_accuracy: 0.9538\n"
          ],
          "name": "stdout"
        }
      ]
    },
    {
      "cell_type": "code",
      "metadata": {
        "colab": {
          "base_uri": "https://localhost:8080/"
        },
        "id": "haVZ6JrMvCS4",
        "outputId": "d38e3d00-3864-49d4-b8f2-69fab809ab0d"
      },
      "source": [
        "modelOverfit6 = Sequential()\n",
        "#removed top layer\n",
        "modelOverfit6.add( Conv2D( 32, ( 3, 3 ), activation = 'relu', input_shape=(256, 256, 1) ) )\n",
        "modelOverfit6.add( MaxPool2D(4, 4) )\n",
        "modelOverfit6.add( Conv2D( 16, ( 3, 3 ), activation = 'relu' ) )\n",
        "modelOverfit6.add( Flatten() )\n",
        "modelOverfit6.add( Dense( 10, activation = 'relu' ) )\n",
        "modelOverfit6.add( Dense( 2, activation = 'sigmoid' ) )\n",
        "modelOverfit6.summary()\n",
        "modelOverfit6.compile( optimizer = 'adam', loss = 'binary_crossentropy', metrics = [ 'accuracy' ] )\n",
        "history6 = modelOverfit6.fit( full_generator, validation_data=validation_generator, epochs = 25, batch_size = 64 )"
      ],
      "execution_count": null,
      "outputs": [
        {
          "output_type": "stream",
          "text": [
            "Model: \"sequential_7\"\n",
            "_________________________________________________________________\n",
            "Layer (type)                 Output Shape              Param #   \n",
            "=================================================================\n",
            "conv2d_21 (Conv2D)           (None, 254, 254, 32)      320       \n",
            "_________________________________________________________________\n",
            "max_pooling2d_14 (MaxPooling (None, 63, 63, 32)        0         \n",
            "_________________________________________________________________\n",
            "conv2d_22 (Conv2D)           (None, 61, 61, 16)        4624      \n",
            "_________________________________________________________________\n",
            "flatten_7 (Flatten)          (None, 59536)             0         \n",
            "_________________________________________________________________\n",
            "dense_14 (Dense)             (None, 10)                595370    \n",
            "_________________________________________________________________\n",
            "dense_15 (Dense)             (None, 2)                 22        \n",
            "=================================================================\n",
            "Total params: 600,336\n",
            "Trainable params: 600,336\n",
            "Non-trainable params: 0\n",
            "_________________________________________________________________\n",
            "Epoch 1/25\n",
            "216/216 [==============================] - 6s 28ms/step - loss: 0.7559 - accuracy: 0.5811 - val_loss: 0.6886 - val_accuracy: 0.5838\n",
            "Epoch 2/25\n",
            "216/216 [==============================] - 6s 27ms/step - loss: 0.6889 - accuracy: 0.5679 - val_loss: 0.6855 - val_accuracy: 0.5838\n",
            "Epoch 3/25\n",
            "216/216 [==============================] - 6s 27ms/step - loss: 0.6869 - accuracy: 0.5677 - val_loss: 0.6832 - val_accuracy: 0.5838\n",
            "Epoch 4/25\n",
            "216/216 [==============================] - 6s 27ms/step - loss: 0.6856 - accuracy: 0.5665 - val_loss: 0.6818 - val_accuracy: 0.5838\n",
            "Epoch 5/25\n",
            "216/216 [==============================] - 6s 27ms/step - loss: 0.6798 - accuracy: 0.5927 - val_loss: 0.6807 - val_accuracy: 0.5838\n",
            "Epoch 6/25\n",
            "216/216 [==============================] - 6s 27ms/step - loss: 0.6816 - accuracy: 0.5803 - val_loss: 0.6803 - val_accuracy: 0.5838\n",
            "Epoch 7/25\n",
            "216/216 [==============================] - 6s 27ms/step - loss: 0.6755 - accuracy: 0.6033 - val_loss: 0.6798 - val_accuracy: 0.5838\n",
            "Epoch 8/25\n",
            "216/216 [==============================] - 6s 27ms/step - loss: 0.6813 - accuracy: 0.5784 - val_loss: 0.6796 - val_accuracy: 0.5838\n",
            "Epoch 9/25\n",
            "216/216 [==============================] - 6s 27ms/step - loss: 0.6721 - accuracy: 0.6115 - val_loss: 0.6794 - val_accuracy: 0.5838\n",
            "Epoch 10/25\n",
            "216/216 [==============================] - 6s 27ms/step - loss: 0.6726 - accuracy: 0.6076 - val_loss: 0.6793 - val_accuracy: 0.5838\n",
            "Epoch 11/25\n",
            "216/216 [==============================] - 6s 27ms/step - loss: 0.6749 - accuracy: 0.5991 - val_loss: 0.6792 - val_accuracy: 0.5838\n",
            "Epoch 12/25\n",
            "216/216 [==============================] - 6s 27ms/step - loss: 0.6811 - accuracy: 0.5778 - val_loss: 0.6792 - val_accuracy: 0.5838\n",
            "Epoch 13/25\n",
            "216/216 [==============================] - 6s 27ms/step - loss: 0.6788 - accuracy: 0.5850 - val_loss: 0.6792 - val_accuracy: 0.5838\n",
            "Epoch 14/25\n",
            "216/216 [==============================] - 6s 27ms/step - loss: 0.6738 - accuracy: 0.6013 - val_loss: 0.6791 - val_accuracy: 0.5838\n",
            "Epoch 15/25\n",
            "216/216 [==============================] - 6s 27ms/step - loss: 0.6731 - accuracy: 0.6029 - val_loss: 0.6791 - val_accuracy: 0.5838\n",
            "Epoch 16/25\n",
            "216/216 [==============================] - 6s 27ms/step - loss: 0.6768 - accuracy: 0.5913 - val_loss: 0.6791 - val_accuracy: 0.5838\n",
            "Epoch 17/25\n",
            "216/216 [==============================] - 6s 27ms/step - loss: 0.6759 - accuracy: 0.5940 - val_loss: 0.6791 - val_accuracy: 0.5838\n",
            "Epoch 18/25\n",
            "216/216 [==============================] - 6s 27ms/step - loss: 0.6736 - accuracy: 0.6009 - val_loss: 0.6791 - val_accuracy: 0.5838\n",
            "Epoch 19/25\n",
            "216/216 [==============================] - 6s 27ms/step - loss: 0.6830 - accuracy: 0.5716 - val_loss: 0.6790 - val_accuracy: 0.5838\n",
            "Epoch 20/25\n",
            "216/216 [==============================] - 6s 27ms/step - loss: 0.6748 - accuracy: 0.5969 - val_loss: 0.6791 - val_accuracy: 0.5838\n",
            "Epoch 21/25\n",
            "216/216 [==============================] - 6s 27ms/step - loss: 0.6712 - accuracy: 0.6082 - val_loss: 0.6790 - val_accuracy: 0.5838\n",
            "Epoch 22/25\n",
            "216/216 [==============================] - 6s 27ms/step - loss: 0.6777 - accuracy: 0.5883 - val_loss: 0.6790 - val_accuracy: 0.5838\n",
            "Epoch 23/25\n",
            "216/216 [==============================] - 6s 27ms/step - loss: 0.6749 - accuracy: 0.5964 - val_loss: 0.6790 - val_accuracy: 0.5838\n",
            "Epoch 24/25\n",
            "216/216 [==============================] - 6s 27ms/step - loss: 0.6830 - accuracy: 0.5720 - val_loss: 0.6791 - val_accuracy: 0.5838\n",
            "Epoch 25/25\n",
            "216/216 [==============================] - 6s 27ms/step - loss: 0.6845 - accuracy: 0.5673 - val_loss: 0.6790 - val_accuracy: 0.5838\n"
          ],
          "name": "stdout"
        }
      ]
    },
    {
      "cell_type": "code",
      "metadata": {
        "colab": {
          "base_uri": "https://localhost:8080/"
        },
        "id": "nRFAv003vOIv",
        "outputId": "920cc3f5-d342-4dff-fc14-8c401ba2d31b"
      },
      "source": [
        "modelOverfit7 = Sequential()\n",
        "#removed top layer and middle 16 layer\n",
        "modelOverfit7.add( Conv2D( 32, ( 3, 3 ), activation = 'relu', input_shape=(256, 256, 1) ) )\n",
        "modelOverfit7.add( MaxPool2D(4, 4) )\n",
        "modelOverfit7.add( Flatten() )\n",
        "modelOverfit7.add( Dense( 10, activation = 'relu' ) )\n",
        "modelOverfit7.add( Dense( 2, activation = 'sigmoid' ) )\n",
        "modelOverfit7.summary()\n",
        "modelOverfit7.compile( optimizer = 'adam', loss = 'binary_crossentropy', metrics = [ 'accuracy' ] )\n",
        "history7 = modelOverfit7.fit( full_generator, validation_data=validation_generator, epochs = 25, batch_size = 64 )"
      ],
      "execution_count": null,
      "outputs": [
        {
          "output_type": "stream",
          "text": [
            "Model: \"sequential_8\"\n",
            "_________________________________________________________________\n",
            "Layer (type)                 Output Shape              Param #   \n",
            "=================================================================\n",
            "conv2d_23 (Conv2D)           (None, 254, 254, 32)      320       \n",
            "_________________________________________________________________\n",
            "max_pooling2d_15 (MaxPooling (None, 63, 63, 32)        0         \n",
            "_________________________________________________________________\n",
            "flatten_8 (Flatten)          (None, 127008)            0         \n",
            "_________________________________________________________________\n",
            "dense_16 (Dense)             (None, 10)                1270090   \n",
            "_________________________________________________________________\n",
            "dense_17 (Dense)             (None, 2)                 22        \n",
            "=================================================================\n",
            "Total params: 1,270,432\n",
            "Trainable params: 1,270,432\n",
            "Non-trainable params: 0\n",
            "_________________________________________________________________\n",
            "Epoch 1/25\n",
            "216/216 [==============================] - 6s 27ms/step - loss: 0.7490 - accuracy: 0.5688 - val_loss: 0.6885 - val_accuracy: 0.5838\n",
            "Epoch 2/25\n",
            "216/216 [==============================] - 6s 27ms/step - loss: 0.6861 - accuracy: 0.6078 - val_loss: 0.6855 - val_accuracy: 0.5838\n",
            "Epoch 3/25\n",
            "216/216 [==============================] - 6s 27ms/step - loss: 0.6872 - accuracy: 0.5640 - val_loss: 0.6834 - val_accuracy: 0.5838\n",
            "Epoch 4/25\n",
            "216/216 [==============================] - 6s 27ms/step - loss: 0.6846 - accuracy: 0.5741 - val_loss: 0.6820 - val_accuracy: 0.5838\n",
            "Epoch 5/25\n",
            "216/216 [==============================] - 6s 27ms/step - loss: 0.6799 - accuracy: 0.5925 - val_loss: 0.6809 - val_accuracy: 0.5838\n",
            "Epoch 6/25\n",
            "216/216 [==============================] - 6s 27ms/step - loss: 0.6796 - accuracy: 0.5892 - val_loss: 0.6803 - val_accuracy: 0.5838\n",
            "Epoch 7/25\n",
            "216/216 [==============================] - 6s 26ms/step - loss: 0.6783 - accuracy: 0.5915 - val_loss: 0.6799 - val_accuracy: 0.5838\n",
            "Epoch 8/25\n",
            "216/216 [==============================] - 6s 27ms/step - loss: 0.6808 - accuracy: 0.5802 - val_loss: 0.6796 - val_accuracy: 0.5838\n",
            "Epoch 9/25\n",
            "216/216 [==============================] - 6s 27ms/step - loss: 0.6845 - accuracy: 0.5658 - val_loss: 0.6794 - val_accuracy: 0.5838\n",
            "Epoch 10/25\n",
            "216/216 [==============================] - 6s 27ms/step - loss: 0.6746 - accuracy: 0.6003 - val_loss: 0.6793 - val_accuracy: 0.5838\n",
            "Epoch 11/25\n",
            "216/216 [==============================] - 6s 27ms/step - loss: 0.6757 - accuracy: 0.5963 - val_loss: 0.6792 - val_accuracy: 0.5838\n",
            "Epoch 12/25\n",
            "216/216 [==============================] - 6s 27ms/step - loss: 0.6806 - accuracy: 0.5796 - val_loss: 0.6792 - val_accuracy: 0.5838\n",
            "Epoch 13/25\n",
            "216/216 [==============================] - 6s 27ms/step - loss: 0.6764 - accuracy: 0.5933 - val_loss: 0.6791 - val_accuracy: 0.5838\n",
            "Epoch 14/25\n",
            "216/216 [==============================] - 6s 27ms/step - loss: 0.6796 - accuracy: 0.5824 - val_loss: 0.6791 - val_accuracy: 0.5838\n",
            "Epoch 15/25\n",
            "216/216 [==============================] - 6s 27ms/step - loss: 0.6748 - accuracy: 0.5979 - val_loss: 0.6791 - val_accuracy: 0.5838\n",
            "Epoch 16/25\n",
            "216/216 [==============================] - 6s 27ms/step - loss: 0.6803 - accuracy: 0.5802 - val_loss: 0.6791 - val_accuracy: 0.5838\n",
            "Epoch 17/25\n",
            "216/216 [==============================] - 6s 26ms/step - loss: 0.6785 - accuracy: 0.5859 - val_loss: 0.6791 - val_accuracy: 0.5838\n",
            "Epoch 18/25\n",
            "216/216 [==============================] - 6s 27ms/step - loss: 0.6843 - accuracy: 0.5679 - val_loss: 0.6791 - val_accuracy: 0.5838\n",
            "Epoch 19/25\n",
            "216/216 [==============================] - 6s 28ms/step - loss: 0.6790 - accuracy: 0.5840 - val_loss: 0.6790 - val_accuracy: 0.5838\n",
            "Epoch 20/25\n",
            "216/216 [==============================] - 6s 27ms/step - loss: 0.6825 - accuracy: 0.5734 - val_loss: 0.6790 - val_accuracy: 0.5838\n",
            "Epoch 21/25\n",
            "216/216 [==============================] - 6s 27ms/step - loss: 0.6801 - accuracy: 0.5808 - val_loss: 0.6790 - val_accuracy: 0.5838\n",
            "Epoch 22/25\n",
            "216/216 [==============================] - 6s 27ms/step - loss: 0.6752 - accuracy: 0.5954 - val_loss: 0.6791 - val_accuracy: 0.5838\n",
            "Epoch 23/25\n",
            "216/216 [==============================] - 6s 27ms/step - loss: 0.6845 - accuracy: 0.5672 - val_loss: 0.6790 - val_accuracy: 0.5838\n",
            "Epoch 24/25\n",
            "216/216 [==============================] - 6s 28ms/step - loss: 0.6777 - accuracy: 0.5882 - val_loss: 0.6790 - val_accuracy: 0.5838\n",
            "Epoch 25/25\n",
            "216/216 [==============================] - 6s 27ms/step - loss: 0.6857 - accuracy: 0.5635 - val_loss: 0.6790 - val_accuracy: 0.5838\n"
          ],
          "name": "stdout"
        }
      ]
    },
    {
      "cell_type": "code",
      "metadata": {
        "colab": {
          "base_uri": "https://localhost:8080/"
        },
        "id": "OXx-E6uUvYki",
        "outputId": "f8288e4c-00ef-4a5d-84d6-15115dc966ea"
      },
      "source": [
        "modelOverfit8 = Sequential()\n",
        "#removed top layer and middle 16 layer and dense 10 layer\n",
        "modelOverfit8.add( Conv2D( 32, ( 3, 3 ), activation = 'relu', input_shape=(256, 256, 1) ) )\n",
        "modelOverfit8.add( MaxPool2D(4, 4) )\n",
        "modelOverfit8.add( Flatten() )\n",
        "modelOverfit8.add( Dense( 2, activation = 'sigmoid' ) )\n",
        "modelOverfit8.summary()\n",
        "modelOverfit8.compile( optimizer = 'adam', loss = 'binary_crossentropy', metrics = [ 'accuracy' ] )\n",
        "history8 = modelOverfit8.fit( full_generator, validation_data=validation_generator, epochs = 25, batch_size = 64 )"
      ],
      "execution_count": null,
      "outputs": [
        {
          "output_type": "stream",
          "text": [
            "Model: \"sequential_9\"\n",
            "_________________________________________________________________\n",
            "Layer (type)                 Output Shape              Param #   \n",
            "=================================================================\n",
            "conv2d_24 (Conv2D)           (None, 254, 254, 32)      320       \n",
            "_________________________________________________________________\n",
            "max_pooling2d_16 (MaxPooling (None, 63, 63, 32)        0         \n",
            "_________________________________________________________________\n",
            "flatten_9 (Flatten)          (None, 127008)            0         \n",
            "_________________________________________________________________\n",
            "dense_18 (Dense)             (None, 2)                 254018    \n",
            "=================================================================\n",
            "Total params: 254,338\n",
            "Trainable params: 254,338\n",
            "Non-trainable params: 0\n",
            "_________________________________________________________________\n",
            "Epoch 1/25\n",
            "216/216 [==============================] - 6s 27ms/step - loss: 0.8661 - accuracy: 0.6461 - val_loss: 0.2646 - val_accuracy: 0.9306\n",
            "Epoch 2/25\n",
            "216/216 [==============================] - 6s 27ms/step - loss: 0.3243 - accuracy: 0.8612 - val_loss: 0.2361 - val_accuracy: 0.9075\n",
            "Epoch 3/25\n",
            "216/216 [==============================] - 6s 27ms/step - loss: 0.2671 - accuracy: 0.8839 - val_loss: 0.1087 - val_accuracy: 0.9711\n",
            "Epoch 4/25\n",
            "216/216 [==============================] - 6s 27ms/step - loss: 0.1645 - accuracy: 0.9488 - val_loss: 0.1121 - val_accuracy: 0.9653\n",
            "Epoch 5/25\n",
            "216/216 [==============================] - 6s 27ms/step - loss: 0.1916 - accuracy: 0.9264 - val_loss: 0.0768 - val_accuracy: 0.9827\n",
            "Epoch 6/25\n",
            "216/216 [==============================] - 6s 27ms/step - loss: 0.1643 - accuracy: 0.9493 - val_loss: 0.0913 - val_accuracy: 0.9769\n",
            "Epoch 7/25\n",
            "216/216 [==============================] - 6s 26ms/step - loss: 0.1435 - accuracy: 0.9472 - val_loss: 0.0617 - val_accuracy: 0.9884\n",
            "Epoch 8/25\n",
            "216/216 [==============================] - 6s 27ms/step - loss: 0.1005 - accuracy: 0.9694 - val_loss: 0.0317 - val_accuracy: 1.0000\n",
            "Epoch 9/25\n",
            "216/216 [==============================] - 6s 26ms/step - loss: 0.0828 - accuracy: 0.9746 - val_loss: 0.0524 - val_accuracy: 0.9884\n",
            "Epoch 10/25\n",
            "216/216 [==============================] - 6s 26ms/step - loss: 0.0664 - accuracy: 0.9796 - val_loss: 0.0199 - val_accuracy: 1.0000\n",
            "Epoch 11/25\n",
            "216/216 [==============================] - 6s 27ms/step - loss: 0.0779 - accuracy: 0.9710 - val_loss: 0.0375 - val_accuracy: 1.0000\n",
            "Epoch 12/25\n",
            "216/216 [==============================] - 6s 27ms/step - loss: 0.0630 - accuracy: 0.9820 - val_loss: 0.0343 - val_accuracy: 1.0000\n",
            "Epoch 13/25\n",
            "216/216 [==============================] - 6s 27ms/step - loss: 0.0404 - accuracy: 0.9912 - val_loss: 0.0136 - val_accuracy: 1.0000\n",
            "Epoch 14/25\n",
            "216/216 [==============================] - 6s 27ms/step - loss: 0.0475 - accuracy: 0.9841 - val_loss: 0.0292 - val_accuracy: 1.0000\n",
            "Epoch 15/25\n",
            "216/216 [==============================] - 6s 27ms/step - loss: 0.0677 - accuracy: 0.9768 - val_loss: 0.0207 - val_accuracy: 0.9942\n",
            "Epoch 16/25\n",
            "216/216 [==============================] - 6s 26ms/step - loss: 0.0473 - accuracy: 0.9874 - val_loss: 0.0934 - val_accuracy: 0.9711\n",
            "Epoch 17/25\n",
            "216/216 [==============================] - 6s 26ms/step - loss: 0.0401 - accuracy: 0.9874 - val_loss: 0.0325 - val_accuracy: 0.9884\n",
            "Epoch 18/25\n",
            "216/216 [==============================] - 6s 27ms/step - loss: 0.0454 - accuracy: 0.9886 - val_loss: 0.0278 - val_accuracy: 1.0000\n",
            "Epoch 19/25\n",
            "216/216 [==============================] - 6s 27ms/step - loss: 0.0342 - accuracy: 0.9958 - val_loss: 0.0235 - val_accuracy: 1.0000\n",
            "Epoch 20/25\n",
            "216/216 [==============================] - 6s 26ms/step - loss: 0.0398 - accuracy: 0.9872 - val_loss: 0.0685 - val_accuracy: 0.9884\n",
            "Epoch 21/25\n",
            "216/216 [==============================] - 6s 27ms/step - loss: 0.0271 - accuracy: 0.9907 - val_loss: 0.0229 - val_accuracy: 1.0000\n",
            "Epoch 22/25\n",
            "216/216 [==============================] - 6s 26ms/step - loss: 0.0273 - accuracy: 0.9912 - val_loss: 0.0175 - val_accuracy: 1.0000\n",
            "Epoch 23/25\n",
            "216/216 [==============================] - 6s 26ms/step - loss: 0.0232 - accuracy: 0.9948 - val_loss: 0.0091 - val_accuracy: 1.0000\n",
            "Epoch 24/25\n",
            "216/216 [==============================] - 6s 26ms/step - loss: 0.0391 - accuracy: 0.9930 - val_loss: 0.0061 - val_accuracy: 1.0000\n",
            "Epoch 25/25\n",
            "216/216 [==============================] - 6s 27ms/step - loss: 0.0360 - accuracy: 0.9847 - val_loss: 0.0062 - val_accuracy: 1.0000\n"
          ],
          "name": "stdout"
        }
      ]
    },
    {
      "cell_type": "markdown",
      "metadata": {
        "id": "Czbh9hbWbxIp"
      },
      "source": [
        "## Evaluate new models"
      ]
    },
    {
      "cell_type": "code",
      "metadata": {
        "id": "zTQxaXBVNAUP"
      },
      "source": [
        "def evaluateModel(model, x, y):\n",
        "  # predict probabilities for test set\n",
        "  yhat_probs = model.predict(x, verbose=0)\n",
        "  # predict crisp classes for test set\n",
        "  yhat_classes = model.predict_classes(x, verbose=0)\n",
        "  # print(yhat_classes[:10])\n",
        "  #round the predictions\n",
        "  yhat_probs = np.round(yhat_probs)\n",
        "  # accuracy: (tp + tn) / (p + n)\n",
        "  accuracy = accuracy_score(y, yhat_probs)\n",
        "  print('Accuracy: %f' % accuracy)\n",
        "  # precision tp / (tp + fp)\n",
        "  precision = precision_score(y, yhat_probs, average='macro')\n",
        "  print('Precision: %f' % precision)\n",
        "  # recall: tp / (tp + fn)\n",
        "  recall = recall_score(y, yhat_probs, average='macro')\n",
        "  print('Recall: %f' % recall)\n",
        "  # f1: 2 tp / (2 tp + fp + fn)\n",
        "  f1 = f1_score(y, yhat_probs, average='macro')\n",
        "  print('F1 score: %f' % f1)\n"
      ],
      "execution_count": null,
      "outputs": []
    },
    {
      "cell_type": "code",
      "metadata": {
        "colab": {
          "base_uri": "https://localhost:8080/"
        },
        "id": "FV_kQdPJZaH6",
        "outputId": "808074b7-6836-4de5-fd15-ecb80728af35"
      },
      "source": [
        "print(\"First overfitting model\")\n",
        "evaluateModel(modelOverfit, mydatax, mydatay)\n",
        "print(\"------------------------------------------------------------\")\n",
        "\n",
        "print(\"Second overfitting model\")\n",
        "evaluateModel(modelOverfit2, mydatax, mydatay)\n",
        "print(\"------------------------------------------------------------\")\n",
        "\n",
        "print(\"Third overfitting model\")\n",
        "evaluateModel(modelOverfit3, mydatax, mydatay)\n",
        "print(\"------------------------------------------------------------\")\n",
        "\n",
        "print(\"Fourth overfitting model\")\n",
        "evaluateModel(modelOverfit4, mydatax, mydatay)\n",
        "print(\"------------------------------------------------------------\")\n",
        "\n",
        "print(\"Fifth overfitting model\")\n",
        "evaluateModel(modelOverfit5, mydatax, mydatay)\n",
        "print(\"------------------------------------------------------------\")\n",
        "\n",
        "print(\"Sixth overfitting model\")\n",
        "evaluateModel(modelOverfit6, mydatax, mydatay)\n",
        "print(\"------------------------------------------------------------\")\n",
        "\n",
        "print(\"Seventh overfitting model\")\n",
        "evaluateModel(modelOverfit7, mydatax, mydatay)\n",
        "print(\"------------------------------------------------------------\")\n",
        "\n",
        "print(\"Eighth overfitting model\")\n",
        "evaluateModel(modelOverfit8, mydatax, mydatay)\n"
      ],
      "execution_count": null,
      "outputs": [
        {
          "output_type": "stream",
          "text": [
            "First overfitting model\n"
          ],
          "name": "stdout"
        },
        {
          "output_type": "stream",
          "text": [
            "/usr/local/lib/python3.7/dist-packages/tensorflow/python/keras/engine/sequential.py:450: UserWarning: `model.predict_classes()` is deprecated and will be removed after 2021-01-01. Please use instead:* `np.argmax(model.predict(x), axis=-1)`,   if your model does multi-class classification   (e.g. if it uses a `softmax` last-layer activation).* `(model.predict(x) > 0.5).astype(\"int32\")`,   if your model does binary classification   (e.g. if it uses a `sigmoid` last-layer activation).\n",
            "  warnings.warn('`model.predict_classes()` is deprecated and '\n"
          ],
          "name": "stderr"
        },
        {
          "output_type": "stream",
          "text": [
            "Accuracy: 0.944000\n",
            "Precision: 0.955836\n",
            "Recall: 0.936019\n",
            "F1 score: 0.942720\n",
            "------------------------------------------------------------\n",
            "Second overfitting model\n",
            "Accuracy: 0.977000\n",
            "Precision: 0.975512\n",
            "Recall: 0.977546\n",
            "F1 score: 0.976478\n",
            "------------------------------------------------------------\n",
            "Third overfitting model\n",
            "Accuracy: 0.963000\n",
            "Precision: 0.970596\n",
            "Recall: 0.958305\n",
            "F1 score: 0.963529\n",
            "------------------------------------------------------------\n",
            "Fourth overfitting model\n",
            "Accuracy: 0.984000\n",
            "Precision: 0.983945\n",
            "Recall: 0.987024\n",
            "F1 score: 0.985268\n",
            "------------------------------------------------------------\n",
            "Fifth overfitting model\n",
            "Accuracy: 0.981000\n",
            "Precision: 0.982846\n",
            "Recall: 0.982867\n",
            "F1 score: 0.982715\n",
            "------------------------------------------------------------\n",
            "Sixth overfitting model\n",
            "Accuracy: 0.578000\n",
            "Precision: 0.289000\n",
            "Recall: 0.500000\n",
            "F1 score: 0.366286\n",
            "------------------------------------------------------------\n",
            "Seventh overfitting model\n"
          ],
          "name": "stdout"
        },
        {
          "output_type": "stream",
          "text": [
            "/usr/local/lib/python3.7/dist-packages/sklearn/metrics/_classification.py:1272: UndefinedMetricWarning: Precision is ill-defined and being set to 0.0 in labels with no predicted samples. Use `zero_division` parameter to control this behavior.\n",
            "  _warn_prf(average, modifier, msg_start, len(result))\n"
          ],
          "name": "stderr"
        },
        {
          "output_type": "stream",
          "text": [
            "Accuracy: 0.578000\n",
            "Precision: 0.289000\n",
            "Recall: 0.500000\n",
            "F1 score: 0.366286\n",
            "------------------------------------------------------------\n",
            "Eighth overfitting model\n",
            "Accuracy: 0.995000\n",
            "Precision: 0.994425\n",
            "Recall: 0.995355\n",
            "F1 score: 0.994880\n"
          ],
          "name": "stdout"
        }
      ]
    },
    {
      "cell_type": "markdown",
      "metadata": {
        "id": "WWAmkuTmaXMI"
      },
      "source": [
        "From this data we find that the seventh and sixth models were not good at all.\n",
        "\n",
        "Also, the best performing overfitting model looks to be either the 8th since the F-1 score is close to 1, and acc and precision and recall are all close as well."
      ]
    },
    {
      "cell_type": "markdown",
      "metadata": {
        "id": "j1tSfY2nDgzd"
      },
      "source": [
        "##Plot Learning Curves"
      ]
    },
    {
      "cell_type": "code",
      "metadata": {
        "id": "UDp6Q47IKtRW"
      },
      "source": [
        "from google.colab import files\n"
      ],
      "execution_count": null,
      "outputs": []
    },
    {
      "cell_type": "code",
      "metadata": {
        "colab": {
          "base_uri": "https://localhost:8080/",
          "height": 278
        },
        "id": "X3qrRQ1aZDma",
        "outputId": "c6bb3c4b-9a27-42fb-cda1-9c236622e1c2"
      },
      "source": [
        "plt.plot(history.history['accuracy'])\n",
        "plt.plot(history.history['val_accuracy'])\n",
        "plt.ylabel('Accuracy')\n",
        "plt.xlabel('Epoch')\n",
        "plt.legend(['training data', 'validation data'], loc='lower right')\n",
        "plt.show()\n",
        "plt.savefig(\"overfitPlot1.png\")"
      ],
      "execution_count": null,
      "outputs": [
        {
          "output_type": "display_data",
          "data": {
            "image/png": "[encoded data removed]",
            "text/plain": [
              "<Figure size 432x288 with 1 Axes>"
            ]
          },
          "metadata": {
            "tags": [],
            "needs_background": "light"
          }
        }
      ]
    },
    {
      "cell_type": "code",
      "metadata": {
        "colab": {
          "base_uri": "https://localhost:8080/",
          "height": 278
        },
        "id": "3iKTeA3PDlwZ",
        "outputId": "a28e0bf5-e186-4e11-f5b0-c7ccad1ef03e"
      },
      "source": [
        "plt.plot(history2.history['accuracy'])\n",
        "plt.plot(history2.history['val_accuracy'])\n",
        "plt.ylabel('Accuracy')\n",
        "plt.xlabel('Epoch')\n",
        "plt.legend(['training data', 'validation data'], loc='lower right')\n",
        "plt.show()\n",
        "plt.savefig(\"overfitPlot2.png\")"
      ],
      "execution_count": null,
      "outputs": [
        {
          "output_type": "display_data",
          "data": {
            "image/png": "[encoded data removed]",
            "text/plain": [
              "<Figure size 432x288 with 1 Axes>"
            ]
          },
          "metadata": {
            "tags": [],
            "needs_background": "light"
          }
        }
      ]
    },
    {
      "cell_type": "code",
      "metadata": {
        "colab": {
          "base_uri": "https://localhost:8080/",
          "height": 278
        },
        "id": "KqrRT3R5Yv4w",
        "outputId": "b37a57e6-5a9b-42c9-e963-91a13b9542e1"
      },
      "source": [
        "plt.plot(history3.history['accuracy'])\n",
        "plt.plot(history3.history['val_accuracy'])\n",
        "plt.ylabel('Accuracy')\n",
        "plt.xlabel('Epoch')\n",
        "plt.legend(['training data', 'validation data'], loc='lower right')\n",
        "plt.show()\n",
        "plt.savefig(\"overfitPlot3.png\")"
      ],
      "execution_count": null,
      "outputs": [
        {
          "output_type": "display_data",
          "data": {
            "image/png": "[encoded data removed]",
            "text/plain": [
              "<Figure size 432x288 with 1 Axes>"
            ]
          },
          "metadata": {
            "tags": [],
            "needs_background": "light"
          }
        }
      ]
    },
    {
      "cell_type": "code",
      "metadata": {
        "colab": {
          "base_uri": "https://localhost:8080/",
          "height": 278
        },
        "id": "ivn2HX6jYwKK",
        "outputId": "9d713516-c8cd-48d5-d2b6-8b43cc03c3a8"
      },
      "source": [
        "plt.plot(history4.history['accuracy'])\n",
        "plt.plot(history4.history['val_accuracy'])\n",
        "plt.ylabel('Accuracy')\n",
        "plt.xlabel('Epoch')\n",
        "plt.legend(['training data', 'validation data'], loc='lower right')\n",
        "plt.show()\n",
        "plt.savefig(\"overfitPlot4.png\")"
      ],
      "execution_count": null,
      "outputs": [
        {
          "output_type": "display_data",
          "data": {
            "image/png": "[encoded data removed]",
            "text/plain": [
              "<Figure size 432x288 with 1 Axes>"
            ]
          },
          "metadata": {
            "tags": [],
            "needs_background": "light"
          }
        }
      ]
    },
    {
      "cell_type": "code",
      "metadata": {
        "colab": {
          "base_uri": "https://localhost:8080/",
          "height": 278
        },
        "id": "76XHl4cSYwyW",
        "outputId": "d366cae3-6131-4459-8ca9-bbafcac8084c"
      },
      "source": [
        "plt.plot(history5.history['accuracy'])\n",
        "plt.plot(history5.history['val_accuracy'])\n",
        "plt.ylabel('Accuracy')\n",
        "plt.xlabel('Epoch')\n",
        "plt.legend(['training data', 'validation data'], loc='lower right')\n",
        "plt.show()\n",
        "plt.savefig(\"overfitPlot5.png\")"
      ],
      "execution_count": null,
      "outputs": [
        {
          "output_type": "display_data",
          "data": {
            "image/png": "[encoded data removed]",
            "text/plain": [
              "<Figure size 432x288 with 1 Axes>"
            ]
          },
          "metadata": {
            "tags": [],
            "needs_background": "light"
          }
        }
      ]
    },
    {
      "cell_type": "code",
      "metadata": {
        "colab": {
          "base_uri": "https://localhost:8080/",
          "height": 278
        },
        "id": "c9mePyl8YxBf",
        "outputId": "39531bba-2ad4-444f-cf0e-2e390fd48a4c"
      },
      "source": [
        "plt.plot(history6.history['accuracy'])\n",
        "plt.plot(history6.history['val_accuracy'])\n",
        "plt.ylabel('Accuracy')\n",
        "plt.xlabel('Epoch')\n",
        "plt.legend(['training data', 'validation data'], loc='lower right')\n",
        "plt.show()\n",
        "plt.savefig(\"overfitPlot6.png\")"
      ],
      "execution_count": null,
      "outputs": [
        {
          "output_type": "display_data",
          "data": {
            "image/png": "[encoded data removed]",
            "text/plain": [
              "<Figure size 432x288 with 1 Axes>"
            ]
          },
          "metadata": {
            "tags": [],
            "needs_background": "light"
          }
        }
      ]
    },
    {
      "cell_type": "code",
      "metadata": {
        "colab": {
          "base_uri": "https://localhost:8080/",
          "height": 278
        },
        "id": "wL1nMaqGYxQp",
        "outputId": "9f649145-4182-4ffd-fd16-179d6a1dcea1"
      },
      "source": [
        "plt.plot(history7.history['accuracy'])\n",
        "plt.plot(history7.history['val_accuracy'])\n",
        "plt.ylabel('Accuracy')\n",
        "plt.xlabel('Epoch')\n",
        "plt.legend(['training data', 'validation data'], loc='lower right')\n",
        "plt.show()\n",
        "plt.savefig(\"overfitPlot7.png\")"
      ],
      "execution_count": null,
      "outputs": [
        {
          "output_type": "display_data",
          "data": {
            "image/png": "[encoded data removed]",
            "text/plain": [
              "<Figure size 432x288 with 1 Axes>"
            ]
          },
          "metadata": {
            "tags": [],
            "needs_background": "light"
          }
        }
      ]
    },
    {
      "cell_type": "code",
      "metadata": {
        "colab": {
          "base_uri": "https://localhost:8080/",
          "height": 278
        },
        "id": "qpn9S7fHYxfg",
        "outputId": "90b76b5e-11fd-46bb-f7da-4aaf3bd92b5f"
      },
      "source": [
        "plt.plot(history8.history['accuracy'])\n",
        "plt.plot(history8.history['val_accuracy'])\n",
        "plt.ylabel('Accuracy')\n",
        "plt.xlabel('Epoch')\n",
        "plt.legend(['training data', 'validation data'], loc='lower right')\n",
        "plt.show()\n",
        "plt.savefig(\"overfitPlot8.png\")"
      ],
      "execution_count": null,
      "outputs": [
        {
          "output_type": "display_data",
          "data": {
            "image/png": "[encoded data removed]",
            "text/plain": [
              "<Figure size 432x288 with 1 Axes>"
            ]
          },
          "metadata": {
            "tags": [],
            "needs_background": "light"
          }
        }
      ]
    },
    {
      "cell_type": "code",
      "metadata": {
        "id": "b8apRTTmK26k"
      },
      "source": [
        "#to download the plots\n",
        "# files.download(\"overfitPlot1.png\") \n",
        "# files.download(\"overfitPlot2.png\") \n",
        "# files.download(\"overfitPlot3.png\") \n",
        "# files.download(\"overfitPlot4.png\") \n",
        "# files.download(\"overfitPlot5.png\") \n",
        "# files.download(\"overfitPlot6.png\") \n",
        "# files.download(\"overfitPlot7.png\") \n",
        "# files.download(\"overfitPlot8.png\") "
      ],
      "execution_count": 29,
      "outputs": []
    },
    {
      "cell_type": "markdown",
      "metadata": {
        "id": "T2doRxx-u-Vj"
      },
      "source": [
        "# Save the model to a file"
      ]
    },
    {
      "cell_type": "code",
      "metadata": {
        "id": "oL4cLw6su-gj"
      },
      "source": [
        "# model.save('deepfakeDetectionModel.h5')\n"
      ],
      "execution_count": null,
      "outputs": []
    }
  ]
}