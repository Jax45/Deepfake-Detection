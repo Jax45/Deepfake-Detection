{
  "nbformat": 4,
  "nbformat_minor": 0,
  "metadata": {
    "colab": {
      "name": "Deepfake Detection Phase 3.ipynb",
      "provenance": [],
      "toc_visible": true,
      "authorship_tag": "ABX9TyOIyiVtgnQbWoBSfrmSOF5l",
      "include_colab_link": true
    },
    "kernelspec": {
      "name": "python3",
      "display_name": "Python 3"
    },
    "language_info": {
      "name": "python"
    },
    "accelerator": "GPU"
  },
  "cells": [
    {
      "cell_type": "markdown",
      "metadata": {
        "id": "view-in-github",
        "colab_type": "text"
      },
      "source": [
        "<a href=\"https://colab.research.google.com/github/Jax45/Deepfake-Detection/blob/main/Deepfake_Detection_Phase_3.ipynb\" target=\"_parent\"><img src=\"https://colab.research.google.com/assets/colab-badge.svg\" alt=\"Open In Colab\"/></a>"
      ]
    },
    {
      "cell_type": "markdown",
      "metadata": {
        "id": "pAMfNOCX4Cgp"
      },
      "source": [
        "# 5390 Deep Learning UMSL\n",
        "## sp21 Semester Project\n",
        "Jackson Hoenig"
      ]
    },
    {
      "cell_type": "markdown",
      "metadata": {
        "id": "0-UEG3TG4Qqr"
      },
      "source": [
        "# Description"
      ]
    },
    {
      "cell_type": "markdown",
      "metadata": {
        "id": "N0hWc2sQ4T7c"
      },
      "source": [
        "\n",
        "\n",
        "1. Watch the lecture in Module 4.\n",
        "2. Practice this notebook. It demonstrates how to train a model by loading data from ImageDataGenerators.\n",
        "2. Randomly split your data into training, development, and test set, i.e., put the images in three separate folders (for example, see mnist_png.tar.gz in the data folder). Note: The reason for randomly splitting ahead of time (and not at runtime) is 'reproducibility'.\n",
        "2. Train your model using the training set, 'Earlystop' using the validation set, and evaluate on the test set. Hint: The trick is to create three sets of folders -- training, validation, and testing -- and then create three separate data generators.\n",
        "2. Study the performance when the number of filters and layers are increased/changed\n",
        "2. Plot your learning curves and include them in your report\n",
        "\n"
      ]
    },
    {
      "cell_type": "markdown",
      "metadata": {
        "id": "j2WFjzPe6UiU"
      },
      "source": [
        "#Initial Setup"
      ]
    },
    {
      "cell_type": "markdown",
      "metadata": {
        "id": "-Tm6zEoZ7JUo"
      },
      "source": [
        "##Imports"
      ]
    },
    {
      "cell_type": "code",
      "metadata": {
        "id": "D6CtHFIO38Cr"
      },
      "source": [
        "import requests, zipfile, io, os\n",
        "import os\n",
        "from tensorflow.keras.models import Sequential\n",
        "from tensorflow.keras.layers import Dense, Conv2D, Flatten, MaxPool2D\n",
        "from keras.preprocessing.image import ImageDataGenerator\n",
        "from keras.callbacks import EarlyStopping\n",
        "import matplotlib.pyplot as plt\n",
        "from keras import layers\n",
        "from keras import models\n",
        "from keras import callbacks\n",
        "from keras.layers import Dropout\n",
        "from keras.preprocessing import image\n",
        "import matplotlib.pyplot as plt\n",
        "import numpy as np\n",
        "from sklearn.datasets import make_circles\n",
        "from sklearn.metrics import accuracy_score\n",
        "from sklearn.metrics import precision_score\n",
        "from sklearn.metrics import recall_score\n",
        "from sklearn.metrics import f1_score\n",
        "from sklearn.metrics import cohen_kappa_score\n",
        "from sklearn.metrics import roc_auc_score\n",
        "from sklearn.metrics import confusion_matrix\n"
      ],
      "execution_count": 1,
      "outputs": []
    },
    {
      "cell_type": "markdown",
      "metadata": {
        "id": "HyuEm5_H6-hg"
      },
      "source": [
        "##Prevent Google Colab From Stalling"
      ]
    },
    {
      "cell_type": "code",
      "metadata": {
        "id": "aWka_Yii69KH",
        "colab": {
          "base_uri": "https://localhost:8080/",
          "height": 0
        },
        "outputId": "4e9682c6-6204-4b06-bc57-e08c318b7c4d"
      },
      "source": [
        "import IPython\n",
        "from google.colab import output\n",
        "\n",
        "display(IPython.display.Javascript('''\n",
        " function ClickConnect(){\n",
        "   btn = document.querySelector(\"colab-connect-button\")\n",
        "   if (btn != null){\n",
        "     console.log(\"Click colab-connect-button\"); \n",
        "     btn.click() \n",
        "     }\n",
        "   \n",
        "   btn = document.getElementById('ok')\n",
        "   if (btn != null){\n",
        "     console.log(\"Click reconnect\"); \n",
        "     btn.click() \n",
        "     }\n",
        "  }\n",
        "  \n",
        "setInterval(ClickConnect,60000)\n",
        "'''))\n",
        "\n",
        "print(\"Done.\")"
      ],
      "execution_count": 2,
      "outputs": [
        {
          "output_type": "display_data",
          "data": {
            "application/javascript": [
              "\n",
              " function ClickConnect(){\n",
              "   btn = document.querySelector(\"colab-connect-button\")\n",
              "   if (btn != null){\n",
              "     console.log(\"Click colab-connect-button\"); \n",
              "     btn.click() \n",
              "     }\n",
              "   \n",
              "   btn = document.getElementById('ok')\n",
              "   if (btn != null){\n",
              "     console.log(\"Click reconnect\"); \n",
              "     btn.click() \n",
              "     }\n",
              "  }\n",
              "  \n",
              "setInterval(ClickConnect,60000)\n"
            ],
            "text/plain": [
              "<IPython.core.display.Javascript object>"
            ]
          },
          "metadata": {
            "tags": []
          }
        },
        {
          "output_type": "stream",
          "text": [
            "Done.\n"
          ],
          "name": "stdout"
        }
      ]
    },
    {
      "cell_type": "markdown",
      "metadata": {
        "id": "DMRTzyz16WxI"
      },
      "source": [
        "#Split the Training Data"
      ]
    },
    {
      "cell_type": "code",
      "metadata": {
        "colab": {
          "base_uri": "https://localhost:8080/"
        },
        "id": "XfzJqXA_6aY6",
        "outputId": "9eb84128-170b-424d-eac0-613eff3344f7"
      },
      "source": [
        "print('Downloading and unzipping test file.')\n",
        "r = requests.get('https://github.com/Jax45/Deepfake-Detection/raw/main/DeepfakeDataset-001.zip')\n",
        "z = zipfile.ZipFile(io.BytesIO(r.content))\n",
        "z.extractall()"
      ],
      "execution_count": 3,
      "outputs": [
        {
          "output_type": "stream",
          "text": [
            "Downloading and unzipping test file.\n"
          ],
          "name": "stdout"
        }
      ]
    },
    {
      "cell_type": "code",
      "metadata": {
        "id": "HS8rNXhP7TvI"
      },
      "source": [
        "#create the directory paths\n",
        "!mkdir SplitDataset\n",
        "!mkdir SplitDataset/train\n",
        "!mkdir SplitDataset/test\n",
        "!mkdir SplitDataset/valid\n",
        "!mkdir SplitDataset/train/real\n",
        "!mkdir SplitDataset/train/fake\n",
        "!mkdir SplitDataset/test/real\n",
        "!mkdir SplitDataset/test/fake\n",
        "!mkdir SplitDataset/valid/real\n",
        "!mkdir SplitDataset/valid/fake"
      ],
      "execution_count": 4,
      "outputs": []
    },
    {
      "cell_type": "code",
      "metadata": {
        "id": "bThztrNA7Vvd"
      },
      "source": [
        "\n",
        "#save all real file names to list\n",
        "import os\n",
        "count = 0\n",
        "realFileNames = list()\n",
        "fakeFileNames = list()\n",
        "for filename in os.listdir('/content/Real_Images'):\n",
        "  realFileNames.append(filename)\n",
        "\n",
        "#save all fake file names to list\n",
        "for filename in os.listdir('/content/Fake_Images'):\n",
        "  fakeFileNames.append(filename)\n",
        "\n"
      ],
      "execution_count": 5,
      "outputs": []
    },
    {
      "cell_type": "code",
      "metadata": {
        "id": "Caw2kRRH7Ycz"
      },
      "source": [
        "import random\n",
        "import os\n",
        "import imageio\n",
        "#split real file names into\n",
        "#train valid and test\n",
        "random.shuffle(realFileNames)\n",
        "count = 0\n",
        "for file in realFileNames:\n",
        "  if count < len(realFileNames) * 3 / 5: #first 60%\n",
        "    # print(\"Train dataset\" + str(count))\n",
        "    imageio.imwrite('/content/SplitDataset/train/real/' + file, imageio.imread('/content/Real_Images/' + file))\n",
        "\n",
        "  elif count < len(realFileNames) * 4 / 5: #20% after 60%\n",
        "    # print(\"Valid dataset\" + str(count))\n",
        "    imageio.imwrite('/content/SplitDataset/valid/real/' + file, imageio.imread('/content/Real_Images/' + file))\n",
        "\n",
        "  else: #Last 20 percent\n",
        "    #Test\n",
        "    imageio.imwrite('/content/SplitDataset/test/real/' + file, imageio.imread('/content/Real_Images/' + file))\n",
        "\n",
        "  count += 1;\n"
      ],
      "execution_count": 6,
      "outputs": []
    },
    {
      "cell_type": "markdown",
      "metadata": {
        "id": "2XBOTyeMy54x"
      },
      "source": [
        "With the fake images we need to make sure the same videos are kept together so they do not get split among the datasets. there are 8 videos so we will take the first 4 videos for training, the next 2 for validation and last 2 for test set."
      ]
    },
    {
      "cell_type": "code",
      "metadata": {
        "colab": {
          "base_uri": "https://localhost:8080/"
        },
        "id": "3vMQBXSDzOR3",
        "outputId": "7fe0fc1e-ff0d-426b-9aab-459e67b5c35c"
      },
      "source": [
        "count = 0\n",
        "for file in fakeFileNames:\n",
        "  if file.startswith('gen1') or file.startswith('gen3') or file.startswith('gen4') or file.startswith('gen5'): #first 60%\n",
        "    print(\"Train dataset\" + str(count) + file)\n",
        "    imageio.imwrite('/content/SplitDataset/train/fake/' + file, imageio.imread('/content/Fake_Images/' + file))\n",
        "\n",
        "  elif file.startswith('gen6') or file.startswith('gen7'): #20% after 60%\n",
        "    # print(\"Valid dataset\" + str(count))\n",
        "    imageio.imwrite('/content/SplitDataset/valid/fake/' + file, imageio.imread('/content/Fake_Images/' + file))\n",
        "\n",
        "  else: #Last 20 percent\n",
        "    #Test\n",
        "    imageio.imwrite('/content/SplitDataset/test/fake/' + file, imageio.imread('/content/Fake_Images/' + file))\n",
        "  \n",
        "  count += 1;\n"
      ],
      "execution_count": 7,
      "outputs": [
        {
          "output_type": "stream",
          "text": [
            "Train dataset1gen5_frame185.jpg\n",
            "Train dataset2gen5_frame70.jpg\n",
            "Train dataset3gen4_frame415.jpg\n",
            "Train dataset5gen5_frame110.jpg\n",
            "Train dataset7gen1_frame175.jpg\n",
            "Train dataset8gen4_frame440.jpg\n",
            "Train dataset10gen3_frame15.jpg\n",
            "Train dataset16gen5_frame40.jpg\n",
            "Train dataset18gen4_frame100.jpg\n",
            "Train dataset20gen4_frame10.jpg\n",
            "Train dataset21gen4_frame240.jpg\n",
            "Train dataset24gen1_frame105.jpg\n",
            "Train dataset25gen4_frame35.jpg\n",
            "Train dataset26gen1_frame45.jpg\n",
            "Train dataset29gen3_frame90.jpg\n",
            "Train dataset31gen3_frame125.jpg\n",
            "Train dataset32gen1_frame65.jpg\n",
            "Train dataset33gen3_frame50.jpg\n",
            "Train dataset35gen4_frame375.jpg\n",
            "Train dataset37gen3_frame145.jpg\n",
            "Train dataset38gen4_frame355.jpg\n",
            "Train dataset39gen5_frame95.jpg\n",
            "Train dataset40gen4_frame315.jpg\n",
            "Train dataset44gen1_frame190.jpg\n",
            "Train dataset45gen4_frame335.jpg\n",
            "Train dataset46gen4_frame210.jpg\n",
            "Train dataset47gen4_frame370.jpg\n",
            "Train dataset48gen4_frame290.jpg\n",
            "Train dataset50gen5_frame180.jpg\n",
            "Train dataset52gen3_frame100.jpg\n",
            "Train dataset53gen3_frame25.jpg\n",
            "Train dataset54gen5_frame20.jpg\n",
            "Train dataset55gen4_frame5.jpg\n",
            "Train dataset56gen1_frame60.jpg\n",
            "Train dataset57gen4_frame365.jpg\n",
            "Train dataset58gen4_frame20.jpg\n",
            "Train dataset59gen3_frame65.jpg\n",
            "Train dataset61gen3_frame80.jpg\n",
            "Train dataset63gen4_frame115.jpg\n",
            "Train dataset64gen4_frame235.jpg\n",
            "Train dataset65gen5_frame160.jpg\n",
            "Train dataset66gen4_frame420.jpg\n",
            "Train dataset67gen1_frame95.jpg\n",
            "Train dataset71gen3_frame10.jpg\n",
            "Train dataset73gen3_frame105.jpg\n",
            "Train dataset76gen1_frame55.jpg\n",
            "Train dataset78gen4_frame105.jpg\n",
            "Train dataset80gen5_frame105.jpg\n",
            "Train dataset83gen1_frame155.jpg\n",
            "Train dataset85gen4_frame425.jpg\n",
            "Train dataset90gen4_frame130.jpg\n",
            "Train dataset91gen1_frame25.jpg\n",
            "Train dataset92gen5_frame240.jpg\n",
            "Train dataset95gen4_frame15.jpg\n",
            "Train dataset96gen3_frame60.jpg\n",
            "Train dataset98gen1_frame185.jpg\n",
            "Train dataset100gen1_frame35.jpg\n",
            "Train dataset102gen1_frame210.jpg\n",
            "Train dataset108gen3_frame55.jpg\n",
            "Train dataset110gen4_frame80.jpg\n",
            "Train dataset112gen4_frame40.jpg\n",
            "Train dataset113gen1_frame180.jpg\n",
            "Train dataset114gen4_frame85.jpg\n",
            "Train dataset115gen4_frame190.jpg\n",
            "Train dataset116gen1_frame80.jpg\n",
            "Train dataset117gen5_frame210.jpg\n",
            "Train dataset119gen4_frame50.jpg\n",
            "Train dataset121gen4_frame320.jpg\n",
            "Train dataset125gen1_frame50.jpg\n",
            "Train dataset126gen4_frame295.jpg\n",
            "Train dataset127gen4_frame160.jpg\n",
            "Train dataset129gen4_frame135.jpg\n",
            "Train dataset131gen4_frame90.jpg\n",
            "Train dataset132gen5_frame10.jpg\n",
            "Train dataset133gen4_frame270.jpg\n",
            "Train dataset134gen4_frame120.jpg\n",
            "Train dataset138gen1_frame170.jpg\n",
            "Train dataset139gen4_frame220.jpg\n",
            "Train dataset140gen4_frame385.jpg\n",
            "Train dataset141gen3_frame75.jpg\n",
            "Train dataset143gen5_frame230.jpg\n",
            "Train dataset144gen4_frame360.jpg\n",
            "Train dataset151gen1_frame90.jpg\n",
            "Train dataset155gen5_frame165.jpg\n",
            "Train dataset156gen4_frame345.jpg\n",
            "Train dataset157gen4_frame260.jpg\n",
            "Train dataset159gen3_frame120.jpg\n",
            "Train dataset160gen4_frame30.jpg\n",
            "Train dataset162gen5_frame205.jpg\n",
            "Train dataset163gen5_frame120.jpg\n",
            "Train dataset165gen4_frame305.jpg\n",
            "Train dataset166gen5_frame100.jpg\n",
            "Train dataset167gen5_frame195.jpg\n",
            "Train dataset169gen4_frame155.jpg\n",
            "Train dataset170gen4_frame180.jpg\n",
            "Train dataset172gen3_frame135.jpg\n",
            "Train dataset174gen1_frame0.jpg\n",
            "Train dataset176gen1_frame125.jpg\n",
            "Train dataset177gen3_frame20.jpg\n",
            "Train dataset178gen1_frame40.jpg\n",
            "Train dataset179gen4_frame95.jpg\n",
            "Train dataset182gen5_frame260.jpg\n",
            "Train dataset183gen4_frame275.jpg\n",
            "Train dataset184gen5_frame190.jpg\n",
            "Train dataset188gen5_frame175.jpg\n",
            "Train dataset189gen5_frame30.jpg\n",
            "Train dataset191gen4_frame150.jpg\n",
            "Train dataset192gen1_frame135.jpg\n",
            "Train dataset193gen4_frame325.jpg\n",
            "Train dataset194gen4_frame110.jpg\n",
            "Train dataset195gen1_frame5.jpg\n",
            "Train dataset196gen4_frame145.jpg\n",
            "Train dataset197gen4_frame255.jpg\n",
            "Train dataset200gen1_frame195.jpg\n",
            "Train dataset201gen5_frame155.jpg\n",
            "Train dataset202gen3_frame45.jpg\n",
            "Train dataset204gen4_frame185.jpg\n",
            "Train dataset206gen5_frame170.jpg\n",
            "Train dataset208gen4_frame165.jpg\n",
            "Train dataset210gen5_frame250.jpg\n",
            "Train dataset213gen1_frame115.jpg\n",
            "Train dataset214gen3_frame40.jpg\n",
            "Train dataset215gen3_frame110.jpg\n",
            "Train dataset216gen4_frame215.jpg\n",
            "Train dataset217gen3_frame115.jpg\n",
            "Train dataset219gen5_frame15.jpg\n",
            "Train dataset220gen5_frame125.jpg\n",
            "Train dataset221gen4_frame25.jpg\n",
            "Train dataset224gen5_frame225.jpg\n",
            "Train dataset225gen1_frame10.jpg\n",
            "Train dataset227gen1_frame120.jpg\n",
            "Train dataset228gen5_frame50.jpg\n",
            "Train dataset230gen5_frame60.jpg\n",
            "Train dataset231gen5_frame140.jpg\n",
            "Train dataset232gen5_frame75.jpg\n",
            "Train dataset233gen5_frame55.jpg\n",
            "Train dataset234gen1_frame110.jpg\n",
            "Train dataset235gen1_frame70.jpg\n",
            "Train dataset238gen3_frame130.jpg\n",
            "Train dataset240gen1_frame200.jpg\n",
            "Train dataset241gen4_frame195.jpg\n",
            "Train dataset242gen4_frame265.jpg\n",
            "Train dataset245gen1_frame165.jpg\n",
            "Train dataset247gen3_frame85.jpg\n",
            "Train dataset248gen4_frame45.jpg\n",
            "Train dataset249gen4_frame310.jpg\n",
            "Train dataset250gen5_frame200.jpg\n",
            "Train dataset251gen1_frame15.jpg\n",
            "Train dataset254gen1_frame150.jpg\n",
            "Train dataset255gen4_frame390.jpg\n",
            "Train dataset256gen4_frame170.jpg\n",
            "Train dataset257gen5_frame25.jpg\n",
            "Train dataset259gen5_frame215.jpg\n",
            "Train dataset260gen5_frame5.jpg\n",
            "Train dataset261gen1_frame100.jpg\n",
            "Train dataset262gen5_frame150.jpg\n",
            "Train dataset263gen4_frame70.jpg\n",
            "Train dataset264gen3_frame5.jpg\n",
            "Train dataset265gen1_frame75.jpg\n",
            "Train dataset266gen1_frame85.jpg\n",
            "Train dataset268gen5_frame45.jpg\n",
            "Train dataset269gen4_frame0.jpg\n",
            "Train dataset271gen1_frame130.jpg\n",
            "Train dataset275gen4_frame395.jpg\n",
            "Train dataset276gen4_frame60.jpg\n",
            "Train dataset280gen5_frame115.jpg\n",
            "Train dataset283gen4_frame340.jpg\n",
            "Train dataset285gen4_frame430.jpg\n",
            "Train dataset286gen4_frame175.jpg\n",
            "Train dataset287gen4_frame280.jpg\n",
            "Train dataset290gen4_frame400.jpg\n",
            "Train dataset291gen4_frame330.jpg\n",
            "Train dataset292gen5_frame80.jpg\n",
            "Train dataset294gen4_frame75.jpg\n",
            "Train dataset295gen4_frame65.jpg\n",
            "Train dataset296gen5_frame90.jpg\n",
            "Train dataset299gen1_frame140.jpg\n",
            "Train dataset304gen5_frame130.jpg\n",
            "Train dataset306gen3_frame0.jpg\n",
            "Train dataset308gen4_frame405.jpg\n",
            "Train dataset310gen5_frame35.jpg\n",
            "Train dataset311gen5_frame135.jpg\n",
            "Train dataset312gen1_frame20.jpg\n",
            "Train dataset313gen4_frame380.jpg\n",
            "Train dataset314gen3_frame35.jpg\n",
            "Train dataset316gen4_frame55.jpg\n",
            "Train dataset318gen3_frame140.jpg\n",
            "Train dataset319gen4_frame200.jpg\n",
            "Train dataset322gen4_frame230.jpg\n",
            "Train dataset324gen5_frame0.jpg\n",
            "Train dataset325gen4_frame410.jpg\n",
            "Train dataset326gen5_frame145.jpg\n",
            "Train dataset327gen1_frame30.jpg\n",
            "Train dataset328gen4_frame250.jpg\n",
            "Train dataset329gen5_frame245.jpg\n",
            "Train dataset331gen4_frame435.jpg\n",
            "Train dataset335gen5_frame65.jpg\n",
            "Train dataset336gen5_frame235.jpg\n",
            "Train dataset337gen3_frame30.jpg\n",
            "Train dataset339gen5_frame85.jpg\n",
            "Train dataset340gen3_frame95.jpg\n",
            "Train dataset341gen3_frame70.jpg\n",
            "Train dataset342gen5_frame255.jpg\n",
            "Train dataset343gen1_frame205.jpg\n",
            "Train dataset344gen4_frame205.jpg\n",
            "Train dataset345gen1_frame160.jpg\n",
            "Train dataset347gen4_frame125.jpg\n",
            "Train dataset348gen5_frame220.jpg\n",
            "Train dataset349gen4_frame300.jpg\n",
            "Train dataset351gen1_frame145.jpg\n",
            "Train dataset354gen4_frame245.jpg\n",
            "Train dataset356gen4_frame285.jpg\n",
            "Train dataset357gen4_frame350.jpg\n",
            "Train dataset358gen4_frame225.jpg\n",
            "Train dataset359gen4_frame140.jpg\n"
          ],
          "name": "stdout"
        }
      ]
    },
    {
      "cell_type": "code",
      "metadata": {
        "colab": {
          "base_uri": "https://localhost:8080/"
        },
        "id": "0hdANd067bFv",
        "outputId": "e3ebe582-0efe-4a3a-cb26-40545279e430"
      },
      "source": [
        "base_dir = 'SplitDataset'\n",
        "train_dir = os.path.join(base_dir, 'train')\n",
        "validation_dir = os.path.join(base_dir, 'valid')\n",
        "test_dir = os.path.join(base_dir, 'test')\n",
        "\n",
        "for s in os.listdir(base_dir):\n",
        "  for origin in os.listdir(base_dir+'/'+s):\n",
        "    print(base_dir+'/'+s+'/'+origin+': '+str(len(os.listdir(base_dir+'/'+s+'/'+origin))))\n",
        "  print('-----')"
      ],
      "execution_count": 8,
      "outputs": [
        {
          "output_type": "stream",
          "text": [
            "SplitDataset/valid/real: 101\n",
            "SplitDataset/valid/fake: 73\n",
            "-----\n",
            "SplitDataset/test/real: 100\n",
            "SplitDataset/test/fake: 73\n",
            "-----\n",
            "SplitDataset/train/real: 302\n",
            "SplitDataset/train/fake: 215\n",
            "-----\n"
          ],
          "name": "stdout"
        }
      ]
    },
    {
      "cell_type": "markdown",
      "metadata": {
        "id": "pCtQQrHb7fVk"
      },
      "source": [
        "## Create Data Generators"
      ]
    },
    {
      "cell_type": "code",
      "metadata": {
        "colab": {
          "base_uri": "https://localhost:8080/"
        },
        "id": "Q-uEvN-z7jGl",
        "outputId": "b8d144bd-5c8d-4ca1-b662-a8b180527391"
      },
      "source": [
        "#get a validation set generator\n",
        "train_datagen = ImageDataGenerator(rescale=1./255,\n",
        "    rotation_range=10,\n",
        "    brightness_range=[0.8,1.2],\n",
        "    fill_mode='nearest' \n",
        "    )\n",
        "\n",
        "train_generator = train_datagen.flow_from_directory(\n",
        "        train_dir,\n",
        "        target_size=(256, 256),\n",
        "        batch_size=4,\n",
        "        class_mode='categorical')\n",
        "class_dictionary = train_generator.class_indices\n",
        "print(class_dictionary)"
      ],
      "execution_count": 9,
      "outputs": [
        {
          "output_type": "stream",
          "text": [
            "Found 517 images belonging to 2 classes.\n",
            "{'fake': 0, 'real': 1}\n"
          ],
          "name": "stdout"
        }
      ]
    },
    {
      "cell_type": "code",
      "metadata": {
        "colab": {
          "base_uri": "https://localhost:8080/"
        },
        "id": "RsIwi1iZ7wMM",
        "outputId": "886b5c0f-99a8-41c8-cdae-efda0740c689"
      },
      "source": [
        "#get a validation set generator\n",
        "validate_datagen = ImageDataGenerator(rescale=1./255)\n",
        "validation_generator = validate_datagen.flow_from_directory(\n",
        "        validation_dir,\n",
        "        target_size=(256, 256),\n",
        "        batch_size=4,\n",
        "        class_mode='categorical')"
      ],
      "execution_count": 10,
      "outputs": [
        {
          "output_type": "stream",
          "text": [
            "Found 174 images belonging to 2 classes.\n"
          ],
          "name": "stdout"
        }
      ]
    },
    {
      "cell_type": "code",
      "metadata": {
        "colab": {
          "base_uri": "https://localhost:8080/"
        },
        "id": "2zAX75PY7xEi",
        "outputId": "7b50038d-3818-4602-f0b6-5bcda1041044"
      },
      "source": [
        "#get a test set generator\n",
        "test_datagen = ImageDataGenerator(rescale=1./255)\n",
        "test_generator = test_datagen.flow_from_directory(\n",
        "        test_dir,\n",
        "        target_size=(256, 256),\n",
        "        batch_size=20,\n",
        "        class_mode='categorical')"
      ],
      "execution_count": 11,
      "outputs": [
        {
          "output_type": "stream",
          "text": [
            "Found 173 images belonging to 2 classes.\n"
          ],
          "name": "stdout"
        }
      ]
    },
    {
      "cell_type": "markdown",
      "metadata": {
        "id": "gjoOBbyX6ajJ"
      },
      "source": [
        "#Train the models on the training set"
      ]
    },
    {
      "cell_type": "code",
      "metadata": {
        "id": "Wdb6vI5h6eLr"
      },
      "source": [
        "#Make sure the Earlystop callback is used with the validation set\n",
        "callback = callbacks.EarlyStopping(monitor='val_loss', patience=10)"
      ],
      "execution_count": 30,
      "outputs": []
    },
    {
      "cell_type": "code",
      "metadata": {
        "colab": {
          "base_uri": "https://localhost:8080/"
        },
        "id": "TlVWdl1v8fyh",
        "outputId": "1455dafe-01f0-44de-f4e2-725b79ddda0a"
      },
      "source": [
        "from tensorflow.keras.models import Sequential\n",
        "from tensorflow.keras.layers import Dense, Conv2D, Flatten, MaxPool2D\n",
        "\n",
        "model1 = Sequential()\n",
        "model1.add( Conv2D( 16, ( 3, 3 ), activation = 'relu', input_shape=(256, 256, 3) ) )\n",
        "model1.add( Flatten() )\n",
        "model1.add( Dense( 2, activation = 'sigmoid' ) )\n",
        "model1.summary()\n",
        "\n",
        "model1.compile( optimizer = 'adam', loss = 'binary_crossentropy', metrics = [ 'accuracy' ] )\n",
        "\n",
        "history = model1.fit( train_generator, validation_data=validation_generator, callbacks=[callback], epochs = 35, batch_size = 64 )"
      ],
      "execution_count": 31,
      "outputs": [
        {
          "output_type": "stream",
          "text": [
            "Model: \"sequential_3\"\n",
            "_________________________________________________________________\n",
            "Layer (type)                 Output Shape              Param #   \n",
            "=================================================================\n",
            "conv2d_5 (Conv2D)            (None, 254, 254, 16)      448       \n",
            "_________________________________________________________________\n",
            "flatten_3 (Flatten)          (None, 1032256)           0         \n",
            "_________________________________________________________________\n",
            "dense_3 (Dense)              (None, 2)                 2064514   \n",
            "=================================================================\n",
            "Total params: 2,064,962\n",
            "Trainable params: 2,064,962\n",
            "Non-trainable params: 0\n",
            "_________________________________________________________________\n",
            "Epoch 1/35\n",
            "130/130 [==============================] - 10s 72ms/step - loss: 11.4917 - accuracy: 0.6565 - val_loss: 2.7398 - val_accuracy: 0.5747\n",
            "Epoch 2/35\n",
            "130/130 [==============================] - 9s 70ms/step - loss: 0.1852 - accuracy: 0.9305 - val_loss: 1.8026 - val_accuracy: 0.5805\n",
            "Epoch 3/35\n",
            "130/130 [==============================] - 9s 71ms/step - loss: 0.1280 - accuracy: 0.9623 - val_loss: 2.7534 - val_accuracy: 0.5632\n",
            "Epoch 4/35\n",
            "130/130 [==============================] - 9s 70ms/step - loss: 0.1362 - accuracy: 0.9594 - val_loss: 4.5988 - val_accuracy: 0.5805\n",
            "Epoch 5/35\n",
            "130/130 [==============================] - 9s 70ms/step - loss: 0.0719 - accuracy: 0.9766 - val_loss: 4.3654 - val_accuracy: 0.5805\n",
            "Epoch 6/35\n",
            "130/130 [==============================] - 9s 68ms/step - loss: 0.0330 - accuracy: 0.9909 - val_loss: 4.8439 - val_accuracy: 0.5690\n",
            "Epoch 7/35\n",
            "130/130 [==============================] - 9s 70ms/step - loss: 0.0499 - accuracy: 0.9864 - val_loss: 3.3326 - val_accuracy: 0.5747\n",
            "Epoch 8/35\n",
            "130/130 [==============================] - 9s 69ms/step - loss: 0.0230 - accuracy: 0.9998 - val_loss: 6.1293 - val_accuracy: 0.5805\n",
            "Epoch 9/35\n",
            "130/130 [==============================] - 9s 69ms/step - loss: 0.0877 - accuracy: 0.9653 - val_loss: 7.5770 - val_accuracy: 0.5805\n",
            "Epoch 10/35\n",
            "130/130 [==============================] - 9s 69ms/step - loss: 0.0432 - accuracy: 0.9916 - val_loss: 8.0602 - val_accuracy: 0.5747\n",
            "Epoch 11/35\n",
            "130/130 [==============================] - 9s 69ms/step - loss: 0.0257 - accuracy: 0.9925 - val_loss: 5.3287 - val_accuracy: 0.5747\n",
            "Epoch 12/35\n",
            "130/130 [==============================] - 9s 69ms/step - loss: 0.0190 - accuracy: 0.9973 - val_loss: 4.4357 - val_accuracy: 0.5747\n"
          ],
          "name": "stdout"
        }
      ]
    },
    {
      "cell_type": "code",
      "metadata": {
        "colab": {
          "base_uri": "https://localhost:8080/"
        },
        "id": "DdXoUP_WBTFo",
        "outputId": "60d6ad9b-f0e3-442a-aff9-55f77091dba3"
      },
      "source": [
        "model2 = Sequential()\n",
        "model2.add( Conv2D( 128, ( 3, 3 ), activation = 'relu', input_shape=(256, 256, 3) ) )\n",
        "model2.add( MaxPool2D(4, 4) )\n",
        "model2.add( Conv2D( 64, ( 3, 3 ), activation = 'relu' ) )\n",
        "model2.add( MaxPool2D(4, 4) )\n",
        "model2.add( Conv2D( 32, ( 3, 3 ), activation = 'relu' ) )\n",
        "model2.add( MaxPool2D(4, 4) )\n",
        "model2.add( Conv2D( 16, ( 3, 3 ), activation = 'relu' ) )\n",
        "model2.add( Flatten() )\n",
        "model2.add( Dense( 10, activation = 'relu' ) )\n",
        "model2.add( Dense( 2, activation = 'sigmoid' ) )\n",
        "model2.summary()\n",
        "model2.compile( optimizer = 'adam', loss = 'binary_crossentropy', metrics = [ 'accuracy' ] )\n",
        "history2 = model2.fit(  train_generator, validation_data=validation_generator, callbacks=[callback], epochs = 35, batch_size = 64 )"
      ],
      "execution_count": 32,
      "outputs": [
        {
          "output_type": "stream",
          "text": [
            "Model: \"sequential_4\"\n",
            "_________________________________________________________________\n",
            "Layer (type)                 Output Shape              Param #   \n",
            "=================================================================\n",
            "conv2d_6 (Conv2D)            (None, 254, 254, 128)     3584      \n",
            "_________________________________________________________________\n",
            "max_pooling2d_3 (MaxPooling2 (None, 63, 63, 128)       0         \n",
            "_________________________________________________________________\n",
            "conv2d_7 (Conv2D)            (None, 61, 61, 64)        73792     \n",
            "_________________________________________________________________\n",
            "max_pooling2d_4 (MaxPooling2 (None, 15, 15, 64)        0         \n",
            "_________________________________________________________________\n",
            "conv2d_8 (Conv2D)            (None, 13, 13, 32)        18464     \n",
            "_________________________________________________________________\n",
            "max_pooling2d_5 (MaxPooling2 (None, 3, 3, 32)          0         \n",
            "_________________________________________________________________\n",
            "conv2d_9 (Conv2D)            (None, 1, 1, 16)          4624      \n",
            "_________________________________________________________________\n",
            "flatten_4 (Flatten)          (None, 16)                0         \n",
            "_________________________________________________________________\n",
            "dense_4 (Dense)              (None, 10)                170       \n",
            "_________________________________________________________________\n",
            "dense_5 (Dense)              (None, 2)                 22        \n",
            "=================================================================\n",
            "Total params: 100,656\n",
            "Trainable params: 100,656\n",
            "Non-trainable params: 0\n",
            "_________________________________________________________________\n",
            "Epoch 1/35\n",
            "130/130 [==============================] - 11s 75ms/step - loss: 0.6937 - accuracy: 0.5356 - val_loss: 0.6860 - val_accuracy: 0.5805\n",
            "Epoch 2/35\n",
            "130/130 [==============================] - 9s 72ms/step - loss: 0.6484 - accuracy: 0.6365 - val_loss: 0.7151 - val_accuracy: 0.5460\n",
            "Epoch 3/35\n",
            "130/130 [==============================] - 10s 73ms/step - loss: 0.4146 - accuracy: 0.8200 - val_loss: 0.6478 - val_accuracy: 0.5690\n",
            "Epoch 4/35\n",
            "130/130 [==============================] - 10s 73ms/step - loss: 0.3114 - accuracy: 0.8632 - val_loss: 0.9304 - val_accuracy: 0.4885\n",
            "Epoch 5/35\n",
            "130/130 [==============================] - 10s 73ms/step - loss: 0.2597 - accuracy: 0.9001 - val_loss: 1.7654 - val_accuracy: 0.5172\n",
            "Epoch 6/35\n",
            "130/130 [==============================] - 10s 74ms/step - loss: 0.2071 - accuracy: 0.9137 - val_loss: 2.1109 - val_accuracy: 0.5345\n",
            "Epoch 7/35\n",
            "130/130 [==============================] - 9s 73ms/step - loss: 0.2073 - accuracy: 0.9191 - val_loss: 2.1334 - val_accuracy: 0.5402\n",
            "Epoch 8/35\n",
            "130/130 [==============================] - 10s 75ms/step - loss: 0.1347 - accuracy: 0.9522 - val_loss: 2.8486 - val_accuracy: 0.4943\n",
            "Epoch 9/35\n",
            "130/130 [==============================] - 10s 74ms/step - loss: 0.1358 - accuracy: 0.9369 - val_loss: 3.0836 - val_accuracy: 0.5517\n",
            "Epoch 10/35\n",
            "130/130 [==============================] - 10s 74ms/step - loss: 0.0623 - accuracy: 0.9851 - val_loss: 3.3540 - val_accuracy: 0.5345\n",
            "Epoch 11/35\n",
            "130/130 [==============================] - 10s 74ms/step - loss: 0.1012 - accuracy: 0.9664 - val_loss: 2.6596 - val_accuracy: 0.5402\n",
            "Epoch 12/35\n",
            "130/130 [==============================] - 10s 74ms/step - loss: 0.0649 - accuracy: 0.9686 - val_loss: 3.8018 - val_accuracy: 0.5632\n",
            "Epoch 13/35\n",
            "130/130 [==============================] - 10s 74ms/step - loss: 0.0666 - accuracy: 0.9730 - val_loss: 3.9226 - val_accuracy: 0.5632\n"
          ],
          "name": "stdout"
        }
      ]
    },
    {
      "cell_type": "code",
      "metadata": {
        "colab": {
          "base_uri": "https://localhost:8080/"
        },
        "id": "Cib6RLNrI8-c",
        "outputId": "78184372-2c9b-43bd-c4d9-ff18c5fe54c9"
      },
      "source": [
        "model3 = Sequential()\n",
        "model3.add( Conv2D( 32, ( 3, 3 ), activation = 'relu', input_shape=(256, 256, 3) ) )\n",
        "model3.add( MaxPool2D(4, 4) )\n",
        "model3.add( Conv2D( 16, ( 3, 3 ), activation = 'relu' ) )\n",
        "model3.add( Flatten() )\n",
        "model3.add( Dense( 2, activation = 'sigmoid' ) )\n",
        "model3.summary()\n",
        "model3.compile( optimizer = 'adam', loss = 'binary_crossentropy', metrics = [ 'accuracy' ] )\n",
        "history3 = model3.fit(  train_generator, validation_data=validation_generator, callbacks=[callback], epochs = 35, batch_size = 64 )"
      ],
      "execution_count": 33,
      "outputs": [
        {
          "output_type": "stream",
          "text": [
            "Model: \"sequential_5\"\n",
            "_________________________________________________________________\n",
            "Layer (type)                 Output Shape              Param #   \n",
            "=================================================================\n",
            "conv2d_10 (Conv2D)           (None, 254, 254, 32)      896       \n",
            "_________________________________________________________________\n",
            "max_pooling2d_6 (MaxPooling2 (None, 63, 63, 32)        0         \n",
            "_________________________________________________________________\n",
            "conv2d_11 (Conv2D)           (None, 61, 61, 16)        4624      \n",
            "_________________________________________________________________\n",
            "flatten_5 (Flatten)          (None, 59536)             0         \n",
            "_________________________________________________________________\n",
            "dense_6 (Dense)              (None, 2)                 119074    \n",
            "=================================================================\n",
            "Total params: 124,594\n",
            "Trainable params: 124,594\n",
            "Non-trainable params: 0\n",
            "_________________________________________________________________\n",
            "Epoch 1/35\n",
            "130/130 [==============================] - 10s 71ms/step - loss: 0.6933 - accuracy: 0.6606 - val_loss: 0.9423 - val_accuracy: 0.6322\n",
            "Epoch 2/35\n",
            "130/130 [==============================] - 9s 69ms/step - loss: 0.3284 - accuracy: 0.8648 - val_loss: 2.3759 - val_accuracy: 0.5805\n",
            "Epoch 3/35\n",
            "130/130 [==============================] - 9s 68ms/step - loss: 0.1329 - accuracy: 0.9663 - val_loss: 1.5052 - val_accuracy: 0.5632\n",
            "Epoch 4/35\n",
            "130/130 [==============================] - 9s 68ms/step - loss: 0.1041 - accuracy: 0.9736 - val_loss: 4.1859 - val_accuracy: 0.6034\n",
            "Epoch 5/35\n",
            "130/130 [==============================] - 9s 67ms/step - loss: 0.0366 - accuracy: 0.9922 - val_loss: 2.1929 - val_accuracy: 0.5805\n",
            "Epoch 6/35\n",
            "130/130 [==============================] - 9s 67ms/step - loss: 0.0826 - accuracy: 0.9726 - val_loss: 4.7199 - val_accuracy: 0.5805\n",
            "Epoch 7/35\n",
            "130/130 [==============================] - 9s 68ms/step - loss: 0.0437 - accuracy: 0.9878 - val_loss: 4.7757 - val_accuracy: 0.5920\n",
            "Epoch 8/35\n",
            "130/130 [==============================] - 9s 68ms/step - loss: 0.0201 - accuracy: 0.9942 - val_loss: 5.9494 - val_accuracy: 0.5747\n",
            "Epoch 9/35\n",
            "130/130 [==============================] - 9s 68ms/step - loss: 0.0260 - accuracy: 0.9946 - val_loss: 4.3581 - val_accuracy: 0.5805\n",
            "Epoch 10/35\n",
            "130/130 [==============================] - 9s 68ms/step - loss: 0.0209 - accuracy: 0.9958 - val_loss: 6.0670 - val_accuracy: 0.5862\n",
            "Epoch 11/35\n",
            "130/130 [==============================] - 9s 68ms/step - loss: 0.0328 - accuracy: 0.9912 - val_loss: 3.7081 - val_accuracy: 0.5977\n"
          ],
          "name": "stdout"
        }
      ]
    },
    {
      "cell_type": "code",
      "metadata": {
        "colab": {
          "base_uri": "https://localhost:8080/"
        },
        "id": "0ntYHPokJUc3",
        "outputId": "0efd414b-dd74-45d0-ed89-562170ea226b"
      },
      "source": [
        "model4 = Sequential()\n",
        "model4.add( Conv2D( 16, ( 3, 3 ), activation = 'relu', input_shape=(256, 256, 3) ) )\n",
        "model4.add( MaxPool2D(4, 4) )\n",
        "model4.add( Conv2D( 8, ( 3, 3 ), activation = 'relu' ) )\n",
        "model4.add( Flatten() )\n",
        "model4.add( Dense( 2, activation = 'sigmoid' ) )\n",
        "model4.summary()\n",
        "model4.compile( optimizer = 'adam', loss = 'binary_crossentropy', metrics = [ 'accuracy' ] )\n",
        "history4 = model4.fit(  train_generator, validation_data=validation_generator, callbacks=[callback], epochs = 35, batch_size = 64 )"
      ],
      "execution_count": 34,
      "outputs": [
        {
          "output_type": "stream",
          "text": [
            "Model: \"sequential_6\"\n",
            "_________________________________________________________________\n",
            "Layer (type)                 Output Shape              Param #   \n",
            "=================================================================\n",
            "conv2d_12 (Conv2D)           (None, 254, 254, 16)      448       \n",
            "_________________________________________________________________\n",
            "max_pooling2d_7 (MaxPooling2 (None, 63, 63, 16)        0         \n",
            "_________________________________________________________________\n",
            "conv2d_13 (Conv2D)           (None, 61, 61, 8)         1160      \n",
            "_________________________________________________________________\n",
            "flatten_6 (Flatten)          (None, 29768)             0         \n",
            "_________________________________________________________________\n",
            "dense_7 (Dense)              (None, 2)                 59538     \n",
            "=================================================================\n",
            "Total params: 61,146\n",
            "Trainable params: 61,146\n",
            "Non-trainable params: 0\n",
            "_________________________________________________________________\n",
            "Epoch 1/35\n",
            "130/130 [==============================] - 10s 72ms/step - loss: 0.9144 - accuracy: 0.6652 - val_loss: 0.6235 - val_accuracy: 0.5517\n",
            "Epoch 2/35\n",
            "130/130 [==============================] - 9s 69ms/step - loss: 0.3151 - accuracy: 0.8853 - val_loss: 1.1305 - val_accuracy: 0.4655\n",
            "Epoch 3/35\n",
            "130/130 [==============================] - 9s 68ms/step - loss: 0.2324 - accuracy: 0.9112 - val_loss: 1.1601 - val_accuracy: 0.5230\n",
            "Epoch 4/35\n",
            "130/130 [==============================] - 9s 69ms/step - loss: 0.2792 - accuracy: 0.8802 - val_loss: 1.6704 - val_accuracy: 0.5862\n",
            "Epoch 5/35\n",
            "130/130 [==============================] - 9s 68ms/step - loss: 0.1908 - accuracy: 0.9044 - val_loss: 1.6331 - val_accuracy: 0.5805\n",
            "Epoch 6/35\n",
            "130/130 [==============================] - 9s 70ms/step - loss: 0.1261 - accuracy: 0.9573 - val_loss: 1.7363 - val_accuracy: 0.5575\n",
            "Epoch 7/35\n",
            "130/130 [==============================] - 9s 68ms/step - loss: 0.1415 - accuracy: 0.9554 - val_loss: 2.3145 - val_accuracy: 0.5977\n",
            "Epoch 8/35\n",
            "130/130 [==============================] - 9s 69ms/step - loss: 0.0387 - accuracy: 0.9916 - val_loss: 2.9806 - val_accuracy: 0.5977\n",
            "Epoch 9/35\n",
            "130/130 [==============================] - 9s 69ms/step - loss: 0.0534 - accuracy: 0.9838 - val_loss: 3.4353 - val_accuracy: 0.5805\n",
            "Epoch 10/35\n",
            "130/130 [==============================] - 9s 69ms/step - loss: 0.0439 - accuracy: 0.9895 - val_loss: 4.8592 - val_accuracy: 0.5805\n",
            "Epoch 11/35\n",
            "130/130 [==============================] - 9s 69ms/step - loss: 0.0603 - accuracy: 0.9820 - val_loss: 3.1351 - val_accuracy: 0.5862\n"
          ],
          "name": "stdout"
        }
      ]
    },
    {
      "cell_type": "code",
      "metadata": {
        "colab": {
          "base_uri": "https://localhost:8080/"
        },
        "id": "xPvUybskJo4g",
        "outputId": "ea1a2e65-8d64-4fc5-deb1-2f5bb4e0cd2c"
      },
      "source": [
        "model5 = Sequential()\n",
        "model5.add( Conv2D( 16, ( 3, 3 ), activation = 'relu', input_shape=(256, 256, 3) ) )\n",
        "model5.add( MaxPool2D(4, 4) )\n",
        "model5.add( Flatten() )\n",
        "model5.add( Dense( 2, activation = 'sigmoid' ) )\n",
        "model5.summary()\n",
        "model5.compile( optimizer = 'adam', loss = 'binary_crossentropy', metrics = [ 'accuracy' ] )\n",
        "history5 = model5.fit(  train_generator, validation_data=validation_generator, callbacks=[callback], epochs = 35, batch_size = 64 )"
      ],
      "execution_count": 35,
      "outputs": [
        {
          "output_type": "stream",
          "text": [
            "Model: \"sequential_7\"\n",
            "_________________________________________________________________\n",
            "Layer (type)                 Output Shape              Param #   \n",
            "=================================================================\n",
            "conv2d_14 (Conv2D)           (None, 254, 254, 16)      448       \n",
            "_________________________________________________________________\n",
            "max_pooling2d_8 (MaxPooling2 (None, 63, 63, 16)        0         \n",
            "_________________________________________________________________\n",
            "flatten_7 (Flatten)          (None, 63504)             0         \n",
            "_________________________________________________________________\n",
            "dense_8 (Dense)              (None, 2)                 127010    \n",
            "=================================================================\n",
            "Total params: 127,458\n",
            "Trainable params: 127,458\n",
            "Non-trainable params: 0\n",
            "_________________________________________________________________\n",
            "Epoch 1/35\n",
            "130/130 [==============================] - 10s 71ms/step - loss: 0.7911 - accuracy: 0.7019 - val_loss: 0.9047 - val_accuracy: 0.6379\n",
            "Epoch 2/35\n",
            "130/130 [==============================] - 9s 70ms/step - loss: 0.2386 - accuracy: 0.9073 - val_loss: 1.3518 - val_accuracy: 0.5747\n",
            "Epoch 3/35\n",
            "130/130 [==============================] - 9s 70ms/step - loss: 0.2155 - accuracy: 0.9286 - val_loss: 1.1996 - val_accuracy: 0.6264\n",
            "Epoch 4/35\n",
            "130/130 [==============================] - 9s 71ms/step - loss: 0.1641 - accuracy: 0.9319 - val_loss: 1.3599 - val_accuracy: 0.5920\n",
            "Epoch 5/35\n",
            "130/130 [==============================] - 9s 70ms/step - loss: 0.1470 - accuracy: 0.9401 - val_loss: 1.7525 - val_accuracy: 0.5977\n",
            "Epoch 6/35\n",
            "130/130 [==============================] - 9s 69ms/step - loss: 0.1131 - accuracy: 0.9645 - val_loss: 2.2348 - val_accuracy: 0.6092\n",
            "Epoch 7/35\n",
            "130/130 [==============================] - 9s 69ms/step - loss: 0.0850 - accuracy: 0.9704 - val_loss: 2.0475 - val_accuracy: 0.5920\n",
            "Epoch 8/35\n",
            "130/130 [==============================] - 9s 70ms/step - loss: 0.0624 - accuracy: 0.9843 - val_loss: 2.5317 - val_accuracy: 0.6322\n",
            "Epoch 9/35\n",
            "130/130 [==============================] - 9s 70ms/step - loss: 0.0743 - accuracy: 0.9755 - val_loss: 2.6792 - val_accuracy: 0.5977\n",
            "Epoch 10/35\n",
            "130/130 [==============================] - 9s 71ms/step - loss: 0.0633 - accuracy: 0.9738 - val_loss: 2.1507 - val_accuracy: 0.6264\n",
            "Epoch 11/35\n",
            "130/130 [==============================] - 9s 71ms/step - loss: 0.0317 - accuracy: 0.9951 - val_loss: 2.6026 - val_accuracy: 0.6092\n"
          ],
          "name": "stdout"
        }
      ]
    },
    {
      "cell_type": "code",
      "metadata": {
        "colab": {
          "base_uri": "https://localhost:8080/"
        },
        "id": "ZUGPL5P2KNij",
        "outputId": "ab8a18f9-44f1-4346-e940-a55f88080ed8"
      },
      "source": [
        "model6 = Sequential()\n",
        "model6.add( Conv2D( 32, ( 3, 3 ), activation = 'relu', input_shape=(256, 256, 3) ) )\n",
        "model6.add( MaxPool2D(4, 4) )\n",
        "model6.add( Conv2D( 16, ( 3, 3 ), activation = 'relu' ) )\n",
        "model6.add( Flatten() )\n",
        "model6.add( Dense( 8, activation = 'sigmoid' ) )\n",
        "model6.add( Dense( 2, activation = 'sigmoid' ) )\n",
        "model6.summary()\n",
        "model6.compile( optimizer = 'adam', loss = 'binary_crossentropy', metrics = [ 'accuracy' ] )\n",
        "history6 = model6.fit(  train_generator, validation_data=validation_generator, callbacks=[callback], epochs = 35, batch_size = 64 )"
      ],
      "execution_count": 36,
      "outputs": [
        {
          "output_type": "stream",
          "text": [
            "Model: \"sequential_8\"\n",
            "_________________________________________________________________\n",
            "Layer (type)                 Output Shape              Param #   \n",
            "=================================================================\n",
            "conv2d_15 (Conv2D)           (None, 254, 254, 32)      896       \n",
            "_________________________________________________________________\n",
            "max_pooling2d_9 (MaxPooling2 (None, 63, 63, 32)        0         \n",
            "_________________________________________________________________\n",
            "conv2d_16 (Conv2D)           (None, 61, 61, 16)        4624      \n",
            "_________________________________________________________________\n",
            "flatten_8 (Flatten)          (None, 59536)             0         \n",
            "_________________________________________________________________\n",
            "dense_9 (Dense)              (None, 8)                 476296    \n",
            "_________________________________________________________________\n",
            "dense_10 (Dense)             (None, 2)                 18        \n",
            "=================================================================\n",
            "Total params: 481,834\n",
            "Trainable params: 481,834\n",
            "Non-trainable params: 0\n",
            "_________________________________________________________________\n",
            "Epoch 1/35\n",
            "130/130 [==============================] - 10s 73ms/step - loss: 0.7018 - accuracy: 0.5596 - val_loss: 0.6903 - val_accuracy: 0.5805\n",
            "Epoch 2/35\n",
            "130/130 [==============================] - 9s 71ms/step - loss: 0.6790 - accuracy: 0.5948 - val_loss: 0.6832 - val_accuracy: 0.5805\n",
            "Epoch 3/35\n",
            "130/130 [==============================] - 9s 71ms/step - loss: 0.6751 - accuracy: 0.5897 - val_loss: 0.7135 - val_accuracy: 0.5402\n",
            "Epoch 4/35\n",
            "130/130 [==============================] - 9s 70ms/step - loss: 0.6365 - accuracy: 0.6745 - val_loss: 0.7403 - val_accuracy: 0.5575\n",
            "Epoch 5/35\n",
            "130/130 [==============================] - 9s 70ms/step - loss: 0.4988 - accuracy: 0.8192 - val_loss: 0.8180 - val_accuracy: 0.4828\n",
            "Epoch 6/35\n",
            "130/130 [==============================] - 9s 70ms/step - loss: 0.4092 - accuracy: 0.8657 - val_loss: 0.8346 - val_accuracy: 0.5115\n",
            "Epoch 7/35\n",
            "130/130 [==============================] - 9s 70ms/step - loss: 0.3221 - accuracy: 0.9307 - val_loss: 0.9089 - val_accuracy: 0.4943\n",
            "Epoch 8/35\n",
            "130/130 [==============================] - 9s 70ms/step - loss: 0.2963 - accuracy: 0.9239 - val_loss: 0.8974 - val_accuracy: 0.5690\n",
            "Epoch 9/35\n",
            "130/130 [==============================] - 9s 70ms/step - loss: 0.2330 - accuracy: 0.9690 - val_loss: 0.9345 - val_accuracy: 0.5747\n",
            "Epoch 10/35\n",
            "130/130 [==============================] - 9s 71ms/step - loss: 0.2115 - accuracy: 0.9689 - val_loss: 1.0426 - val_accuracy: 0.5345\n",
            "Epoch 11/35\n",
            "130/130 [==============================] - 9s 71ms/step - loss: 0.1614 - accuracy: 0.9885 - val_loss: 1.0402 - val_accuracy: 0.5805\n",
            "Epoch 12/35\n",
            "130/130 [==============================] - 9s 71ms/step - loss: 0.1360 - accuracy: 0.9918 - val_loss: 1.1069 - val_accuracy: 0.5575\n"
          ],
          "name": "stdout"
        }
      ]
    },
    {
      "cell_type": "code",
      "metadata": {
        "colab": {
          "base_uri": "https://localhost:8080/"
        },
        "id": "K1YMhnpWVl9K",
        "outputId": "b6bcc8ad-b95b-43db-cc8d-fad0981db3db"
      },
      "source": [
        "model7 = Sequential()\n",
        "model7.add( Conv2D( 64, ( 3, 3 ), activation = 'relu', input_shape=(256, 256, 3) ) )\n",
        "model7.add( MaxPool2D(4, 4) )\n",
        "model7.add( Conv2D( 16, ( 3, 3 ), activation = 'relu' ) )\n",
        "model7.add( Flatten() )\n",
        "model7.add( Dense( 2, activation = 'sigmoid' ) )\n",
        "model7.summary()\n",
        "model7.compile( optimizer = 'adam', loss = 'binary_crossentropy', metrics = [ 'accuracy' ] )\n",
        "history7 = model7.fit(  train_generator, validation_data=validation_generator, callbacks=[callback], epochs = 35, batch_size = 64 )"
      ],
      "execution_count": 37,
      "outputs": [
        {
          "output_type": "stream",
          "text": [
            "Model: \"sequential_9\"\n",
            "_________________________________________________________________\n",
            "Layer (type)                 Output Shape              Param #   \n",
            "=================================================================\n",
            "conv2d_17 (Conv2D)           (None, 254, 254, 64)      1792      \n",
            "_________________________________________________________________\n",
            "max_pooling2d_10 (MaxPooling (None, 63, 63, 64)        0         \n",
            "_________________________________________________________________\n",
            "conv2d_18 (Conv2D)           (None, 61, 61, 16)        9232      \n",
            "_________________________________________________________________\n",
            "flatten_9 (Flatten)          (None, 59536)             0         \n",
            "_________________________________________________________________\n",
            "dense_11 (Dense)             (None, 2)                 119074    \n",
            "=================================================================\n",
            "Total params: 130,098\n",
            "Trainable params: 130,098\n",
            "Non-trainable params: 0\n",
            "_________________________________________________________________\n",
            "Epoch 1/35\n",
            "130/130 [==============================] - 10s 73ms/step - loss: 0.7152 - accuracy: 0.6654 - val_loss: 0.7185 - val_accuracy: 0.7241\n",
            "Epoch 2/35\n",
            "130/130 [==============================] - 9s 71ms/step - loss: 0.5132 - accuracy: 0.7188 - val_loss: 2.0034 - val_accuracy: 0.5345\n",
            "Epoch 3/35\n",
            "130/130 [==============================] - 9s 71ms/step - loss: 0.3285 - accuracy: 0.7878 - val_loss: 4.4084 - val_accuracy: 0.5747\n",
            "Epoch 4/35\n",
            "130/130 [==============================] - 9s 71ms/step - loss: 0.3322 - accuracy: 0.8212 - val_loss: 4.6293 - val_accuracy: 0.5690\n",
            "Epoch 5/35\n",
            "130/130 [==============================] - 9s 71ms/step - loss: 0.2545 - accuracy: 0.9015 - val_loss: 3.5432 - val_accuracy: 0.5690\n",
            "Epoch 6/35\n",
            "130/130 [==============================] - 9s 71ms/step - loss: 0.2222 - accuracy: 0.9090 - val_loss: 4.7224 - val_accuracy: 0.5172\n",
            "Epoch 7/35\n",
            "130/130 [==============================] - 9s 72ms/step - loss: 0.1749 - accuracy: 0.9377 - val_loss: 4.9323 - val_accuracy: 0.5345\n",
            "Epoch 8/35\n",
            "130/130 [==============================] - 9s 71ms/step - loss: 0.1224 - accuracy: 0.9580 - val_loss: 5.8034 - val_accuracy: 0.5345\n",
            "Epoch 9/35\n",
            "130/130 [==============================] - 9s 71ms/step - loss: 0.1457 - accuracy: 0.9685 - val_loss: 6.3484 - val_accuracy: 0.5632\n",
            "Epoch 10/35\n",
            "130/130 [==============================] - 9s 72ms/step - loss: 0.0880 - accuracy: 0.9707 - val_loss: 6.8484 - val_accuracy: 0.5690\n",
            "Epoch 11/35\n",
            "130/130 [==============================] - 9s 72ms/step - loss: 0.0744 - accuracy: 0.9770 - val_loss: 6.1346 - val_accuracy: 0.5690\n"
          ],
          "name": "stdout"
        }
      ]
    },
    {
      "cell_type": "code",
      "metadata": {
        "colab": {
          "base_uri": "https://localhost:8080/"
        },
        "id": "oLwKON4TV8tH",
        "outputId": "c0098770-1f6a-4332-9367-bb11933b783a"
      },
      "source": [
        "model8 = Sequential()\n",
        "model8.add( Conv2D( 32, ( 3, 3 ), activation = 'relu', input_shape=(256, 256, 3) ) )\n",
        "model8.add( MaxPool2D(4, 4) )\n",
        "model8.add( Conv2D( 8, ( 3, 3 ), activation = 'relu' ) )\n",
        "model8.add( Flatten() )\n",
        "model8.add( Dense( 2, activation = 'sigmoid' ) )\n",
        "model8.summary()\n",
        "model8.compile( optimizer = 'adam', loss = 'binary_crossentropy', metrics = [ 'accuracy' ] )\n",
        "history8 = model8.fit(  train_generator, validation_data=validation_generator, callbacks=[callback], epochs = 35, batch_size = 64 )"
      ],
      "execution_count": 38,
      "outputs": [
        {
          "output_type": "stream",
          "text": [
            "Model: \"sequential_10\"\n",
            "_________________________________________________________________\n",
            "Layer (type)                 Output Shape              Param #   \n",
            "=================================================================\n",
            "conv2d_19 (Conv2D)           (None, 254, 254, 32)      896       \n",
            "_________________________________________________________________\n",
            "max_pooling2d_11 (MaxPooling (None, 63, 63, 32)        0         \n",
            "_________________________________________________________________\n",
            "conv2d_20 (Conv2D)           (None, 61, 61, 8)         2312      \n",
            "_________________________________________________________________\n",
            "flatten_10 (Flatten)         (None, 29768)             0         \n",
            "_________________________________________________________________\n",
            "dense_12 (Dense)             (None, 2)                 59538     \n",
            "=================================================================\n",
            "Total params: 62,746\n",
            "Trainable params: 62,746\n",
            "Non-trainable params: 0\n",
            "_________________________________________________________________\n",
            "Epoch 1/35\n",
            "130/130 [==============================] - 10s 71ms/step - loss: 0.6996 - accuracy: 0.6492 - val_loss: 0.9938 - val_accuracy: 0.5115\n",
            "Epoch 2/35\n",
            "130/130 [==============================] - 9s 71ms/step - loss: 0.3297 - accuracy: 0.8777 - val_loss: 1.2352 - val_accuracy: 0.4713\n",
            "Epoch 3/35\n",
            "130/130 [==============================] - 9s 70ms/step - loss: 0.2158 - accuracy: 0.9092 - val_loss: 1.6507 - val_accuracy: 0.5747\n",
            "Epoch 4/35\n",
            "130/130 [==============================] - 9s 70ms/step - loss: 0.1963 - accuracy: 0.9288 - val_loss: 3.3750 - val_accuracy: 0.5805\n",
            "Epoch 5/35\n",
            "130/130 [==============================] - 9s 71ms/step - loss: 0.1131 - accuracy: 0.9550 - val_loss: 2.9802 - val_accuracy: 0.5805\n",
            "Epoch 6/35\n",
            "130/130 [==============================] - 9s 70ms/step - loss: 0.0938 - accuracy: 0.9757 - val_loss: 3.1345 - val_accuracy: 0.5805\n",
            "Epoch 7/35\n",
            "130/130 [==============================] - 9s 69ms/step - loss: 0.0808 - accuracy: 0.9743 - val_loss: 4.3742 - val_accuracy: 0.5805\n",
            "Epoch 8/35\n",
            "130/130 [==============================] - 9s 70ms/step - loss: 0.1091 - accuracy: 0.9625 - val_loss: 1.5730 - val_accuracy: 0.5747\n",
            "Epoch 9/35\n",
            "130/130 [==============================] - 9s 70ms/step - loss: 0.0586 - accuracy: 0.9899 - val_loss: 3.7030 - val_accuracy: 0.5862\n",
            "Epoch 10/35\n",
            "130/130 [==============================] - 9s 70ms/step - loss: 0.0372 - accuracy: 0.9898 - val_loss: 1.9256 - val_accuracy: 0.5805\n",
            "Epoch 11/35\n",
            "130/130 [==============================] - 9s 70ms/step - loss: 0.0364 - accuracy: 0.9953 - val_loss: 2.8740 - val_accuracy: 0.5575\n"
          ],
          "name": "stdout"
        }
      ]
    },
    {
      "cell_type": "code",
      "metadata": {
        "colab": {
          "base_uri": "https://localhost:8080/"
        },
        "id": "POrg1bI6ga86",
        "outputId": "11a3c8a9-a35e-4b21-edf8-e8e780b96298"
      },
      "source": [
        "model9 = Sequential()\n",
        "model9.add(Dropout(0.2, input_shape=(256, 256, 3)))\n",
        "model9.add( Conv2D( 8, ( 3, 3 ), activation = 'relu', input_shape=(256, 256, 3) ) )\n",
        "model9.add( MaxPool2D(4, 4) )\n",
        "model9.add( Flatten() )\n",
        "model9.add( Dense( 2, activation = 'sigmoid' ) )\n",
        "model9.summary()\n",
        "model9.compile( optimizer = 'adam', loss = 'binary_crossentropy', metrics = [ 'accuracy' ] )\n",
        "history9 = model9.fit(  validation_generator, validation_data=train_generator, callbacks=[callback], epochs = 35, batch_size = 64 )"
      ],
      "execution_count": 40,
      "outputs": [
        {
          "output_type": "stream",
          "text": [
            "Model: \"sequential_12\"\n",
            "_________________________________________________________________\n",
            "Layer (type)                 Output Shape              Param #   \n",
            "=================================================================\n",
            "dropout_1 (Dropout)          (None, 256, 256, 3)       0         \n",
            "_________________________________________________________________\n",
            "conv2d_22 (Conv2D)           (None, 254, 254, 8)       224       \n",
            "_________________________________________________________________\n",
            "max_pooling2d_13 (MaxPooling (None, 63, 63, 8)         0         \n",
            "_________________________________________________________________\n",
            "flatten_12 (Flatten)         (None, 31752)             0         \n",
            "_________________________________________________________________\n",
            "dense_14 (Dense)             (None, 2)                 63506     \n",
            "=================================================================\n",
            "Total params: 63,730\n",
            "Trainable params: 63,730\n",
            "Non-trainable params: 0\n",
            "_________________________________________________________________\n",
            "Epoch 1/35\n",
            "44/44 [==============================] - 9s 195ms/step - loss: 0.8006 - accuracy: 0.7558 - val_loss: 0.9395 - val_accuracy: 0.3810\n",
            "Epoch 2/35\n",
            "44/44 [==============================] - 8s 191ms/step - loss: 0.3953 - accuracy: 0.8116 - val_loss: 0.9110 - val_accuracy: 0.4487\n",
            "Epoch 3/35\n",
            "44/44 [==============================] - 8s 190ms/step - loss: 0.2276 - accuracy: 0.9044 - val_loss: 1.0570 - val_accuracy: 0.5667\n",
            "Epoch 4/35\n",
            "44/44 [==============================] - 8s 193ms/step - loss: 0.2536 - accuracy: 0.9337 - val_loss: 0.7448 - val_accuracy: 0.4197\n",
            "Epoch 5/35\n",
            "44/44 [==============================] - 8s 193ms/step - loss: 0.1491 - accuracy: 0.9245 - val_loss: 0.7978 - val_accuracy: 0.5667\n",
            "Epoch 6/35\n",
            "44/44 [==============================] - 8s 191ms/step - loss: 0.1221 - accuracy: 0.9712 - val_loss: 0.8260 - val_accuracy: 0.5184\n",
            "Epoch 7/35\n",
            "44/44 [==============================] - 8s 193ms/step - loss: 0.1274 - accuracy: 0.9528 - val_loss: 0.7425 - val_accuracy: 0.4236\n",
            "Epoch 8/35\n",
            "44/44 [==============================] - 8s 193ms/step - loss: 0.2681 - accuracy: 0.9023 - val_loss: 0.6845 - val_accuracy: 0.5706\n",
            "Epoch 9/35\n",
            "44/44 [==============================] - 8s 193ms/step - loss: 0.0729 - accuracy: 0.9837 - val_loss: 0.7803 - val_accuracy: 0.5706\n",
            "Epoch 10/35\n",
            "44/44 [==============================] - 8s 194ms/step - loss: 0.0347 - accuracy: 0.9938 - val_loss: 0.9121 - val_accuracy: 0.5706\n",
            "Epoch 11/35\n",
            "44/44 [==============================] - 8s 191ms/step - loss: 0.1491 - accuracy: 0.9460 - val_loss: 0.6663 - val_accuracy: 0.5938\n",
            "Epoch 12/35\n",
            "44/44 [==============================] - 8s 189ms/step - loss: 0.1045 - accuracy: 0.9700 - val_loss: 0.7413 - val_accuracy: 0.5706\n",
            "Epoch 13/35\n",
            "44/44 [==============================] - 8s 188ms/step - loss: 0.0731 - accuracy: 0.9772 - val_loss: 0.7587 - val_accuracy: 0.5706\n",
            "Epoch 14/35\n",
            "44/44 [==============================] - 8s 190ms/step - loss: 0.0608 - accuracy: 0.9536 - val_loss: 0.7969 - val_accuracy: 0.5551\n",
            "Epoch 15/35\n",
            "44/44 [==============================] - 8s 190ms/step - loss: 0.0195 - accuracy: 0.9936 - val_loss: 0.8403 - val_accuracy: 0.5745\n",
            "Epoch 16/35\n",
            "44/44 [==============================] - 8s 189ms/step - loss: 0.0236 - accuracy: 1.0000 - val_loss: 0.9153 - val_accuracy: 0.5725\n",
            "Epoch 17/35\n",
            "44/44 [==============================] - 8s 188ms/step - loss: 0.0185 - accuracy: 0.9992 - val_loss: 1.0193 - val_accuracy: 0.5725\n",
            "Epoch 18/35\n",
            "44/44 [==============================] - 8s 191ms/step - loss: 0.0570 - accuracy: 0.9786 - val_loss: 0.6387 - val_accuracy: 0.5996\n",
            "Epoch 19/35\n",
            "44/44 [==============================] - 8s 191ms/step - loss: 0.0933 - accuracy: 0.9752 - val_loss: 0.8040 - val_accuracy: 0.5725\n",
            "Epoch 20/35\n",
            "44/44 [==============================] - 8s 188ms/step - loss: 0.0404 - accuracy: 0.9850 - val_loss: 0.8031 - val_accuracy: 0.5725\n",
            "Epoch 21/35\n",
            "44/44 [==============================] - 8s 190ms/step - loss: 0.0125 - accuracy: 0.9975 - val_loss: 0.8304 - val_accuracy: 0.5609\n",
            "Epoch 22/35\n",
            "44/44 [==============================] - 8s 188ms/step - loss: 0.0616 - accuracy: 0.9705 - val_loss: 0.7327 - val_accuracy: 0.5822\n",
            "Epoch 23/35\n",
            "44/44 [==============================] - 8s 190ms/step - loss: 0.0138 - accuracy: 1.0000 - val_loss: 0.8683 - val_accuracy: 0.5725\n",
            "Epoch 24/35\n",
            "44/44 [==============================] - 8s 188ms/step - loss: 0.0074 - accuracy: 1.0000 - val_loss: 0.9342 - val_accuracy: 0.5764\n",
            "Epoch 25/35\n",
            "44/44 [==============================] - 8s 189ms/step - loss: 0.0078 - accuracy: 0.9974 - val_loss: 0.9887 - val_accuracy: 0.5783\n",
            "Epoch 26/35\n",
            "44/44 [==============================] - 8s 191ms/step - loss: 0.0162 - accuracy: 0.9943 - val_loss: 0.9534 - val_accuracy: 0.5783\n",
            "Epoch 27/35\n",
            "44/44 [==============================] - 8s 191ms/step - loss: 0.0251 - accuracy: 0.9873 - val_loss: 0.8537 - val_accuracy: 0.5687\n",
            "Epoch 28/35\n",
            "44/44 [==============================] - 8s 190ms/step - loss: 0.0046 - accuracy: 0.9984 - val_loss: 0.8400 - val_accuracy: 0.5687\n"
          ],
          "name": "stdout"
        }
      ]
    },
    {
      "cell_type": "markdown",
      "metadata": {
        "id": "3s9Za8za6juB"
      },
      "source": [
        "#Evaluate on the test set"
      ]
    },
    {
      "cell_type": "code",
      "metadata": {
        "colab": {
          "base_uri": "https://localhost:8080/"
        },
        "id": "ZVTygi7pAP_W",
        "outputId": "2f2152f9-8d6b-4773-d45b-0a7e34b2620a"
      },
      "source": [
        "testing_loss, testing_acc =model1.evaluate(test_generator, max_queue_size=10, steps=9, workers=1, use_multiprocessing=False, verbose=0)\n",
        "print(\"___________________________________\")\n",
        "print(\"Model 1\")\n",
        "print( 'testing_acc:', testing_acc )\n",
        "print( 'testing_loss:', testing_loss )\n",
        "print(\"===================================\")\n",
        "testing_loss, testing_acc =model2.evaluate(test_generator, max_queue_size=10, steps=9, workers=1, use_multiprocessing=False, verbose=0)\n",
        "print(\"___________________________________\")\n",
        "print(\"Model 2\")\n",
        "print( 'testing_acc:', testing_acc )\n",
        "print( 'testing_loss:', testing_loss )\n",
        "print(\"===================================\")\n",
        "testing_loss, testing_acc =model3.evaluate(test_generator, max_queue_size=10, steps=9, workers=1, use_multiprocessing=False, verbose=0)\n",
        "print(\"___________________________________\")\n",
        "print(\"Model 3\")\n",
        "print( 'testing_acc:', testing_acc )\n",
        "print( 'testing_loss:', testing_loss )\n",
        "print(\"===================================\")\n",
        "testing_loss, testing_acc =model4.evaluate(test_generator, max_queue_size=10, steps=9, workers=1, use_multiprocessing=False, verbose=0)\n",
        "print(\"___________________________________\")\n",
        "print(\"Model 4\")\n",
        "print( 'testing_acc:', testing_acc )\n",
        "print( 'testing_loss:', testing_loss )\n",
        "print(\"===================================\")\n",
        "testing_loss, testing_acc =model5.evaluate(test_generator, max_queue_size=10, steps=9, workers=1, use_multiprocessing=False, verbose=0)\n",
        "print(\"___________________________________\")\n",
        "print(\"Model 5\")\n",
        "print( 'testing_acc:', testing_acc )\n",
        "print( 'testing_loss:', testing_loss )\n",
        "print(\"===================================\")\n",
        "testing_loss, testing_acc =model6.evaluate(test_generator, max_queue_size=10, steps=9, workers=1, use_multiprocessing=False, verbose=0)\n",
        "print(\"___________________________________\")\n",
        "print(\"Model 6\")\n",
        "print( 'testing_acc:', testing_acc )\n",
        "print( 'testing_loss:', testing_loss )\n",
        "print(\"===================================\")\n",
        "testing_loss, testing_acc =model7.evaluate(test_generator, max_queue_size=10, steps=9, workers=1, use_multiprocessing=False, verbose=0)\n",
        "print(\"___________________________________\")\n",
        "print(\"Model 7\")\n",
        "print( 'testing_acc:', testing_acc )\n",
        "print( 'testing_loss:', testing_loss )\n",
        "print(\"===================================\")\n",
        "testing_loss, testing_acc =model8.evaluate(test_generator, max_queue_size=10, steps=9, workers=1, use_multiprocessing=False, verbose=0)\n",
        "print(\"___________________________________\")\n",
        "print(\"Model 8\")\n",
        "print( 'testing_acc:', testing_acc )\n",
        "print( 'testing_loss:', testing_loss )\n",
        "print(\"===================================\")\n",
        "testing_loss, testing_acc =model9.evaluate(test_generator, max_queue_size=10, steps=9, workers=1, use_multiprocessing=False, verbose=0)\n",
        "print(\"___________________________________\")\n",
        "print(\"Model 9\")\n",
        "print( 'testing_acc:', testing_acc )\n",
        "print( 'testing_loss:', testing_loss )\n",
        "print(\"===================================\")"
      ],
      "execution_count": 41,
      "outputs": [
        {
          "output_type": "stream",
          "text": [
            "___________________________________\n",
            "Model 1\n",
            "testing_acc: 0.6242774724960327\n",
            "testing_loss: 2.4832937717437744\n",
            "===================================\n",
            "___________________________________\n",
            "Model 2\n",
            "testing_acc: 0.5953757166862488\n",
            "testing_loss: 3.1713857650756836\n",
            "===================================\n",
            "___________________________________\n",
            "Model 3\n",
            "testing_acc: 0.6358381509780884\n",
            "testing_loss: 3.34318208694458\n",
            "===================================\n",
            "___________________________________\n",
            "Model 4\n",
            "testing_acc: 0.6358381509780884\n",
            "testing_loss: 5.615783214569092\n",
            "===================================\n",
            "___________________________________\n",
            "Model 5\n",
            "testing_acc: 0.6358381509780884\n",
            "testing_loss: 2.8252880573272705\n",
            "===================================\n",
            "___________________________________\n",
            "Model 6\n",
            "testing_acc: 0.6705202460289001\n",
            "testing_loss: 0.8415911793708801\n",
            "===================================\n",
            "___________________________________\n",
            "Model 7\n",
            "testing_acc: 0.6358381509780884\n",
            "testing_loss: 1.5424613952636719\n",
            "===================================\n",
            "___________________________________\n",
            "Model 8\n",
            "testing_acc: 0.6416184902191162\n",
            "testing_loss: 0.8912026882171631\n",
            "===================================\n",
            "___________________________________\n",
            "Model 9\n",
            "testing_acc: 0.5433526039123535\n",
            "testing_loss: 1.288326621055603\n",
            "===================================\n"
          ],
          "name": "stdout"
        }
      ]
    },
    {
      "cell_type": "markdown",
      "metadata": {
        "id": "Lo6olh1I6z-o"
      },
      "source": [
        "#Plot the curves"
      ]
    },
    {
      "cell_type": "code",
      "metadata": {
        "colab": {
          "base_uri": "https://localhost:8080/",
          "height": 296
        },
        "id": "oC0RyAng63gp",
        "outputId": "fce219ae-0461-435d-9bc6-ba180de37632"
      },
      "source": [
        "plt.plot(history.history['accuracy'])\n",
        "plt.plot(history.history['val_accuracy'])\n",
        "plt.ylabel('Accuracy')\n",
        "plt.xlabel('Epoch')\n",
        "plt.legend(['training data', 'validation data'], loc='lower right')\n",
        "plt.show()\n",
        "plt.savefig(\"plot1.png\")"
      ],
      "execution_count": 42,
      "outputs": [
        {
          "output_type": "display_data",
          "data": {
            "image/png": "[encoded data removed]",
            "text/plain": [
              "<Figure size 432x288 with 1 Axes>"
            ]
          },
          "metadata": {
            "tags": [],
            "needs_background": "light"
          }
        },
        {
          "output_type": "display_data",
          "data": {
            "text/plain": [
              "<Figure size 432x288 with 0 Axes>"
            ]
          },
          "metadata": {
            "tags": []
          }
        }
      ]
    },
    {
      "cell_type": "code",
      "metadata": {
        "colab": {
          "base_uri": "https://localhost:8080/",
          "height": 297
        },
        "id": "cux-jlrfCk2J",
        "outputId": "31edfe9b-b67e-4d10-90a3-1203523ce566"
      },
      "source": [
        "plt.plot(history2.history['accuracy'])\n",
        "plt.plot(history2.history['val_accuracy'])\n",
        "plt.ylabel('Accuracy')\n",
        "plt.xlabel('Epoch')\n",
        "plt.legend(['training data', 'validation data'], loc='lower right')\n",
        "plt.show()\n",
        "plt.savefig(\"plot2.png\")"
      ],
      "execution_count": 43,
      "outputs": [
        {
          "output_type": "display_data",
          "data": {
            "image/png": "[encoded data removed]",
            "text/plain": [
              "<Figure size 432x288 with 1 Axes>"
            ]
          },
          "metadata": {
            "tags": [],
            "needs_background": "light"
          }
        },
        {
          "output_type": "display_data",
          "data": {
            "text/plain": [
              "<Figure size 432x288 with 0 Axes>"
            ]
          },
          "metadata": {
            "tags": []
          }
        }
      ]
    },
    {
      "cell_type": "code",
      "metadata": {
        "colab": {
          "base_uri": "https://localhost:8080/",
          "height": 296
        },
        "id": "o-vR8shWVOo2",
        "outputId": "b7de40ff-4f02-416a-d0b7-49f676a41fc6"
      },
      "source": [
        "plt.plot(history3.history['accuracy'])\n",
        "plt.plot(history3.history['val_accuracy'])\n",
        "plt.ylabel('Accuracy')\n",
        "plt.xlabel('Epoch')\n",
        "plt.legend(['training data', 'validation data'], loc='lower right')\n",
        "plt.show()\n",
        "plt.savefig(\"plot3.png\")"
      ],
      "execution_count": 44,
      "outputs": [
        {
          "output_type": "display_data",
          "data": {
            "image/png": "[encoded data removed]",
            "text/plain": [
              "<Figure size 432x288 with 1 Axes>"
            ]
          },
          "metadata": {
            "tags": [],
            "needs_background": "light"
          }
        },
        {
          "output_type": "display_data",
          "data": {
            "text/plain": [
              "<Figure size 432x288 with 0 Axes>"
            ]
          },
          "metadata": {
            "tags": []
          }
        }
      ]
    },
    {
      "cell_type": "code",
      "metadata": {
        "colab": {
          "base_uri": "https://localhost:8080/",
          "height": 296
        },
        "id": "tr2feYawVPAi",
        "outputId": "43455306-ff4f-430a-a0de-b1a9438a91e5"
      },
      "source": [
        "plt.plot(history4.history['accuracy'])\n",
        "plt.plot(history4.history['val_accuracy'])\n",
        "plt.ylabel('Accuracy')\n",
        "plt.xlabel('Epoch')\n",
        "plt.legend(['training data', 'validation data'], loc='lower right')\n",
        "plt.show()\n",
        "plt.savefig(\"plot4.png\")"
      ],
      "execution_count": 45,
      "outputs": [
        {
          "output_type": "display_data",
          "data": {
            "image/png": "[encoded data removed]",
            "text/plain": [
              "<Figure size 432x288 with 1 Axes>"
            ]
          },
          "metadata": {
            "tags": [],
            "needs_background": "light"
          }
        },
        {
          "output_type": "display_data",
          "data": {
            "text/plain": [
              "<Figure size 432x288 with 0 Axes>"
            ]
          },
          "metadata": {
            "tags": []
          }
        }
      ]
    },
    {
      "cell_type": "code",
      "metadata": {
        "colab": {
          "base_uri": "https://localhost:8080/",
          "height": 296
        },
        "id": "tsEFCrHbVPS2",
        "outputId": "d3bd569f-8532-4862-865d-bb8e7cf6a8a6"
      },
      "source": [
        "plt.plot(history5.history['accuracy'])\n",
        "plt.plot(history5.history['val_accuracy'])\n",
        "plt.ylabel('Accuracy')\n",
        "plt.xlabel('Epoch')\n",
        "plt.legend(['training data', 'validation data'], loc='lower right')\n",
        "plt.show()\n",
        "plt.savefig(\"plot5.png\")"
      ],
      "execution_count": 46,
      "outputs": [
        {
          "output_type": "display_data",
          "data": {
            "image/png": "[encoded data removed]",
            "text/plain": [
              "<Figure size 432x288 with 1 Axes>"
            ]
          },
          "metadata": {
            "tags": [],
            "needs_background": "light"
          }
        },
        {
          "output_type": "display_data",
          "data": {
            "text/plain": [
              "<Figure size 432x288 with 0 Axes>"
            ]
          },
          "metadata": {
            "tags": []
          }
        }
      ]
    },
    {
      "cell_type": "code",
      "metadata": {
        "colab": {
          "base_uri": "https://localhost:8080/",
          "height": 296
        },
        "id": "hfc4i1wcVPhR",
        "outputId": "ee144f09-2b07-48ef-90b6-26b9e38566fa"
      },
      "source": [
        "plt.plot(history6.history['accuracy'])\n",
        "plt.plot(history6.history['val_accuracy'])\n",
        "plt.ylabel('Accuracy')\n",
        "plt.xlabel('Epoch')\n",
        "plt.legend(['training data', 'validation data'], loc='lower right')\n",
        "plt.show()\n",
        "plt.savefig(\"plot6.png\")"
      ],
      "execution_count": 47,
      "outputs": [
        {
          "output_type": "display_data",
          "data": {
            "image/png": "[encoded data removed]",
            "text/plain": [
              "<Figure size 432x288 with 1 Axes>"
            ]
          },
          "metadata": {
            "tags": [],
            "needs_background": "light"
          }
        },
        {
          "output_type": "display_data",
          "data": {
            "text/plain": [
              "<Figure size 432x288 with 0 Axes>"
            ]
          },
          "metadata": {
            "tags": []
          }
        }
      ]
    },
    {
      "cell_type": "code",
      "metadata": {
        "colab": {
          "base_uri": "https://localhost:8080/",
          "height": 296
        },
        "id": "HiSAKgEzWKpX",
        "outputId": "a3fa771e-e12c-4c22-e7d3-690c40138769"
      },
      "source": [
        "plt.plot(history7.history['accuracy'])\n",
        "plt.plot(history7.history['val_accuracy'])\n",
        "plt.ylabel('Accuracy')\n",
        "plt.xlabel('Epoch')\n",
        "plt.legend(['training data', 'validation data'], loc='lower right')\n",
        "plt.show()\n",
        "plt.savefig(\"plot7.png\")"
      ],
      "execution_count": 48,
      "outputs": [
        {
          "output_type": "display_data",
          "data": {
            "image/png": "[encoded data removed]",
            "text/plain": [
              "<Figure size 432x288 with 1 Axes>"
            ]
          },
          "metadata": {
            "tags": [],
            "needs_background": "light"
          }
        },
        {
          "output_type": "display_data",
          "data": {
            "text/plain": [
              "<Figure size 432x288 with 0 Axes>"
            ]
          },
          "metadata": {
            "tags": []
          }
        }
      ]
    },
    {
      "cell_type": "code",
      "metadata": {
        "colab": {
          "base_uri": "https://localhost:8080/",
          "height": 296
        },
        "id": "U8HxRePqWK3Y",
        "outputId": "4e3e2edc-b7c2-4aec-b982-0c1fd8eeb390"
      },
      "source": [
        "plt.plot(history8.history['accuracy'])\n",
        "plt.plot(history8.history['val_accuracy'])\n",
        "plt.ylabel('Accuracy')\n",
        "plt.xlabel('Epoch')\n",
        "plt.legend(['training data', 'validation data'], loc='lower right')\n",
        "plt.show()\n",
        "plt.savefig(\"plot8.png\")"
      ],
      "execution_count": 49,
      "outputs": [
        {
          "output_type": "display_data",
          "data": {
            "image/png": "[encoded data removed]",
            "text/plain": [
              "<Figure size 432x288 with 1 Axes>"
            ]
          },
          "metadata": {
            "tags": [],
            "needs_background": "light"
          }
        },
        {
          "output_type": "display_data",
          "data": {
            "text/plain": [
              "<Figure size 432x288 with 0 Axes>"
            ]
          },
          "metadata": {
            "tags": []
          }
        }
      ]
    },
    {
      "cell_type": "code",
      "metadata": {
        "colab": {
          "base_uri": "https://localhost:8080/",
          "height": 296
        },
        "id": "lcpbPJ62hAIS",
        "outputId": "84e6c4c2-1f0a-4c83-f814-9e15215d8cd7"
      },
      "source": [
        "plt.plot(history9.history['accuracy'])\n",
        "plt.plot(history9.history['val_accuracy'])\n",
        "plt.ylabel('Accuracy')\n",
        "plt.xlabel('Epoch')\n",
        "plt.legend(['training data', 'validation data'], loc='lower right')\n",
        "plt.show()\n",
        "plt.savefig(\"plot9.png\")"
      ],
      "execution_count": 50,
      "outputs": [
        {
          "output_type": "display_data",
          "data": {
            "image/png": "[encoded data removed]",
            "text/plain": [
              "<Figure size 432x288 with 1 Axes>"
            ]
          },
          "metadata": {
            "tags": [],
            "needs_background": "light"
          }
        },
        {
          "output_type": "display_data",
          "data": {
            "text/plain": [
              "<Figure size 432x288 with 0 Axes>"
            ]
          },
          "metadata": {
            "tags": []
          }
        }
      ]
    }
  ]
}