{
  "nbformat": 4,
  "nbformat_minor": 0,
  "metadata": {
    "colab": {
      "name": "Deepfake Detection Phase 4.ipynb",
      "provenance": [],
      "toc_visible": true,
      "authorship_tag": "ABX9TyN44/v8MJ/ExCjlaykLkel8",
      "include_colab_link": true
    },
    "kernelspec": {
      "name": "python3",
      "display_name": "Python 3"
    },
    "language_info": {
      "name": "python"
    },
    "accelerator": "GPU"
  },
  "cells": [
    {
      "cell_type": "markdown",
      "metadata": {
        "id": "view-in-github",
        "colab_type": "text"
      },
      "source": [
        "<a href=\"https://colab.research.google.com/github/Jax45/Deepfake-Detection/blob/main/Deepfake_Detection_Phase_4.ipynb\" target=\"_parent\"><img src=\"https://colab.research.google.com/assets/colab-badge.svg\" alt=\"Open In Colab\"/></a>"
      ]
    },
    {
      "cell_type": "markdown",
      "metadata": {
        "id": "pAMfNOCX4Cgp"
      },
      "source": [
        "# 5390 Deep Learning UMSL\n",
        "## sp21 Semester Project\n",
        "Jackson Hoenig"
      ]
    },
    {
      "cell_type": "markdown",
      "metadata": {
        "id": "0-UEG3TG4Qqr"
      },
      "source": [
        "# Description"
      ]
    },
    {
      "cell_type": "markdown",
      "metadata": {
        "id": "N0hWc2sQ4T7c"
      },
      "source": [
        "1. Watch the lectures in Module 5.\n",
        "2. With the best model obtained from the previous step, apply various techniques of data augmentation (Image generators) and study the improvement in accuracy\n",
        "3. Plot your learning curves and include them in your report\n"
      ]
    },
    {
      "cell_type": "markdown",
      "metadata": {
        "id": "j2WFjzPe6UiU"
      },
      "source": [
        "#Initial Setup"
      ]
    },
    {
      "cell_type": "markdown",
      "metadata": {
        "id": "-Tm6zEoZ7JUo"
      },
      "source": [
        "##Imports"
      ]
    },
    {
      "cell_type": "code",
      "metadata": {
        "id": "D6CtHFIO38Cr"
      },
      "source": [
        "import requests, zipfile, io, os\n",
        "import os\n",
        "from tensorflow.keras.models import Sequential\n",
        "from tensorflow.keras.layers import Dense, Conv2D, Flatten, MaxPool2D\n",
        "from keras.preprocessing.image import ImageDataGenerator\n",
        "from keras.callbacks import EarlyStopping\n",
        "import matplotlib.pyplot as plt\n",
        "from keras import layers\n",
        "from keras import models\n",
        "from keras import callbacks\n",
        "from keras.layers import Dropout\n",
        "from keras.preprocessing import image\n",
        "import matplotlib.pyplot as plt\n",
        "import numpy as np\n",
        "from sklearn.datasets import make_circles\n",
        "from sklearn.metrics import accuracy_score\n",
        "from sklearn.metrics import precision_score\n",
        "from sklearn.metrics import recall_score\n",
        "from sklearn.metrics import f1_score\n",
        "from sklearn.metrics import cohen_kappa_score\n",
        "from sklearn.metrics import roc_auc_score\n",
        "from sklearn.metrics import confusion_matrix\n"
      ],
      "execution_count": null,
      "outputs": []
    },
    {
      "cell_type": "markdown",
      "metadata": {
        "id": "HyuEm5_H6-hg"
      },
      "source": [
        "##Prevent Google Colab From Stalling"
      ]
    },
    {
      "cell_type": "code",
      "metadata": {
        "id": "aWka_Yii69KH",
        "colab": {
          "base_uri": "https://localhost:8080/"
        },
        "outputId": "c67b532b-d9e3-42f0-c793-495e925397d7"
      },
      "source": [
        "import IPython\n",
        "from google.colab import output\n",
        "\n",
        "display(IPython.display.Javascript('''\n",
        " function ClickConnect(){\n",
        "   btn = document.querySelector(\"colab-connect-button\")\n",
        "   if (btn != null){\n",
        "     console.log(\"Click colab-connect-button\"); \n",
        "     btn.click() \n",
        "     }\n",
        "   \n",
        "   btn = document.getElementById('ok')\n",
        "   if (btn != null){\n",
        "     console.log(\"Click reconnect\"); \n",
        "     btn.click() \n",
        "     }\n",
        "  }\n",
        "  \n",
        "setInterval(ClickConnect,60000)\n",
        "'''))\n",
        "\n",
        "print(\"Done.\")"
      ],
      "execution_count": null,
      "outputs": [
        {
          "output_type": "display_data",
          "data": {
            "application/javascript": [
              "\n",
              " function ClickConnect(){\n",
              "   btn = document.querySelector(\"colab-connect-button\")\n",
              "   if (btn != null){\n",
              "     console.log(\"Click colab-connect-button\"); \n",
              "     btn.click() \n",
              "     }\n",
              "   \n",
              "   btn = document.getElementById('ok')\n",
              "   if (btn != null){\n",
              "     console.log(\"Click reconnect\"); \n",
              "     btn.click() \n",
              "     }\n",
              "  }\n",
              "  \n",
              "setInterval(ClickConnect,60000)\n"
            ],
            "text/plain": [
              "<IPython.core.display.Javascript object>"
            ]
          },
          "metadata": {
            "tags": []
          }
        },
        {
          "output_type": "stream",
          "text": [
            "Done.\n"
          ],
          "name": "stdout"
        }
      ]
    },
    {
      "cell_type": "markdown",
      "metadata": {
        "id": "DMRTzyz16WxI"
      },
      "source": [
        "#Split the Training Data"
      ]
    },
    {
      "cell_type": "code",
      "metadata": {
        "colab": {
          "base_uri": "https://localhost:8080/"
        },
        "id": "XfzJqXA_6aY6",
        "outputId": "a3b133da-abde-4d03-f422-71e32a1e1b66"
      },
      "source": [
        "print('Downloading and unzipping test file.')\n",
        "r = requests.get('https://github.com/Jax45/Deepfake-Detection/raw/main/DeepfakeDataset-001.zip')\n",
        "z = zipfile.ZipFile(io.BytesIO(r.content))\n",
        "z.extractall()"
      ],
      "execution_count": null,
      "outputs": [
        {
          "output_type": "stream",
          "text": [
            "Downloading and unzipping test file.\n"
          ],
          "name": "stdout"
        }
      ]
    },
    {
      "cell_type": "code",
      "metadata": {
        "id": "HS8rNXhP7TvI"
      },
      "source": [
        "#create the directory paths\n",
        "!mkdir SplitDataset\n",
        "!mkdir SplitDataset/train\n",
        "!mkdir SplitDataset/test\n",
        "!mkdir SplitDataset/valid\n",
        "!mkdir SplitDataset/train/real\n",
        "!mkdir SplitDataset/train/fake\n",
        "!mkdir SplitDataset/test/real\n",
        "!mkdir SplitDataset/test/fake\n",
        "!mkdir SplitDataset/valid/real\n",
        "!mkdir SplitDataset/valid/fake"
      ],
      "execution_count": null,
      "outputs": []
    },
    {
      "cell_type": "code",
      "metadata": {
        "id": "bThztrNA7Vvd"
      },
      "source": [
        "\n",
        "#save all real file names to list\n",
        "import os\n",
        "count = 0\n",
        "realFileNames = list()\n",
        "fakeFileNames = list()\n",
        "for filename in os.listdir('/content/Real_Images'):\n",
        "  realFileNames.append(filename)\n",
        "\n",
        "#save all fake file names to list\n",
        "for filename in os.listdir('/content/Fake_Images'):\n",
        "  fakeFileNames.append(filename)\n",
        "\n"
      ],
      "execution_count": null,
      "outputs": []
    },
    {
      "cell_type": "code",
      "metadata": {
        "id": "Caw2kRRH7Ycz"
      },
      "source": [
        "import random\n",
        "import os\n",
        "import imageio\n",
        "#split real file names into\n",
        "#train valid and test\n",
        "random.shuffle(realFileNames)\n",
        "count = 0\n",
        "for file in realFileNames:\n",
        "  if count < len(realFileNames) * 3 / 5: #first 60%\n",
        "    # print(\"Train dataset\" + str(count))\n",
        "    imageio.imwrite('/content/SplitDataset/train/real/' + file, imageio.imread('/content/Real_Images/' + file))\n",
        "\n",
        "  elif count < len(realFileNames) * 4 / 5: #20% after 60%\n",
        "    # print(\"Valid dataset\" + str(count))\n",
        "    imageio.imwrite('/content/SplitDataset/valid/real/' + file, imageio.imread('/content/Real_Images/' + file))\n",
        "\n",
        "  else: #Last 20 percent\n",
        "    #Test\n",
        "    imageio.imwrite('/content/SplitDataset/test/real/' + file, imageio.imread('/content/Real_Images/' + file))\n",
        "\n",
        "  count += 1;\n"
      ],
      "execution_count": null,
      "outputs": []
    },
    {
      "cell_type": "markdown",
      "metadata": {
        "id": "2XBOTyeMy54x"
      },
      "source": [
        "With the fake images we need to make sure the same videos are kept together so they do not get split among the datasets. there are 8 videos so we will take the first 4 videos for training, the next 2 for validation and last 2 for test set."
      ]
    },
    {
      "cell_type": "code",
      "metadata": {
        "colab": {
          "base_uri": "https://localhost:8080/"
        },
        "id": "3vMQBXSDzOR3",
        "outputId": "5d9289bc-5486-498f-9557-66ca6bc09a0e"
      },
      "source": [
        "count = 0\n",
        "for file in fakeFileNames:\n",
        "  if file.startswith('gen1') or file.startswith('gen3') or file.startswith('gen4') or file.startswith('gen5'): #first 60%\n",
        "    print(\"Train dataset\" + str(count) + file)\n",
        "    imageio.imwrite('/content/SplitDataset/train/fake/' + file, imageio.imread('/content/Fake_Images/' + file))\n",
        "\n",
        "  elif file.startswith('gen6') or file.startswith('gen7'): #20% after 60%\n",
        "    # print(\"Valid dataset\" + str(count))\n",
        "    imageio.imwrite('/content/SplitDataset/valid/fake/' + file, imageio.imread('/content/Fake_Images/' + file))\n",
        "\n",
        "  else: #Last 20 percent\n",
        "    #Test\n",
        "    imageio.imwrite('/content/SplitDataset/test/fake/' + file, imageio.imread('/content/Fake_Images/' + file))\n",
        "  \n",
        "  count += 1;\n"
      ],
      "execution_count": null,
      "outputs": [
        {
          "output_type": "stream",
          "text": [
            "Train dataset0gen4_frame145.jpg\n",
            "Train dataset1gen4_frame35.jpg\n",
            "Train dataset2gen5_frame100.jpg\n",
            "Train dataset4gen4_frame110.jpg\n",
            "Train dataset6gen4_frame200.jpg\n",
            "Train dataset8gen1_frame120.jpg\n",
            "Train dataset9gen5_frame195.jpg\n",
            "Train dataset11gen4_frame235.jpg\n",
            "Train dataset14gen4_frame315.jpg\n",
            "Train dataset16gen3_frame145.jpg\n",
            "Train dataset17gen4_frame220.jpg\n",
            "Train dataset18gen5_frame60.jpg\n",
            "Train dataset19gen3_frame20.jpg\n",
            "Train dataset21gen1_frame195.jpg\n",
            "Train dataset22gen5_frame30.jpg\n",
            "Train dataset23gen4_frame185.jpg\n",
            "Train dataset24gen4_frame20.jpg\n",
            "Train dataset25gen4_frame350.jpg\n",
            "Train dataset26gen4_frame140.jpg\n",
            "Train dataset28gen5_frame115.jpg\n",
            "Train dataset30gen4_frame105.jpg\n",
            "Train dataset32gen5_frame240.jpg\n",
            "Train dataset33gen5_frame120.jpg\n",
            "Train dataset35gen4_frame180.jpg\n",
            "Train dataset38gen1_frame155.jpg\n",
            "Train dataset39gen1_frame65.jpg\n",
            "Train dataset40gen1_frame175.jpg\n",
            "Train dataset42gen1_frame205.jpg\n",
            "Train dataset43gen4_frame115.jpg\n",
            "Train dataset45gen4_frame160.jpg\n",
            "Train dataset46gen1_frame0.jpg\n",
            "Train dataset47gen4_frame440.jpg\n",
            "Train dataset48gen4_frame15.jpg\n",
            "Train dataset49gen3_frame125.jpg\n",
            "Train dataset50gen3_frame75.jpg\n",
            "Train dataset53gen5_frame90.jpg\n",
            "Train dataset54gen4_frame285.jpg\n",
            "Train dataset55gen1_frame125.jpg\n",
            "Train dataset56gen4_frame50.jpg\n",
            "Train dataset57gen4_frame380.jpg\n",
            "Train dataset59gen3_frame5.jpg\n",
            "Train dataset60gen4_frame165.jpg\n",
            "Train dataset61gen5_frame225.jpg\n",
            "Train dataset62gen4_frame175.jpg\n",
            "Train dataset65gen4_frame310.jpg\n",
            "Train dataset66gen3_frame120.jpg\n",
            "Train dataset67gen4_frame250.jpg\n",
            "Train dataset68gen1_frame200.jpg\n",
            "Train dataset69gen4_frame305.jpg\n",
            "Train dataset71gen3_frame95.jpg\n",
            "Train dataset72gen5_frame110.jpg\n",
            "Train dataset73gen4_frame240.jpg\n",
            "Train dataset74gen4_frame280.jpg\n",
            "Train dataset76gen5_frame170.jpg\n",
            "Train dataset77gen4_frame95.jpg\n",
            "Train dataset80gen1_frame180.jpg\n",
            "Train dataset81gen5_frame20.jpg\n",
            "Train dataset83gen1_frame15.jpg\n",
            "Train dataset84gen5_frame85.jpg\n",
            "Train dataset85gen1_frame170.jpg\n",
            "Train dataset88gen4_frame125.jpg\n",
            "Train dataset89gen3_frame0.jpg\n",
            "Train dataset90gen3_frame55.jpg\n",
            "Train dataset93gen1_frame75.jpg\n",
            "Train dataset94gen5_frame190.jpg\n",
            "Train dataset95gen5_frame10.jpg\n",
            "Train dataset97gen3_frame80.jpg\n",
            "Train dataset98gen5_frame50.jpg\n",
            "Train dataset103gen4_frame340.jpg\n",
            "Train dataset104gen5_frame150.jpg\n",
            "Train dataset105gen1_frame30.jpg\n",
            "Train dataset106gen3_frame90.jpg\n",
            "Train dataset111gen3_frame65.jpg\n",
            "Train dataset112gen1_frame140.jpg\n",
            "Train dataset113gen4_frame230.jpg\n",
            "Train dataset117gen1_frame60.jpg\n",
            "Train dataset119gen5_frame0.jpg\n",
            "Train dataset120gen1_frame70.jpg\n",
            "Train dataset121gen5_frame185.jpg\n",
            "Train dataset122gen4_frame195.jpg\n",
            "Train dataset123gen4_frame255.jpg\n",
            "Train dataset125gen1_frame210.jpg\n",
            "Train dataset127gen3_frame35.jpg\n",
            "Train dataset128gen3_frame40.jpg\n",
            "Train dataset129gen1_frame95.jpg\n",
            "Train dataset130gen4_frame215.jpg\n",
            "Train dataset131gen3_frame60.jpg\n",
            "Train dataset132gen3_frame85.jpg\n",
            "Train dataset135gen5_frame140.jpg\n",
            "Train dataset138gen5_frame230.jpg\n",
            "Train dataset140gen4_frame375.jpg\n",
            "Train dataset141gen1_frame80.jpg\n",
            "Train dataset143gen4_frame75.jpg\n",
            "Train dataset144gen3_frame15.jpg\n",
            "Train dataset147gen1_frame50.jpg\n",
            "Train dataset148gen5_frame135.jpg\n",
            "Train dataset149gen1_frame25.jpg\n",
            "Train dataset150gen4_frame320.jpg\n",
            "Train dataset151gen4_frame390.jpg\n",
            "Train dataset152gen4_frame365.jpg\n",
            "Train dataset154gen5_frame75.jpg\n",
            "Train dataset156gen1_frame165.jpg\n",
            "Train dataset159gen5_frame160.jpg\n",
            "Train dataset160gen4_frame360.jpg\n",
            "Train dataset162gen1_frame115.jpg\n",
            "Train dataset164gen5_frame215.jpg\n",
            "Train dataset165gen1_frame130.jpg\n",
            "Train dataset167gen4_frame205.jpg\n",
            "Train dataset170gen4_frame275.jpg\n",
            "Train dataset171gen5_frame155.jpg\n",
            "Train dataset173gen3_frame130.jpg\n",
            "Train dataset175gen5_frame205.jpg\n",
            "Train dataset177gen5_frame165.jpg\n",
            "Train dataset178gen4_frame395.jpg\n",
            "Train dataset181gen3_frame100.jpg\n",
            "Train dataset182gen4_frame355.jpg\n",
            "Train dataset183gen5_frame220.jpg\n",
            "Train dataset184gen3_frame135.jpg\n",
            "Train dataset186gen3_frame115.jpg\n",
            "Train dataset189gen4_frame45.jpg\n",
            "Train dataset190gen4_frame85.jpg\n",
            "Train dataset191gen4_frame90.jpg\n",
            "Train dataset192gen1_frame5.jpg\n",
            "Train dataset195gen3_frame140.jpg\n",
            "Train dataset198gen5_frame65.jpg\n",
            "Train dataset200gen4_frame130.jpg\n",
            "Train dataset201gen3_frame10.jpg\n",
            "Train dataset202gen4_frame345.jpg\n",
            "Train dataset203gen1_frame40.jpg\n",
            "Train dataset204gen4_frame170.jpg\n",
            "Train dataset205gen4_frame335.jpg\n",
            "Train dataset209gen5_frame15.jpg\n",
            "Train dataset211gen3_frame70.jpg\n",
            "Train dataset213gen1_frame90.jpg\n",
            "Train dataset215gen4_frame425.jpg\n",
            "Train dataset217gen5_frame250.jpg\n",
            "Train dataset221gen5_frame200.jpg\n",
            "Train dataset224gen4_frame10.jpg\n",
            "Train dataset225gen5_frame40.jpg\n",
            "Train dataset226gen4_frame135.jpg\n",
            "Train dataset227gen5_frame130.jpg\n",
            "Train dataset229gen1_frame55.jpg\n",
            "Train dataset230gen4_frame325.jpg\n",
            "Train dataset231gen1_frame150.jpg\n",
            "Train dataset232gen4_frame270.jpg\n",
            "Train dataset233gen1_frame10.jpg\n",
            "Train dataset235gen4_frame25.jpg\n",
            "Train dataset236gen1_frame135.jpg\n",
            "Train dataset238gen3_frame105.jpg\n",
            "Train dataset241gen5_frame80.jpg\n",
            "Train dataset242gen4_frame190.jpg\n",
            "Train dataset244gen4_frame300.jpg\n",
            "Train dataset246gen4_frame260.jpg\n",
            "Train dataset247gen5_frame125.jpg\n",
            "Train dataset248gen1_frame190.jpg\n",
            "Train dataset250gen4_frame430.jpg\n",
            "Train dataset251gen4_frame80.jpg\n",
            "Train dataset253gen5_frame25.jpg\n",
            "Train dataset254gen5_frame35.jpg\n",
            "Train dataset255gen3_frame45.jpg\n",
            "Train dataset256gen1_frame185.jpg\n",
            "Train dataset257gen1_frame110.jpg\n",
            "Train dataset259gen5_frame175.jpg\n",
            "Train dataset262gen5_frame105.jpg\n",
            "Train dataset264gen3_frame110.jpg\n",
            "Train dataset266gen4_frame100.jpg\n",
            "Train dataset267gen4_frame155.jpg\n",
            "Train dataset270gen5_frame95.jpg\n",
            "Train dataset271gen4_frame330.jpg\n",
            "Train dataset272gen4_frame405.jpg\n",
            "Train dataset273gen1_frame145.jpg\n",
            "Train dataset274gen5_frame45.jpg\n",
            "Train dataset275gen4_frame0.jpg\n",
            "Train dataset279gen4_frame435.jpg\n",
            "Train dataset280gen4_frame370.jpg\n",
            "Train dataset285gen5_frame55.jpg\n",
            "Train dataset292gen1_frame105.jpg\n",
            "Train dataset295gen4_frame55.jpg\n",
            "Train dataset296gen4_frame385.jpg\n",
            "Train dataset297gen4_frame295.jpg\n",
            "Train dataset298gen4_frame415.jpg\n",
            "Train dataset301gen1_frame35.jpg\n",
            "Train dataset303gen5_frame260.jpg\n",
            "Train dataset305gen1_frame100.jpg\n",
            "Train dataset306gen1_frame160.jpg\n",
            "Train dataset307gen4_frame420.jpg\n",
            "Train dataset308gen4_frame400.jpg\n",
            "Train dataset309gen3_frame25.jpg\n",
            "Train dataset312gen4_frame225.jpg\n",
            "Train dataset318gen1_frame20.jpg\n",
            "Train dataset320gen4_frame65.jpg\n",
            "Train dataset321gen1_frame45.jpg\n",
            "Train dataset322gen4_frame245.jpg\n",
            "Train dataset324gen5_frame180.jpg\n",
            "Train dataset326gen3_frame50.jpg\n",
            "Train dataset328gen4_frame30.jpg\n",
            "Train dataset329gen1_frame85.jpg\n",
            "Train dataset332gen5_frame235.jpg\n",
            "Train dataset334gen4_frame410.jpg\n",
            "Train dataset335gen5_frame145.jpg\n",
            "Train dataset336gen4_frame290.jpg\n",
            "Train dataset337gen4_frame60.jpg\n",
            "Train dataset339gen5_frame5.jpg\n",
            "Train dataset340gen4_frame120.jpg\n",
            "Train dataset341gen3_frame30.jpg\n",
            "Train dataset342gen5_frame70.jpg\n",
            "Train dataset345gen5_frame245.jpg\n",
            "Train dataset346gen4_frame265.jpg\n",
            "Train dataset347gen4_frame40.jpg\n",
            "Train dataset349gen4_frame210.jpg\n",
            "Train dataset351gen4_frame70.jpg\n",
            "Train dataset352gen5_frame210.jpg\n",
            "Train dataset356gen4_frame150.jpg\n",
            "Train dataset358gen4_frame5.jpg\n",
            "Train dataset360gen5_frame255.jpg\n"
          ],
          "name": "stdout"
        }
      ]
    },
    {
      "cell_type": "code",
      "metadata": {
        "colab": {
          "base_uri": "https://localhost:8080/"
        },
        "id": "0hdANd067bFv",
        "outputId": "fc14e6e6-e5a8-4f04-f5ee-216162f8c6d8"
      },
      "source": [
        "base_dir = 'SplitDataset'\n",
        "train_dir = os.path.join(base_dir, 'train')\n",
        "validation_dir = os.path.join(base_dir, 'valid')\n",
        "test_dir = os.path.join(base_dir, 'test')\n",
        "\n",
        "for s in os.listdir(base_dir):\n",
        "  for origin in os.listdir(base_dir+'/'+s):\n",
        "    print(base_dir+'/'+s+'/'+origin+': '+str(len(os.listdir(base_dir+'/'+s+'/'+origin))))\n",
        "  print('-----')"
      ],
      "execution_count": null,
      "outputs": [
        {
          "output_type": "stream",
          "text": [
            "SplitDataset/valid/real: 101\n",
            "SplitDataset/valid/fake: 73\n",
            "-----\n",
            "SplitDataset/train/real: 302\n",
            "SplitDataset/train/fake: 215\n",
            "-----\n",
            "SplitDataset/test/real: 100\n",
            "SplitDataset/test/fake: 73\n",
            "-----\n"
          ],
          "name": "stdout"
        }
      ]
    },
    {
      "cell_type": "markdown",
      "metadata": {
        "id": "pCtQQrHb7fVk"
      },
      "source": [
        "## Create Data Generators"
      ]
    },
    {
      "cell_type": "code",
      "metadata": {
        "colab": {
          "base_uri": "https://localhost:8080/"
        },
        "id": "Q-uEvN-z7jGl",
        "outputId": "6435a8e4-3e6d-40bf-ad07-4e42cdc9a664"
      },
      "source": [
        "#get a validation set generator\n",
        "train_datagen = ImageDataGenerator(rescale=1./255,\n",
        "    rotation_range=10,\n",
        "    brightness_range=[0.8,1.2],\n",
        "    fill_mode='nearest' \n",
        "    )\n",
        "\n",
        "train_generator = train_datagen.flow_from_directory(\n",
        "        train_dir,\n",
        "        target_size=(256, 256),\n",
        "        batch_size=4,\n",
        "        class_mode='categorical')\n",
        "class_dictionary = train_generator.class_indices\n",
        "print(class_dictionary)"
      ],
      "execution_count": null,
      "outputs": [
        {
          "output_type": "stream",
          "text": [
            "Found 517 images belonging to 2 classes.\n",
            "{'fake': 0, 'real': 1}\n"
          ],
          "name": "stdout"
        }
      ]
    },
    {
      "cell_type": "code",
      "metadata": {
        "colab": {
          "base_uri": "https://localhost:8080/"
        },
        "id": "RsIwi1iZ7wMM",
        "outputId": "e3dab2f5-8718-41ce-a074-253f27612f43"
      },
      "source": [
        "#get a validation set generator\n",
        "validate_datagen = ImageDataGenerator(rescale=1./255)\n",
        "validation_generator = validate_datagen.flow_from_directory(\n",
        "        validation_dir,\n",
        "        target_size=(256, 256),\n",
        "        batch_size=4,\n",
        "        class_mode='categorical')"
      ],
      "execution_count": null,
      "outputs": [
        {
          "output_type": "stream",
          "text": [
            "Found 174 images belonging to 2 classes.\n"
          ],
          "name": "stdout"
        }
      ]
    },
    {
      "cell_type": "code",
      "metadata": {
        "colab": {
          "base_uri": "https://localhost:8080/"
        },
        "id": "2zAX75PY7xEi",
        "outputId": "3651487a-6342-43db-fb9a-8644dcb3eb22"
      },
      "source": [
        "#get a test set generator\n",
        "test_datagen = ImageDataGenerator(rescale=1./255)\n",
        "test_generator = test_datagen.flow_from_directory(\n",
        "        test_dir,\n",
        "        target_size=(256, 256),\n",
        "        batch_size=20,\n",
        "        class_mode='categorical')"
      ],
      "execution_count": null,
      "outputs": [
        {
          "output_type": "stream",
          "text": [
            "Found 173 images belonging to 2 classes.\n"
          ],
          "name": "stdout"
        }
      ]
    },
    {
      "cell_type": "markdown",
      "metadata": {
        "id": "gjoOBbyX6ajJ"
      },
      "source": [
        "#Take the best model from Phase 3."
      ]
    },
    {
      "cell_type": "code",
      "metadata": {
        "id": "Wdb6vI5h6eLr"
      },
      "source": [
        "#Make sure the Earlystop callback is used with the validation set\n",
        "callback = callbacks.EarlyStopping(monitor='val_loss', patience=10)"
      ],
      "execution_count": null,
      "outputs": []
    },
    {
      "cell_type": "code",
      "metadata": {
        "colab": {
          "base_uri": "https://localhost:8080/"
        },
        "id": "ZUGPL5P2KNij",
        "outputId": "6bad7d57-8589-4717-a31b-46ac7418701d"
      },
      "source": [
        "originalModel = Sequential()\n",
        "originalModel.add( Conv2D( 32, ( 3, 3 ), activation = 'relu', input_shape=(256, 256, 3) ) )\n",
        "originalModel.add( MaxPool2D(4, 4) )\n",
        "originalModel.add( Conv2D( 16, ( 3, 3 ), activation = 'relu' ) )\n",
        "originalModel.add( Flatten() )\n",
        "originalModel.add( Dense( 8, activation = 'sigmoid' ) )\n",
        "originalModel.add( Dense( 2, activation = 'sigmoid' ) )\n",
        "originalModel.summary()\n",
        "originalModel.compile( optimizer = 'adam', loss = 'binary_crossentropy', metrics = [ 'accuracy' ] )\n",
        "originalHistory = originalModel.fit(  train_generator, validation_data=validation_generator, callbacks=[callback], epochs = 35, batch_size = 64 )"
      ],
      "execution_count": null,
      "outputs": [
        {
          "output_type": "stream",
          "text": [
            "Model: \"sequential\"\n",
            "_________________________________________________________________\n",
            "Layer (type)                 Output Shape              Param #   \n",
            "=================================================================\n",
            "conv2d (Conv2D)              (None, 254, 254, 32)      896       \n",
            "_________________________________________________________________\n",
            "max_pooling2d (MaxPooling2D) (None, 63, 63, 32)        0         \n",
            "_________________________________________________________________\n",
            "conv2d_1 (Conv2D)            (None, 61, 61, 16)        4624      \n",
            "_________________________________________________________________\n",
            "flatten (Flatten)            (None, 59536)             0         \n",
            "_________________________________________________________________\n",
            "dense (Dense)                (None, 8)                 476296    \n",
            "_________________________________________________________________\n",
            "dense_1 (Dense)              (None, 2)                 18        \n",
            "=================================================================\n",
            "Total params: 481,834\n",
            "Trainable params: 481,834\n",
            "Non-trainable params: 0\n",
            "_________________________________________________________________\n",
            "Epoch 1/35\n",
            "130/130 [==============================] - 42s 72ms/step - loss: 0.7234 - accuracy: 0.5679 - val_loss: 0.7394 - val_accuracy: 0.5805\n",
            "Epoch 2/35\n",
            "130/130 [==============================] - 9s 70ms/step - loss: 0.7052 - accuracy: 0.6007 - val_loss: 0.6937 - val_accuracy: 0.5805\n",
            "Epoch 3/35\n",
            "130/130 [==============================] - 9s 69ms/step - loss: 0.7051 - accuracy: 0.5543 - val_loss: 0.6827 - val_accuracy: 0.5805\n",
            "Epoch 4/35\n",
            "130/130 [==============================] - 9s 69ms/step - loss: 0.6952 - accuracy: 0.5536 - val_loss: 0.6809 - val_accuracy: 0.5805\n",
            "Epoch 5/35\n",
            "130/130 [==============================] - 9s 69ms/step - loss: 0.6831 - accuracy: 0.5758 - val_loss: 0.6803 - val_accuracy: 0.5805\n",
            "Epoch 6/35\n",
            "130/130 [==============================] - 9s 70ms/step - loss: 0.6773 - accuracy: 0.5901 - val_loss: 0.6803 - val_accuracy: 0.5805\n",
            "Epoch 7/35\n",
            "130/130 [==============================] - 9s 69ms/step - loss: 0.6833 - accuracy: 0.5729 - val_loss: 0.6801 - val_accuracy: 0.5805\n",
            "Epoch 8/35\n",
            "130/130 [==============================] - 9s 69ms/step - loss: 0.6767 - accuracy: 0.5917 - val_loss: 0.6802 - val_accuracy: 0.5805\n",
            "Epoch 9/35\n",
            "130/130 [==============================] - 9s 69ms/step - loss: 0.6799 - accuracy: 0.5824 - val_loss: 0.6801 - val_accuracy: 0.5805\n",
            "Epoch 10/35\n",
            "130/130 [==============================] - 9s 69ms/step - loss: 0.6663 - accuracy: 0.6223 - val_loss: 0.6802 - val_accuracy: 0.5805\n",
            "Epoch 11/35\n",
            "130/130 [==============================] - 9s 69ms/step - loss: 0.6798 - accuracy: 0.5836 - val_loss: 0.6802 - val_accuracy: 0.5805\n",
            "Epoch 12/35\n",
            "130/130 [==============================] - 10s 74ms/step - loss: 0.6830 - accuracy: 0.5746 - val_loss: 0.6801 - val_accuracy: 0.5805\n",
            "Epoch 13/35\n",
            "130/130 [==============================] - 9s 69ms/step - loss: 0.6642 - accuracy: 0.6306 - val_loss: 0.6801 - val_accuracy: 0.5805\n",
            "Epoch 14/35\n",
            "130/130 [==============================] - 9s 70ms/step - loss: 0.6840 - accuracy: 0.5699 - val_loss: 0.6801 - val_accuracy: 0.5805\n",
            "Epoch 15/35\n",
            "130/130 [==============================] - 9s 69ms/step - loss: 0.6911 - accuracy: 0.5480 - val_loss: 0.6802 - val_accuracy: 0.5805\n",
            "Epoch 16/35\n",
            "130/130 [==============================] - 9s 69ms/step - loss: 0.6764 - accuracy: 0.5925 - val_loss: 0.6802 - val_accuracy: 0.5805\n",
            "Epoch 17/35\n",
            "130/130 [==============================] - 9s 69ms/step - loss: 0.6764 - accuracy: 0.5926 - val_loss: 0.6802 - val_accuracy: 0.5805\n",
            "Epoch 18/35\n",
            "130/130 [==============================] - 9s 70ms/step - loss: 0.6791 - accuracy: 0.5849 - val_loss: 0.6801 - val_accuracy: 0.5805\n",
            "Epoch 19/35\n",
            "130/130 [==============================] - 9s 69ms/step - loss: 0.6813 - accuracy: 0.5771 - val_loss: 0.6801 - val_accuracy: 0.5805\n",
            "Epoch 20/35\n",
            "130/130 [==============================] - 9s 70ms/step - loss: 0.6712 - accuracy: 0.6080 - val_loss: 0.6802 - val_accuracy: 0.5805\n",
            "Epoch 21/35\n",
            "130/130 [==============================] - 9s 70ms/step - loss: 0.6773 - accuracy: 0.5894 - val_loss: 0.6802 - val_accuracy: 0.5805\n",
            "Epoch 22/35\n",
            "130/130 [==============================] - 9s 69ms/step - loss: 0.6806 - accuracy: 0.5798 - val_loss: 0.6802 - val_accuracy: 0.5805\n",
            "Epoch 23/35\n",
            "130/130 [==============================] - 9s 69ms/step - loss: 0.6817 - accuracy: 0.5767 - val_loss: 0.6802 - val_accuracy: 0.5805\n",
            "Epoch 24/35\n",
            "130/130 [==============================] - 9s 69ms/step - loss: 0.6803 - accuracy: 0.5812 - val_loss: 0.6802 - val_accuracy: 0.5805\n",
            "Epoch 25/35\n",
            "130/130 [==============================] - 9s 69ms/step - loss: 0.6725 - accuracy: 0.6037 - val_loss: 0.6801 - val_accuracy: 0.5805\n",
            "Epoch 26/35\n",
            "130/130 [==============================] - 9s 70ms/step - loss: 0.6817 - accuracy: 0.5761 - val_loss: 0.6801 - val_accuracy: 0.5805\n",
            "Epoch 27/35\n",
            "130/130 [==============================] - 9s 69ms/step - loss: 0.6772 - accuracy: 0.5900 - val_loss: 0.6802 - val_accuracy: 0.5805\n",
            "Epoch 28/35\n",
            "130/130 [==============================] - 9s 70ms/step - loss: 0.6677 - accuracy: 0.6172 - val_loss: 0.6802 - val_accuracy: 0.5805\n",
            "Epoch 29/35\n",
            "130/130 [==============================] - 9s 70ms/step - loss: 0.6803 - accuracy: 0.5806 - val_loss: 0.6802 - val_accuracy: 0.5805\n"
          ],
          "name": "stdout"
        }
      ]
    },
    {
      "cell_type": "markdown",
      "metadata": {
        "id": "EzUoToC5qKMy"
      },
      "source": [
        "# Data Augmentation"
      ]
    },
    {
      "cell_type": "code",
      "metadata": {
        "colab": {
          "base_uri": "https://localhost:8080/"
        },
        "id": "FhTcn8kVqVxM",
        "outputId": "e6962fa5-40f1-4b51-8363-3766ea96f1d2"
      },
      "source": [
        "#Adding a rotation range of 40 degrees\n",
        "train_datagen1 = ImageDataGenerator(rescale=1./255,\n",
        "    rotation_range=40\n",
        "    )\n",
        "\n",
        "train_generator1 = train_datagen1.flow_from_directory(\n",
        "        train_dir,\n",
        "        target_size=(256, 256),\n",
        "        batch_size=4,\n",
        "        class_mode='categorical')\n",
        "\n",
        "#adding a width_shift_range of 0.2\n",
        "train_datagen2 = ImageDataGenerator(rescale=1./255,\n",
        "    width_shift_range=0.2\n",
        "    )\n",
        "\n",
        "train_generator2 = train_datagen2.flow_from_directory(\n",
        "        train_dir,\n",
        "        target_size=(256, 256),\n",
        "        batch_size=4,\n",
        "        class_mode='categorical')\n",
        "#adding a height shift range of 0.2\n",
        "train_datagen3 = ImageDataGenerator(rescale=1./255,\n",
        "    height_shift_range=0.2\n",
        "    )\n",
        "\n",
        "train_generator3 = train_datagen3.flow_from_directory(\n",
        "        train_dir,\n",
        "        target_size=(256, 256),\n",
        "        batch_size=4,\n",
        "        class_mode='categorical')\n",
        "#adding a shear range of 0.2\n",
        "train_datagen4 = ImageDataGenerator(rescale=1./255,\n",
        "    shear_range=0.2\n",
        "    )\n",
        "\n",
        "train_generator4 = train_datagen4.flow_from_directory(\n",
        "        train_dir,\n",
        "        target_size=(256, 256),\n",
        "        batch_size=4,\n",
        "        class_mode='categorical')\n",
        "#adding a zoom_range of 0.2\n",
        "train_datagen5 = ImageDataGenerator(rescale=1./255,\n",
        "    zoom_range=0.2\n",
        "    )\n",
        "\n",
        "train_generator5 = train_datagen5.flow_from_directory(\n",
        "        train_dir,\n",
        "        target_size=(256, 256),\n",
        "        batch_size=4,\n",
        "        class_mode='categorical')\n",
        "#adding a horizontal flip=true\n",
        "train_datagen6 = ImageDataGenerator(rescale=1./255,\n",
        "    horizontal_flip=True\n",
        "    )\n",
        "\n",
        "train_generator6 = train_datagen6.flow_from_directory(\n",
        "        train_dir,\n",
        "        target_size=(256, 256),\n",
        "        batch_size=4,\n",
        "        class_mode='categorical')\n",
        "#adding fill_mode='nearest'\n",
        "train_datagen7 = ImageDataGenerator(rescale=1./255,\n",
        "    fill_mode='nearest'\n",
        "    )\n",
        "\n",
        "train_generator7 = train_datagen7.flow_from_directory(\n",
        "        train_dir,\n",
        "        target_size=(256, 256),\n",
        "        batch_size=4,\n",
        "        class_mode='categorical')\n",
        "\n",
        "#adding fill_mode='nearest' and     height_shift_range=0.2\n",
        "\n",
        "train_datagen8 = ImageDataGenerator(rescale=1./255,\n",
        "    fill_mode='nearest',\n",
        "    height_shift_range=0.2\n",
        "    )\n",
        "\n",
        "train_generator8 = train_datagen8.flow_from_directory(\n",
        "        train_dir,\n",
        "        target_size=(256, 256),\n",
        "        batch_size=4,\n",
        "        class_mode='categorical')\n",
        "   \n",
        "\n",
        "\n",
        "\n",
        "#adding the previous augmentations from the original generator.\n",
        "train_datagen9 = ImageDataGenerator(rescale=1./255,\n",
        "    fill_mode='nearest',\n",
        "    rotation_range=10,\n",
        "    height_shift_range=0.2\n",
        "    )\n",
        "\n",
        "train_generator9 = train_datagen9.flow_from_directory(\n",
        "        train_dir,\n",
        "        target_size=(256, 256),\n",
        "        batch_size=4,\n",
        "        class_mode='categorical')\n",
        "\n",
        "train_datagen10 = ImageDataGenerator(rescale=1./255,\n",
        "    fill_mode='nearest',\n",
        "    rotation_range=10,\n",
        "    brightness_range=[0.8,1.2],\n",
        "    height_shift_range=0.2\n",
        "    )\n",
        "\n",
        "train_generator10 = train_datagen10.flow_from_directory(\n",
        "        train_dir,\n",
        "        target_size=(256, 256),\n",
        "        batch_size=4,\n",
        "        class_mode='categorical')\n",
        "\n",
        "#best combined?\n",
        "train_datagen11 = ImageDataGenerator(rescale=1./255,\n",
        "    fill_mode='nearest',\n",
        "    rotation_range=10,\n",
        "    height_shift_range=0.2,\n",
        "    width_shift_range=0.2\n",
        "    )\n",
        "\n",
        "train_generator11 = train_datagen11.flow_from_directory(\n",
        "        train_dir,\n",
        "        target_size=(256, 256),\n",
        "        batch_size=4,\n",
        "        class_mode='categorical')\n",
        "\n",
        "#all\n",
        "train_datagen12 = ImageDataGenerator(rescale=1./255,\n",
        "    fill_mode='nearest',\n",
        "    rotation_range=10,\n",
        "    height_shift_range=0.2,\n",
        "    width_shift_range=0.2,\n",
        "    shear_range=0.2,\n",
        "    zoom_range=0.2,\n",
        "    horizontal_flip=True,\n",
        "    brightness_range=[0.8,1.2]\n",
        "    )\n",
        "\n",
        "train_generator12 = train_datagen12.flow_from_directory(\n",
        "        train_dir,\n",
        "        target_size=(256, 256),\n",
        "        batch_size=4,\n",
        "        class_mode='categorical')\n"
      ],
      "execution_count": null,
      "outputs": [
        {
          "output_type": "stream",
          "text": [
            "Found 517 images belonging to 2 classes.\n",
            "Found 517 images belonging to 2 classes.\n",
            "Found 517 images belonging to 2 classes.\n",
            "Found 517 images belonging to 2 classes.\n",
            "Found 517 images belonging to 2 classes.\n",
            "Found 517 images belonging to 2 classes.\n",
            "Found 517 images belonging to 2 classes.\n",
            "Found 517 images belonging to 2 classes.\n",
            "Found 517 images belonging to 2 classes.\n",
            "Found 517 images belonging to 2 classes.\n",
            "Found 517 images belonging to 2 classes.\n",
            "Found 517 images belonging to 2 classes.\n"
          ],
          "name": "stdout"
        }
      ]
    },
    {
      "cell_type": "markdown",
      "metadata": {
        "id": "rzJXmo7bs6KC"
      },
      "source": [
        "## Run for all the models"
      ]
    },
    {
      "cell_type": "code",
      "metadata": {
        "colab": {
          "base_uri": "https://localhost:8080/"
        },
        "id": "hrfxXip2s5at",
        "outputId": "ce2fa346-9c7c-4a88-9725-eb1ef4795978"
      },
      "source": [
        "model1 = Sequential()\n",
        "model1.add( Conv2D( 32, ( 3, 3 ), activation = 'relu', input_shape=(256, 256, 3) ) )\n",
        "model1.add( MaxPool2D(4, 4) )\n",
        "model1.add( Conv2D( 16, ( 3, 3 ), activation = 'relu' ) )\n",
        "model1.add( Flatten() )\n",
        "model1.add( Dense( 8, activation = 'sigmoid' ) )\n",
        "model1.add( Dense( 2, activation = 'sigmoid' ) )\n",
        "model1.summary()\n",
        "model1.compile( optimizer = 'adam', loss = 'binary_crossentropy', metrics = [ 'accuracy' ] )\n",
        "history1 = model1.fit(  train_generator1, validation_data=validation_generator, callbacks=[callback], epochs = 35, batch_size = 64 )"
      ],
      "execution_count": null,
      "outputs": [
        {
          "output_type": "stream",
          "text": [
            "Model: \"sequential_1\"\n",
            "_________________________________________________________________\n",
            "Layer (type)                 Output Shape              Param #   \n",
            "=================================================================\n",
            "conv2d_2 (Conv2D)            (None, 254, 254, 32)      896       \n",
            "_________________________________________________________________\n",
            "max_pooling2d_1 (MaxPooling2 (None, 63, 63, 32)        0         \n",
            "_________________________________________________________________\n",
            "conv2d_3 (Conv2D)            (None, 61, 61, 16)        4624      \n",
            "_________________________________________________________________\n",
            "flatten_1 (Flatten)          (None, 59536)             0         \n",
            "_________________________________________________________________\n",
            "dense_2 (Dense)              (None, 8)                 476296    \n",
            "_________________________________________________________________\n",
            "dense_3 (Dense)              (None, 2)                 18        \n",
            "=================================================================\n",
            "Total params: 481,834\n",
            "Trainable params: 481,834\n",
            "Non-trainable params: 0\n",
            "_________________________________________________________________\n",
            "Epoch 1/35\n",
            "130/130 [==============================] - 8s 62ms/step - loss: 0.7160 - accuracy: 0.6034 - val_loss: 0.7067 - val_accuracy: 0.5805\n",
            "Epoch 2/35\n",
            "130/130 [==============================] - 8s 61ms/step - loss: 0.6958 - accuracy: 0.5893 - val_loss: 0.6922 - val_accuracy: 0.5805\n",
            "Epoch 3/35\n",
            "130/130 [==============================] - 8s 61ms/step - loss: 0.6831 - accuracy: 0.5926 - val_loss: 0.6851 - val_accuracy: 0.5805\n",
            "Epoch 4/35\n",
            "130/130 [==============================] - 8s 61ms/step - loss: 0.6954 - accuracy: 0.5586 - val_loss: 0.6827 - val_accuracy: 0.5805\n",
            "Epoch 5/35\n",
            "130/130 [==============================] - 8s 60ms/step - loss: 0.6730 - accuracy: 0.6021 - val_loss: 0.6811 - val_accuracy: 0.5805\n",
            "Epoch 6/35\n",
            "130/130 [==============================] - 8s 61ms/step - loss: 0.6791 - accuracy: 0.5857 - val_loss: 0.6805 - val_accuracy: 0.5805\n",
            "Epoch 7/35\n",
            "130/130 [==============================] - 8s 62ms/step - loss: 0.6807 - accuracy: 0.5801 - val_loss: 0.6803 - val_accuracy: 0.5805\n",
            "Epoch 8/35\n",
            "130/130 [==============================] - 8s 61ms/step - loss: 0.6786 - accuracy: 0.5859 - val_loss: 0.6804 - val_accuracy: 0.5805\n",
            "Epoch 9/35\n",
            "130/130 [==============================] - 8s 61ms/step - loss: 0.6795 - accuracy: 0.5836 - val_loss: 0.6802 - val_accuracy: 0.5805\n",
            "Epoch 10/35\n",
            "130/130 [==============================] - 8s 61ms/step - loss: 0.6723 - accuracy: 0.6037 - val_loss: 0.6802 - val_accuracy: 0.5805\n",
            "Epoch 11/35\n",
            "130/130 [==============================] - 8s 61ms/step - loss: 0.6802 - accuracy: 0.5814 - val_loss: 0.6802 - val_accuracy: 0.5805\n",
            "Epoch 12/35\n",
            "130/130 [==============================] - 8s 62ms/step - loss: 0.6756 - accuracy: 0.5944 - val_loss: 0.6802 - val_accuracy: 0.5805\n",
            "Epoch 13/35\n",
            "130/130 [==============================] - 8s 61ms/step - loss: 0.6810 - accuracy: 0.5794 - val_loss: 0.6802 - val_accuracy: 0.5805\n",
            "Epoch 14/35\n",
            "130/130 [==============================] - 8s 61ms/step - loss: 0.6770 - accuracy: 0.5908 - val_loss: 0.6803 - val_accuracy: 0.5805\n",
            "Epoch 15/35\n",
            "130/130 [==============================] - 8s 61ms/step - loss: 0.6859 - accuracy: 0.5654 - val_loss: 0.6802 - val_accuracy: 0.5805\n",
            "Epoch 16/35\n",
            "130/130 [==============================] - 8s 61ms/step - loss: 0.6837 - accuracy: 0.5713 - val_loss: 0.6801 - val_accuracy: 0.5805\n",
            "Epoch 17/35\n",
            "130/130 [==============================] - 8s 61ms/step - loss: 0.6925 - accuracy: 0.5437 - val_loss: 0.6802 - val_accuracy: 0.5805\n",
            "Epoch 18/35\n",
            "130/130 [==============================] - 8s 61ms/step - loss: 0.6785 - accuracy: 0.5861 - val_loss: 0.6802 - val_accuracy: 0.5805\n",
            "Epoch 19/35\n",
            "130/130 [==============================] - 8s 61ms/step - loss: 0.6761 - accuracy: 0.5932 - val_loss: 0.6801 - val_accuracy: 0.5805\n",
            "Epoch 20/35\n",
            "130/130 [==============================] - 8s 62ms/step - loss: 0.6744 - accuracy: 0.5985 - val_loss: 0.6802 - val_accuracy: 0.5805\n",
            "Epoch 21/35\n",
            "130/130 [==============================] - 8s 62ms/step - loss: 0.6707 - accuracy: 0.6085 - val_loss: 0.6802 - val_accuracy: 0.5805\n",
            "Epoch 22/35\n",
            "130/130 [==============================] - 8s 61ms/step - loss: 0.6742 - accuracy: 0.5990 - val_loss: 0.6802 - val_accuracy: 0.5805\n",
            "Epoch 23/35\n",
            "130/130 [==============================] - 8s 61ms/step - loss: 0.6848 - accuracy: 0.5675 - val_loss: 0.6802 - val_accuracy: 0.5805\n",
            "Epoch 24/35\n",
            "130/130 [==============================] - 8s 62ms/step - loss: 0.6717 - accuracy: 0.6058 - val_loss: 0.6802 - val_accuracy: 0.5805\n",
            "Epoch 25/35\n",
            "130/130 [==============================] - 8s 61ms/step - loss: 0.6830 - accuracy: 0.5733 - val_loss: 0.6802 - val_accuracy: 0.5805\n",
            "Epoch 26/35\n",
            "130/130 [==============================] - 8s 61ms/step - loss: 0.6877 - accuracy: 0.5583 - val_loss: 0.6802 - val_accuracy: 0.5805\n",
            "Epoch 27/35\n",
            "130/130 [==============================] - 8s 61ms/step - loss: 0.6753 - accuracy: 0.5949 - val_loss: 0.6802 - val_accuracy: 0.5805\n",
            "Epoch 28/35\n",
            "130/130 [==============================] - 8s 62ms/step - loss: 0.6815 - accuracy: 0.5777 - val_loss: 0.6802 - val_accuracy: 0.5805\n",
            "Epoch 29/35\n",
            "130/130 [==============================] - 8s 61ms/step - loss: 0.6874 - accuracy: 0.5599 - val_loss: 0.6802 - val_accuracy: 0.5805\n"
          ],
          "name": "stdout"
        }
      ]
    },
    {
      "cell_type": "code",
      "metadata": {
        "colab": {
          "base_uri": "https://localhost:8080/"
        },
        "id": "6t0drZ3VsyWC",
        "outputId": "13defb1e-57cd-498f-9972-6a6765845fd2"
      },
      "source": [
        "model2 = Sequential()\n",
        "model2.add( Conv2D( 32, ( 3, 3 ), activation = 'relu', input_shape=(256, 256, 3) ) )\n",
        "model2.add( MaxPool2D(4, 4) )\n",
        "model2.add( Conv2D( 16, ( 3, 3 ), activation = 'relu' ) )\n",
        "model2.add( Flatten() )\n",
        "model2.add( Dense( 8, activation = 'sigmoid' ) )\n",
        "model2.add( Dense( 2, activation = 'sigmoid' ) )\n",
        "model2.summary()\n",
        "model2.compile( optimizer = 'adam', loss = 'binary_crossentropy', metrics = [ 'accuracy' ] )\n",
        "history2 = model2.fit(  train_generator2, validation_data=validation_generator, callbacks=[callback], epochs = 35, batch_size = 64 )"
      ],
      "execution_count": null,
      "outputs": [
        {
          "output_type": "stream",
          "text": [
            "Model: \"sequential_2\"\n",
            "_________________________________________________________________\n",
            "Layer (type)                 Output Shape              Param #   \n",
            "=================================================================\n",
            "conv2d_4 (Conv2D)            (None, 254, 254, 32)      896       \n",
            "_________________________________________________________________\n",
            "max_pooling2d_2 (MaxPooling2 (None, 63, 63, 32)        0         \n",
            "_________________________________________________________________\n",
            "conv2d_5 (Conv2D)            (None, 61, 61, 16)        4624      \n",
            "_________________________________________________________________\n",
            "flatten_2 (Flatten)          (None, 59536)             0         \n",
            "_________________________________________________________________\n",
            "dense_4 (Dense)              (None, 8)                 476296    \n",
            "_________________________________________________________________\n",
            "dense_5 (Dense)              (None, 2)                 18        \n",
            "=================================================================\n",
            "Total params: 481,834\n",
            "Trainable params: 481,834\n",
            "Non-trainable params: 0\n",
            "_________________________________________________________________\n",
            "Epoch 1/35\n",
            "130/130 [==============================] - 8s 62ms/step - loss: 0.7278 - accuracy: 0.5371 - val_loss: 0.6901 - val_accuracy: 0.5805\n",
            "Epoch 2/35\n",
            "130/130 [==============================] - 8s 60ms/step - loss: 0.6895 - accuracy: 0.5842 - val_loss: 0.6880 - val_accuracy: 0.5805\n",
            "Epoch 3/35\n",
            "130/130 [==============================] - 8s 60ms/step - loss: 0.6879 - accuracy: 0.5774 - val_loss: 0.6862 - val_accuracy: 0.5805\n",
            "Epoch 4/35\n",
            "130/130 [==============================] - 8s 60ms/step - loss: 0.6897 - accuracy: 0.5442 - val_loss: 0.6847 - val_accuracy: 0.5805\n",
            "Epoch 5/35\n",
            "130/130 [==============================] - 8s 60ms/step - loss: 0.6865 - accuracy: 0.5655 - val_loss: 0.6838 - val_accuracy: 0.5805\n",
            "Epoch 6/35\n",
            "130/130 [==============================] - 8s 59ms/step - loss: 0.6850 - accuracy: 0.5709 - val_loss: 0.6828 - val_accuracy: 0.5805\n",
            "Epoch 7/35\n",
            "130/130 [==============================] - 8s 60ms/step - loss: 0.6824 - accuracy: 0.5820 - val_loss: 0.6822 - val_accuracy: 0.5805\n",
            "Epoch 8/35\n",
            "130/130 [==============================] - 8s 60ms/step - loss: 0.6820 - accuracy: 0.5802 - val_loss: 0.6816 - val_accuracy: 0.5805\n",
            "Epoch 9/35\n",
            "130/130 [==============================] - 8s 59ms/step - loss: 0.6799 - accuracy: 0.5875 - val_loss: 0.6812 - val_accuracy: 0.5805\n",
            "Epoch 10/35\n",
            "130/130 [==============================] - 8s 61ms/step - loss: 0.6833 - accuracy: 0.5714 - val_loss: 0.6809 - val_accuracy: 0.5805\n",
            "Epoch 11/35\n",
            "130/130 [==============================] - 8s 61ms/step - loss: 0.6810 - accuracy: 0.5800 - val_loss: 0.6807 - val_accuracy: 0.5805\n",
            "Epoch 12/35\n",
            "130/130 [==============================] - 8s 60ms/step - loss: 0.6699 - accuracy: 0.6222 - val_loss: 0.6806 - val_accuracy: 0.5805\n",
            "Epoch 13/35\n",
            "130/130 [==============================] - 8s 60ms/step - loss: 0.6805 - accuracy: 0.5811 - val_loss: 0.6805 - val_accuracy: 0.5805\n",
            "Epoch 14/35\n",
            "130/130 [==============================] - 8s 60ms/step - loss: 0.6873 - accuracy: 0.5556 - val_loss: 0.6804 - val_accuracy: 0.5805\n",
            "Epoch 15/35\n",
            "130/130 [==============================] - 8s 60ms/step - loss: 0.6772 - accuracy: 0.5920 - val_loss: 0.6803 - val_accuracy: 0.5805\n",
            "Epoch 16/35\n",
            "130/130 [==============================] - 8s 61ms/step - loss: 0.6731 - accuracy: 0.6058 - val_loss: 0.6802 - val_accuracy: 0.5805\n",
            "Epoch 17/35\n",
            "130/130 [==============================] - 8s 59ms/step - loss: 0.6719 - accuracy: 0.6087 - val_loss: 0.6802 - val_accuracy: 0.5805\n",
            "Epoch 18/35\n",
            "130/130 [==============================] - 8s 59ms/step - loss: 0.6840 - accuracy: 0.5679 - val_loss: 0.6802 - val_accuracy: 0.5805\n",
            "Epoch 19/35\n",
            "130/130 [==============================] - 8s 60ms/step - loss: 0.6818 - accuracy: 0.5755 - val_loss: 0.6802 - val_accuracy: 0.5805\n",
            "Epoch 20/35\n",
            "130/130 [==============================] - 8s 61ms/step - loss: 0.6776 - accuracy: 0.5889 - val_loss: 0.6802 - val_accuracy: 0.5805\n",
            "Epoch 21/35\n",
            "130/130 [==============================] - 8s 61ms/step - loss: 0.6864 - accuracy: 0.5608 - val_loss: 0.6801 - val_accuracy: 0.5805\n",
            "Epoch 22/35\n",
            "130/130 [==============================] - 8s 60ms/step - loss: 0.6793 - accuracy: 0.5833 - val_loss: 0.6801 - val_accuracy: 0.5805\n",
            "Epoch 23/35\n",
            "130/130 [==============================] - 8s 60ms/step - loss: 0.6773 - accuracy: 0.5898 - val_loss: 0.6801 - val_accuracy: 0.5805\n",
            "Epoch 24/35\n",
            "130/130 [==============================] - 8s 60ms/step - loss: 0.6858 - accuracy: 0.5632 - val_loss: 0.6801 - val_accuracy: 0.5805\n",
            "Epoch 25/35\n",
            "130/130 [==============================] - 8s 60ms/step - loss: 0.6799 - accuracy: 0.5811 - val_loss: 0.6801 - val_accuracy: 0.5805\n",
            "Epoch 26/35\n",
            "130/130 [==============================] - 8s 60ms/step - loss: 0.6748 - accuracy: 0.5966 - val_loss: 0.6802 - val_accuracy: 0.5805\n",
            "Epoch 27/35\n",
            "130/130 [==============================] - 8s 60ms/step - loss: 0.6645 - accuracy: 0.6279 - val_loss: 0.6802 - val_accuracy: 0.5805\n",
            "Epoch 28/35\n",
            "130/130 [==============================] - 8s 61ms/step - loss: 0.7015 - accuracy: 0.5162 - val_loss: 0.6801 - val_accuracy: 0.5805\n",
            "Epoch 29/35\n",
            "130/130 [==============================] - 8s 61ms/step - loss: 0.6889 - accuracy: 0.5542 - val_loss: 0.6802 - val_accuracy: 0.5805\n",
            "Epoch 30/35\n",
            "130/130 [==============================] - 8s 61ms/step - loss: 0.6832 - accuracy: 0.5718 - val_loss: 0.6802 - val_accuracy: 0.5805\n",
            "Epoch 31/35\n",
            "130/130 [==============================] - 8s 61ms/step - loss: 0.6815 - accuracy: 0.5766 - val_loss: 0.6802 - val_accuracy: 0.5805\n",
            "Epoch 32/35\n",
            "130/130 [==============================] - 8s 61ms/step - loss: 0.6810 - accuracy: 0.5782 - val_loss: 0.6802 - val_accuracy: 0.5805\n",
            "Epoch 33/35\n",
            "130/130 [==============================] - 8s 61ms/step - loss: 0.6772 - accuracy: 0.5893 - val_loss: 0.6802 - val_accuracy: 0.5805\n",
            "Epoch 34/35\n",
            "130/130 [==============================] - 8s 60ms/step - loss: 0.6751 - accuracy: 0.5957 - val_loss: 0.6802 - val_accuracy: 0.5805\n"
          ],
          "name": "stdout"
        }
      ]
    },
    {
      "cell_type": "code",
      "metadata": {
        "colab": {
          "base_uri": "https://localhost:8080/"
        },
        "id": "Asei3sU2tOQg",
        "outputId": "5dabb8eb-6310-4762-f66c-8672778c84a9"
      },
      "source": [
        "model3 = Sequential()\n",
        "model3.add( Conv2D( 32, ( 3, 3 ), activation = 'relu', input_shape=(256, 256, 3) ) )\n",
        "model3.add( MaxPool2D(4, 4) )\n",
        "model3.add( Conv2D( 16, ( 3, 3 ), activation = 'relu' ) )\n",
        "model3.add( Flatten() )\n",
        "model3.add( Dense( 8, activation = 'sigmoid' ) )\n",
        "model3.add( Dense( 2, activation = 'sigmoid' ) )\n",
        "model3.summary()\n",
        "model3.compile( optimizer = 'adam', loss = 'binary_crossentropy', metrics = [ 'accuracy' ] )\n",
        "history3 = model3.fit(  train_generator3, validation_data=validation_generator, callbacks=[callback], epochs = 35, batch_size = 64 )"
      ],
      "execution_count": null,
      "outputs": [
        {
          "output_type": "stream",
          "text": [
            "Model: \"sequential_3\"\n",
            "_________________________________________________________________\n",
            "Layer (type)                 Output Shape              Param #   \n",
            "=================================================================\n",
            "conv2d_6 (Conv2D)            (None, 254, 254, 32)      896       \n",
            "_________________________________________________________________\n",
            "max_pooling2d_3 (MaxPooling2 (None, 63, 63, 32)        0         \n",
            "_________________________________________________________________\n",
            "conv2d_7 (Conv2D)            (None, 61, 61, 16)        4624      \n",
            "_________________________________________________________________\n",
            "flatten_3 (Flatten)          (None, 59536)             0         \n",
            "_________________________________________________________________\n",
            "dense_6 (Dense)              (None, 8)                 476296    \n",
            "_________________________________________________________________\n",
            "dense_7 (Dense)              (None, 2)                 18        \n",
            "=================================================================\n",
            "Total params: 481,834\n",
            "Trainable params: 481,834\n",
            "Non-trainable params: 0\n",
            "_________________________________________________________________\n",
            "Epoch 1/35\n",
            "130/130 [==============================] - 8s 60ms/step - loss: 0.7310 - accuracy: 0.5705 - val_loss: 0.6943 - val_accuracy: 0.5805\n",
            "Epoch 2/35\n",
            "130/130 [==============================] - 8s 60ms/step - loss: 0.6978 - accuracy: 0.5712 - val_loss: 0.6847 - val_accuracy: 0.5805\n",
            "Epoch 3/35\n",
            "130/130 [==============================] - 8s 60ms/step - loss: 0.6888 - accuracy: 0.5716 - val_loss: 0.6820 - val_accuracy: 0.5805\n",
            "Epoch 4/35\n",
            "130/130 [==============================] - 8s 60ms/step - loss: 0.6801 - accuracy: 0.5847 - val_loss: 0.6809 - val_accuracy: 0.5805\n",
            "Epoch 5/35\n",
            "130/130 [==============================] - 8s 60ms/step - loss: 0.6875 - accuracy: 0.5643 - val_loss: 0.6806 - val_accuracy: 0.5805\n",
            "Epoch 6/35\n",
            "130/130 [==============================] - 8s 60ms/step - loss: 0.6677 - accuracy: 0.6150 - val_loss: 0.6802 - val_accuracy: 0.5805\n",
            "Epoch 7/35\n",
            "130/130 [==============================] - 8s 62ms/step - loss: 0.6776 - accuracy: 0.5890 - val_loss: 0.6803 - val_accuracy: 0.5805\n",
            "Epoch 8/35\n",
            "130/130 [==============================] - 8s 61ms/step - loss: 0.6882 - accuracy: 0.5592 - val_loss: 0.6802 - val_accuracy: 0.5805\n",
            "Epoch 9/35\n",
            "130/130 [==============================] - 8s 60ms/step - loss: 0.6692 - accuracy: 0.6124 - val_loss: 0.6802 - val_accuracy: 0.5805\n",
            "Epoch 10/35\n",
            "130/130 [==============================] - 8s 60ms/step - loss: 0.6807 - accuracy: 0.5795 - val_loss: 0.6802 - val_accuracy: 0.5805\n",
            "Epoch 11/35\n",
            "130/130 [==============================] - 8s 60ms/step - loss: 0.6813 - accuracy: 0.5782 - val_loss: 0.6802 - val_accuracy: 0.5805\n",
            "Epoch 12/35\n",
            "130/130 [==============================] - 8s 60ms/step - loss: 0.6754 - accuracy: 0.5947 - val_loss: 0.6802 - val_accuracy: 0.5805\n",
            "Epoch 13/35\n",
            "130/130 [==============================] - 8s 59ms/step - loss: 0.6825 - accuracy: 0.5744 - val_loss: 0.6802 - val_accuracy: 0.5805\n",
            "Epoch 14/35\n",
            "130/130 [==============================] - 8s 60ms/step - loss: 0.6819 - accuracy: 0.5761 - val_loss: 0.6802 - val_accuracy: 0.5805\n",
            "Epoch 15/35\n",
            "130/130 [==============================] - 8s 59ms/step - loss: 0.6780 - accuracy: 0.5873 - val_loss: 0.6803 - val_accuracy: 0.5805\n",
            "Epoch 16/35\n",
            "130/130 [==============================] - 8s 61ms/step - loss: 0.6794 - accuracy: 0.5837 - val_loss: 0.6802 - val_accuracy: 0.5805\n",
            "Epoch 17/35\n",
            "130/130 [==============================] - 8s 61ms/step - loss: 0.6811 - accuracy: 0.5789 - val_loss: 0.6803 - val_accuracy: 0.5805\n",
            "Epoch 18/35\n",
            "130/130 [==============================] - 8s 59ms/step - loss: 0.6894 - accuracy: 0.5554 - val_loss: 0.6803 - val_accuracy: 0.5805\n",
            "Epoch 19/35\n",
            "130/130 [==============================] - 8s 60ms/step - loss: 0.6827 - accuracy: 0.5741 - val_loss: 0.6802 - val_accuracy: 0.5805\n",
            "Epoch 20/35\n",
            "130/130 [==============================] - 8s 60ms/step - loss: 0.6787 - accuracy: 0.5852 - val_loss: 0.6802 - val_accuracy: 0.5805\n",
            "Epoch 21/35\n",
            "130/130 [==============================] - 8s 60ms/step - loss: 0.6789 - accuracy: 0.5846 - val_loss: 0.6802 - val_accuracy: 0.5805\n",
            "Epoch 22/35\n",
            "130/130 [==============================] - 8s 60ms/step - loss: 0.6811 - accuracy: 0.5781 - val_loss: 0.6802 - val_accuracy: 0.5805\n",
            "Epoch 23/35\n",
            "130/130 [==============================] - 8s 59ms/step - loss: 0.6830 - accuracy: 0.5732 - val_loss: 0.6802 - val_accuracy: 0.5805\n",
            "Epoch 24/35\n",
            "130/130 [==============================] - 8s 60ms/step - loss: 0.6771 - accuracy: 0.5907 - val_loss: 0.6802 - val_accuracy: 0.5805\n",
            "Epoch 25/35\n",
            "130/130 [==============================] - 8s 60ms/step - loss: 0.6806 - accuracy: 0.5798 - val_loss: 0.6801 - val_accuracy: 0.5805\n",
            "Epoch 26/35\n",
            "130/130 [==============================] - 8s 60ms/step - loss: 0.6723 - accuracy: 0.6055 - val_loss: 0.6802 - val_accuracy: 0.5805\n",
            "Epoch 27/35\n",
            "130/130 [==============================] - 8s 60ms/step - loss: 0.6749 - accuracy: 0.5963 - val_loss: 0.6802 - val_accuracy: 0.5805\n",
            "Epoch 28/35\n",
            "130/130 [==============================] - 8s 61ms/step - loss: 0.6735 - accuracy: 0.6011 - val_loss: 0.6802 - val_accuracy: 0.5805\n",
            "Epoch 29/35\n",
            "130/130 [==============================] - 8s 60ms/step - loss: 0.6793 - accuracy: 0.5840 - val_loss: 0.6802 - val_accuracy: 0.5805\n",
            "Epoch 30/35\n",
            "130/130 [==============================] - 8s 60ms/step - loss: 0.6774 - accuracy: 0.5896 - val_loss: 0.6802 - val_accuracy: 0.5805\n",
            "Epoch 31/35\n",
            "130/130 [==============================] - 8s 61ms/step - loss: 0.6844 - accuracy: 0.5685 - val_loss: 0.6802 - val_accuracy: 0.5805\n",
            "Epoch 32/35\n",
            "130/130 [==============================] - 8s 65ms/step - loss: 0.6758 - accuracy: 0.5941 - val_loss: 0.6802 - val_accuracy: 0.5805\n",
            "Epoch 33/35\n",
            "130/130 [==============================] - 8s 60ms/step - loss: 0.6653 - accuracy: 0.6235 - val_loss: 0.6801 - val_accuracy: 0.5805\n",
            "Epoch 34/35\n",
            "130/130 [==============================] - 8s 61ms/step - loss: 0.6804 - accuracy: 0.5804 - val_loss: 0.6802 - val_accuracy: 0.5805\n",
            "Epoch 35/35\n",
            "130/130 [==============================] - 8s 60ms/step - loss: 0.6824 - accuracy: 0.5752 - val_loss: 0.6802 - val_accuracy: 0.5805\n"
          ],
          "name": "stdout"
        }
      ]
    },
    {
      "cell_type": "code",
      "metadata": {
        "colab": {
          "base_uri": "https://localhost:8080/"
        },
        "id": "k6JXjuFctXD5",
        "outputId": "b1528c1e-52dc-48cc-be67-04b398d047fe"
      },
      "source": [
        "model4 = Sequential()\n",
        "model4.add( Conv2D( 32, ( 3, 3 ), activation = 'relu', input_shape=(256, 256, 3) ) )\n",
        "model4.add( MaxPool2D(4, 4) )\n",
        "model4.add( Conv2D( 16, ( 3, 3 ), activation = 'relu' ) )\n",
        "model4.add( Flatten() )\n",
        "model4.add( Dense( 8, activation = 'sigmoid' ) )\n",
        "model4.add( Dense( 2, activation = 'sigmoid' ) )\n",
        "model4.summary()\n",
        "model4.compile( optimizer = 'adam', loss = 'binary_crossentropy', metrics = [ 'accuracy' ] )\n",
        "history4 = model4.fit(  train_generator4, validation_data=validation_generator, callbacks=[callback], epochs = 35, batch_size = 64 )"
      ],
      "execution_count": null,
      "outputs": [
        {
          "output_type": "stream",
          "text": [
            "Model: \"sequential_4\"\n",
            "_________________________________________________________________\n",
            "Layer (type)                 Output Shape              Param #   \n",
            "=================================================================\n",
            "conv2d_8 (Conv2D)            (None, 254, 254, 32)      896       \n",
            "_________________________________________________________________\n",
            "max_pooling2d_4 (MaxPooling2 (None, 63, 63, 32)        0         \n",
            "_________________________________________________________________\n",
            "conv2d_9 (Conv2D)            (None, 61, 61, 16)        4624      \n",
            "_________________________________________________________________\n",
            "flatten_4 (Flatten)          (None, 59536)             0         \n",
            "_________________________________________________________________\n",
            "dense_8 (Dense)              (None, 8)                 476296    \n",
            "_________________________________________________________________\n",
            "dense_9 (Dense)              (None, 2)                 18        \n",
            "=================================================================\n",
            "Total params: 481,834\n",
            "Trainable params: 481,834\n",
            "Non-trainable params: 0\n",
            "_________________________________________________________________\n",
            "Epoch 1/35\n",
            "130/130 [==============================] - 8s 60ms/step - loss: 0.6965 - accuracy: 0.5578 - val_loss: 0.6865 - val_accuracy: 0.5805\n",
            "Epoch 2/35\n",
            "130/130 [==============================] - 8s 58ms/step - loss: 0.6821 - accuracy: 0.6101 - val_loss: 0.6839 - val_accuracy: 0.5805\n",
            "Epoch 3/35\n",
            "130/130 [==============================] - 8s 59ms/step - loss: 0.6824 - accuracy: 0.5867 - val_loss: 0.6822 - val_accuracy: 0.5805\n",
            "Epoch 4/35\n",
            "130/130 [==============================] - 8s 58ms/step - loss: 0.6789 - accuracy: 0.5955 - val_loss: 0.6813 - val_accuracy: 0.5805\n",
            "Epoch 5/35\n",
            "130/130 [==============================] - 8s 59ms/step - loss: 0.6773 - accuracy: 0.5963 - val_loss: 0.6808 - val_accuracy: 0.5805\n",
            "Epoch 6/35\n",
            "130/130 [==============================] - 8s 58ms/step - loss: 0.6858 - accuracy: 0.5613 - val_loss: 0.6805 - val_accuracy: 0.5805\n",
            "Epoch 7/35\n",
            "130/130 [==============================] - 8s 58ms/step - loss: 0.6798 - accuracy: 0.5830 - val_loss: 0.6803 - val_accuracy: 0.5805\n",
            "Epoch 8/35\n",
            "130/130 [==============================] - 8s 59ms/step - loss: 0.6746 - accuracy: 0.5998 - val_loss: 0.6802 - val_accuracy: 0.5805\n",
            "Epoch 9/35\n",
            "130/130 [==============================] - 8s 58ms/step - loss: 0.6840 - accuracy: 0.5683 - val_loss: 0.6802 - val_accuracy: 0.5805\n",
            "Epoch 10/35\n",
            "130/130 [==============================] - 8s 59ms/step - loss: 0.6881 - accuracy: 0.5557 - val_loss: 0.6802 - val_accuracy: 0.5805\n",
            "Epoch 11/35\n",
            "130/130 [==============================] - 8s 59ms/step - loss: 0.6822 - accuracy: 0.5747 - val_loss: 0.6802 - val_accuracy: 0.5805\n",
            "Epoch 12/35\n",
            "130/130 [==============================] - 8s 59ms/step - loss: 0.6818 - accuracy: 0.5760 - val_loss: 0.6802 - val_accuracy: 0.5805\n",
            "Epoch 13/35\n",
            "130/130 [==============================] - 8s 59ms/step - loss: 0.6817 - accuracy: 0.5763 - val_loss: 0.6802 - val_accuracy: 0.5805\n",
            "Epoch 14/35\n",
            "130/130 [==============================] - 8s 59ms/step - loss: 0.6740 - accuracy: 0.5987 - val_loss: 0.6802 - val_accuracy: 0.5805\n",
            "Epoch 15/35\n",
            "130/130 [==============================] - 8s 59ms/step - loss: 0.6765 - accuracy: 0.5918 - val_loss: 0.6802 - val_accuracy: 0.5805\n",
            "Epoch 16/35\n",
            "130/130 [==============================] - 8s 59ms/step - loss: 0.6683 - accuracy: 0.6156 - val_loss: 0.6802 - val_accuracy: 0.5805\n",
            "Epoch 17/35\n",
            "130/130 [==============================] - 8s 58ms/step - loss: 0.6809 - accuracy: 0.5792 - val_loss: 0.6802 - val_accuracy: 0.5805\n",
            "Epoch 18/35\n",
            "130/130 [==============================] - 8s 58ms/step - loss: 0.6760 - accuracy: 0.5932 - val_loss: 0.6802 - val_accuracy: 0.5805\n",
            "Epoch 19/35\n",
            "130/130 [==============================] - 8s 59ms/step - loss: 0.6790 - accuracy: 0.5843 - val_loss: 0.6802 - val_accuracy: 0.5805\n",
            "Epoch 20/35\n",
            "130/130 [==============================] - 8s 58ms/step - loss: 0.6951 - accuracy: 0.5366 - val_loss: 0.6801 - val_accuracy: 0.5805\n",
            "Epoch 21/35\n",
            "130/130 [==============================] - 8s 60ms/step - loss: 0.6745 - accuracy: 0.5978 - val_loss: 0.6802 - val_accuracy: 0.5805\n",
            "Epoch 22/35\n",
            "130/130 [==============================] - 8s 59ms/step - loss: 0.6879 - accuracy: 0.5585 - val_loss: 0.6802 - val_accuracy: 0.5805\n",
            "Epoch 23/35\n",
            "130/130 [==============================] - 8s 59ms/step - loss: 0.6802 - accuracy: 0.5805 - val_loss: 0.6802 - val_accuracy: 0.5805\n",
            "Epoch 24/35\n",
            "130/130 [==============================] - 8s 59ms/step - loss: 0.6759 - accuracy: 0.5930 - val_loss: 0.6802 - val_accuracy: 0.5805\n",
            "Epoch 25/35\n",
            "130/130 [==============================] - 8s 59ms/step - loss: 0.6826 - accuracy: 0.5737 - val_loss: 0.6802 - val_accuracy: 0.5805\n",
            "Epoch 26/35\n",
            "130/130 [==============================] - 8s 59ms/step - loss: 0.6881 - accuracy: 0.5574 - val_loss: 0.6802 - val_accuracy: 0.5805\n",
            "Epoch 27/35\n",
            "130/130 [==============================] - 8s 60ms/step - loss: 0.6780 - accuracy: 0.5874 - val_loss: 0.6802 - val_accuracy: 0.5805\n",
            "Epoch 28/35\n",
            "130/130 [==============================] - 8s 58ms/step - loss: 0.6729 - accuracy: 0.6016 - val_loss: 0.6802 - val_accuracy: 0.5805\n",
            "Epoch 29/35\n",
            "130/130 [==============================] - 8s 59ms/step - loss: 0.6765 - accuracy: 0.5912 - val_loss: 0.6802 - val_accuracy: 0.5805\n",
            "Epoch 30/35\n",
            "130/130 [==============================] - 8s 59ms/step - loss: 0.6788 - accuracy: 0.5848 - val_loss: 0.6802 - val_accuracy: 0.5805\n"
          ],
          "name": "stdout"
        }
      ]
    },
    {
      "cell_type": "code",
      "metadata": {
        "colab": {
          "base_uri": "https://localhost:8080/"
        },
        "id": "HljwOzratXxx",
        "outputId": "7b2f48a9-36b8-491f-b032-951afebdedb9"
      },
      "source": [
        "model5 = Sequential()\n",
        "model5.add( Conv2D( 32, ( 3, 3 ), activation = 'relu', input_shape=(256, 256, 3) ) )\n",
        "model5.add( MaxPool2D(4, 4) )\n",
        "model5.add( Conv2D( 16, ( 3, 3 ), activation = 'relu' ) )\n",
        "model5.add( Flatten() )\n",
        "model5.add( Dense( 8, activation = 'sigmoid' ) )\n",
        "model5.add( Dense( 2, activation = 'sigmoid' ) )\n",
        "model5.summary()\n",
        "model5.compile( optimizer = 'adam', loss = 'binary_crossentropy', metrics = [ 'accuracy' ] )\n",
        "history5 = model5.fit(  train_generator5, validation_data=validation_generator, callbacks=[callback], epochs = 35, batch_size = 64 )"
      ],
      "execution_count": null,
      "outputs": [
        {
          "output_type": "stream",
          "text": [
            "Model: \"sequential_5\"\n",
            "_________________________________________________________________\n",
            "Layer (type)                 Output Shape              Param #   \n",
            "=================================================================\n",
            "conv2d_10 (Conv2D)           (None, 254, 254, 32)      896       \n",
            "_________________________________________________________________\n",
            "max_pooling2d_5 (MaxPooling2 (None, 63, 63, 32)        0         \n",
            "_________________________________________________________________\n",
            "conv2d_11 (Conv2D)           (None, 61, 61, 16)        4624      \n",
            "_________________________________________________________________\n",
            "flatten_5 (Flatten)          (None, 59536)             0         \n",
            "_________________________________________________________________\n",
            "dense_10 (Dense)             (None, 8)                 476296    \n",
            "_________________________________________________________________\n",
            "dense_11 (Dense)             (None, 2)                 18        \n",
            "=================================================================\n",
            "Total params: 481,834\n",
            "Trainable params: 481,834\n",
            "Non-trainable params: 0\n",
            "_________________________________________________________________\n",
            "Epoch 1/35\n",
            "130/130 [==============================] - 8s 61ms/step - loss: 0.6960 - accuracy: 0.5816 - val_loss: 0.6854 - val_accuracy: 0.5805\n",
            "Epoch 2/35\n",
            "130/130 [==============================] - 8s 59ms/step - loss: 0.6773 - accuracy: 0.6059 - val_loss: 0.6818 - val_accuracy: 0.5805\n",
            "Epoch 3/35\n",
            "130/130 [==============================] - 8s 59ms/step - loss: 0.6794 - accuracy: 0.5877 - val_loss: 0.6808 - val_accuracy: 0.5805\n",
            "Epoch 4/35\n",
            "130/130 [==============================] - 8s 59ms/step - loss: 0.6762 - accuracy: 0.5953 - val_loss: 0.6803 - val_accuracy: 0.5805\n",
            "Epoch 5/35\n",
            "130/130 [==============================] - 8s 59ms/step - loss: 0.6666 - accuracy: 0.6230 - val_loss: 0.6802 - val_accuracy: 0.5805\n",
            "Epoch 6/35\n",
            "130/130 [==============================] - 8s 60ms/step - loss: 0.6835 - accuracy: 0.5706 - val_loss: 0.6802 - val_accuracy: 0.5805\n",
            "Epoch 7/35\n",
            "130/130 [==============================] - 8s 59ms/step - loss: 0.6790 - accuracy: 0.5850 - val_loss: 0.6802 - val_accuracy: 0.5805\n",
            "Epoch 8/35\n",
            "130/130 [==============================] - 8s 59ms/step - loss: 0.6770 - accuracy: 0.5900 - val_loss: 0.6802 - val_accuracy: 0.5805\n",
            "Epoch 9/35\n",
            "130/130 [==============================] - 8s 60ms/step - loss: 0.6772 - accuracy: 0.5904 - val_loss: 0.6802 - val_accuracy: 0.5805\n",
            "Epoch 10/35\n",
            "130/130 [==============================] - 8s 59ms/step - loss: 0.6740 - accuracy: 0.5987 - val_loss: 0.6802 - val_accuracy: 0.5805\n",
            "Epoch 11/35\n",
            "130/130 [==============================] - 8s 59ms/step - loss: 0.6815 - accuracy: 0.5772 - val_loss: 0.6802 - val_accuracy: 0.5805\n",
            "Epoch 12/35\n",
            "130/130 [==============================] - 8s 59ms/step - loss: 0.6825 - accuracy: 0.5741 - val_loss: 0.6802 - val_accuracy: 0.5805\n",
            "Epoch 13/35\n",
            "130/130 [==============================] - 8s 59ms/step - loss: 0.6663 - accuracy: 0.6206 - val_loss: 0.6802 - val_accuracy: 0.5805\n",
            "Epoch 14/35\n",
            "130/130 [==============================] - 8s 60ms/step - loss: 0.6856 - accuracy: 0.5659 - val_loss: 0.6802 - val_accuracy: 0.5805\n",
            "Epoch 15/35\n",
            "130/130 [==============================] - 8s 60ms/step - loss: 0.6788 - accuracy: 0.5851 - val_loss: 0.6803 - val_accuracy: 0.5805\n",
            "Epoch 16/35\n",
            "130/130 [==============================] - 8s 60ms/step - loss: 0.6882 - accuracy: 0.5571 - val_loss: 0.6801 - val_accuracy: 0.5805\n",
            "Epoch 17/35\n",
            "130/130 [==============================] - 8s 60ms/step - loss: 0.6739 - accuracy: 0.5994 - val_loss: 0.6802 - val_accuracy: 0.5805\n",
            "Epoch 18/35\n",
            "130/130 [==============================] - 8s 60ms/step - loss: 0.6677 - accuracy: 0.6176 - val_loss: 0.6801 - val_accuracy: 0.5805\n",
            "Epoch 19/35\n",
            "130/130 [==============================] - 8s 59ms/step - loss: 0.6788 - accuracy: 0.5850 - val_loss: 0.6801 - val_accuracy: 0.5805\n",
            "Epoch 20/35\n",
            "130/130 [==============================] - 8s 60ms/step - loss: 0.6907 - accuracy: 0.5489 - val_loss: 0.6802 - val_accuracy: 0.5805\n",
            "Epoch 21/35\n",
            "130/130 [==============================] - 8s 59ms/step - loss: 0.6736 - accuracy: 0.6005 - val_loss: 0.6802 - val_accuracy: 0.5805\n",
            "Epoch 22/35\n",
            "130/130 [==============================] - 8s 59ms/step - loss: 0.6693 - accuracy: 0.6132 - val_loss: 0.6802 - val_accuracy: 0.5805\n",
            "Epoch 23/35\n",
            "130/130 [==============================] - 8s 59ms/step - loss: 0.6754 - accuracy: 0.5949 - val_loss: 0.6802 - val_accuracy: 0.5805\n",
            "Epoch 24/35\n",
            "130/130 [==============================] - 8s 59ms/step - loss: 0.6750 - accuracy: 0.5957 - val_loss: 0.6802 - val_accuracy: 0.5805\n",
            "Epoch 25/35\n",
            "130/130 [==============================] - 8s 60ms/step - loss: 0.6815 - accuracy: 0.5774 - val_loss: 0.6802 - val_accuracy: 0.5805\n",
            "Epoch 26/35\n",
            "130/130 [==============================] - 8s 58ms/step - loss: 0.6679 - accuracy: 0.6188 - val_loss: 0.6802 - val_accuracy: 0.5805\n"
          ],
          "name": "stdout"
        }
      ]
    },
    {
      "cell_type": "code",
      "metadata": {
        "colab": {
          "base_uri": "https://localhost:8080/"
        },
        "id": "MzmjG1VItYGM",
        "outputId": "05d5b409-4146-4335-b1a7-a3d92699c9d5"
      },
      "source": [
        "model6 = Sequential()\n",
        "model6.add( Conv2D( 32, ( 3, 3 ), activation = 'relu', input_shape=(256, 256, 3) ) )\n",
        "model6.add( MaxPool2D(4, 4) )\n",
        "model6.add( Conv2D( 16, ( 3, 3 ), activation = 'relu' ) )\n",
        "model6.add( Flatten() )\n",
        "model6.add( Dense( 8, activation = 'sigmoid' ) )\n",
        "model6.add( Dense( 2, activation = 'sigmoid' ) )\n",
        "model6.summary()\n",
        "model6.compile( optimizer = 'adam', loss = 'binary_crossentropy', metrics = [ 'accuracy' ] )\n",
        "history6 = model6.fit(  train_generator6, validation_data=validation_generator, callbacks=[callback], epochs = 35, batch_size = 64 )"
      ],
      "execution_count": null,
      "outputs": [
        {
          "output_type": "stream",
          "text": [
            "Model: \"sequential_6\"\n",
            "_________________________________________________________________\n",
            "Layer (type)                 Output Shape              Param #   \n",
            "=================================================================\n",
            "conv2d_12 (Conv2D)           (None, 254, 254, 32)      896       \n",
            "_________________________________________________________________\n",
            "max_pooling2d_6 (MaxPooling2 (None, 63, 63, 32)        0         \n",
            "_________________________________________________________________\n",
            "conv2d_13 (Conv2D)           (None, 61, 61, 16)        4624      \n",
            "_________________________________________________________________\n",
            "flatten_6 (Flatten)          (None, 59536)             0         \n",
            "_________________________________________________________________\n",
            "dense_12 (Dense)             (None, 8)                 476296    \n",
            "_________________________________________________________________\n",
            "dense_13 (Dense)             (None, 2)                 18        \n",
            "=================================================================\n",
            "Total params: 481,834\n",
            "Trainable params: 481,834\n",
            "Non-trainable params: 0\n",
            "_________________________________________________________________\n",
            "Epoch 1/35\n",
            "130/130 [==============================] - 2s 15ms/step - loss: 0.7392 - accuracy: 0.5140 - val_loss: 0.6996 - val_accuracy: 0.5690\n",
            "Epoch 2/35\n",
            "130/130 [==============================] - 2s 14ms/step - loss: 0.6583 - accuracy: 0.6594 - val_loss: 0.6886 - val_accuracy: 0.5805\n",
            "Epoch 3/35\n",
            "130/130 [==============================] - 2s 14ms/step - loss: 0.6722 - accuracy: 0.6118 - val_loss: 0.6844 - val_accuracy: 0.5805\n",
            "Epoch 4/35\n",
            "130/130 [==============================] - 2s 14ms/step - loss: 0.6690 - accuracy: 0.6133 - val_loss: 0.6821 - val_accuracy: 0.5805\n",
            "Epoch 5/35\n",
            "130/130 [==============================] - 2s 14ms/step - loss: 0.6656 - accuracy: 0.6202 - val_loss: 0.6812 - val_accuracy: 0.5805\n",
            "Epoch 6/35\n",
            "130/130 [==============================] - 2s 13ms/step - loss: 0.6631 - accuracy: 0.6271 - val_loss: 0.6806 - val_accuracy: 0.5805\n",
            "Epoch 7/35\n",
            "130/130 [==============================] - 2s 13ms/step - loss: 0.6899 - accuracy: 0.5549 - val_loss: 0.6804 - val_accuracy: 0.5805\n",
            "Epoch 8/35\n",
            "130/130 [==============================] - 2s 14ms/step - loss: 0.6786 - accuracy: 0.5857 - val_loss: 0.6803 - val_accuracy: 0.5805\n",
            "Epoch 9/35\n",
            "130/130 [==============================] - 2s 14ms/step - loss: 0.6922 - accuracy: 0.5487 - val_loss: 0.6803 - val_accuracy: 0.5805\n",
            "Epoch 10/35\n",
            "130/130 [==============================] - 2s 13ms/step - loss: 0.6855 - accuracy: 0.5662 - val_loss: 0.6803 - val_accuracy: 0.5805\n",
            "Epoch 11/35\n",
            "130/130 [==============================] - 2s 14ms/step - loss: 0.6722 - accuracy: 0.6037 - val_loss: 0.6802 - val_accuracy: 0.5805\n",
            "Epoch 12/35\n",
            "130/130 [==============================] - 2s 13ms/step - loss: 0.6774 - accuracy: 0.5890 - val_loss: 0.6802 - val_accuracy: 0.5805\n",
            "Epoch 13/35\n",
            "130/130 [==============================] - 2s 13ms/step - loss: 0.6660 - accuracy: 0.6218 - val_loss: 0.6802 - val_accuracy: 0.5805\n",
            "Epoch 14/35\n",
            "130/130 [==============================] - 2s 14ms/step - loss: 0.6695 - accuracy: 0.6121 - val_loss: 0.6802 - val_accuracy: 0.5805\n",
            "Epoch 15/35\n",
            "130/130 [==============================] - 2s 13ms/step - loss: 0.6924 - accuracy: 0.5441 - val_loss: 0.6802 - val_accuracy: 0.5805\n",
            "Epoch 16/35\n",
            "130/130 [==============================] - 2s 14ms/step - loss: 0.6868 - accuracy: 0.5615 - val_loss: 0.6802 - val_accuracy: 0.5805\n",
            "Epoch 17/35\n",
            "130/130 [==============================] - 2s 14ms/step - loss: 0.6804 - accuracy: 0.5805 - val_loss: 0.6802 - val_accuracy: 0.5805\n",
            "Epoch 18/35\n",
            "130/130 [==============================] - 2s 14ms/step - loss: 0.6667 - accuracy: 0.6197 - val_loss: 0.6802 - val_accuracy: 0.5805\n",
            "Epoch 19/35\n",
            "130/130 [==============================] - 2s 14ms/step - loss: 0.6694 - accuracy: 0.6127 - val_loss: 0.6802 - val_accuracy: 0.5805\n",
            "Epoch 20/35\n",
            "130/130 [==============================] - 2s 14ms/step - loss: 0.6916 - accuracy: 0.5466 - val_loss: 0.6802 - val_accuracy: 0.5805\n",
            "Epoch 21/35\n",
            "130/130 [==============================] - 2s 14ms/step - loss: 0.6849 - accuracy: 0.5671 - val_loss: 0.6802 - val_accuracy: 0.5805\n",
            "Epoch 22/35\n",
            "130/130 [==============================] - 2s 14ms/step - loss: 0.6761 - accuracy: 0.5926 - val_loss: 0.6802 - val_accuracy: 0.5805\n",
            "Epoch 23/35\n",
            "130/130 [==============================] - 2s 14ms/step - loss: 0.6806 - accuracy: 0.5798 - val_loss: 0.6802 - val_accuracy: 0.5805\n",
            "Epoch 24/35\n",
            "130/130 [==============================] - 2s 14ms/step - loss: 0.6807 - accuracy: 0.5797 - val_loss: 0.6801 - val_accuracy: 0.5805\n",
            "Epoch 25/35\n",
            "130/130 [==============================] - 2s 14ms/step - loss: 0.6850 - accuracy: 0.5659 - val_loss: 0.6802 - val_accuracy: 0.5805\n",
            "Epoch 26/35\n",
            "130/130 [==============================] - 2s 14ms/step - loss: 0.6795 - accuracy: 0.5828 - val_loss: 0.6802 - val_accuracy: 0.5805\n",
            "Epoch 27/35\n",
            "130/130 [==============================] - 2s 14ms/step - loss: 0.6800 - accuracy: 0.5816 - val_loss: 0.6802 - val_accuracy: 0.5805\n",
            "Epoch 28/35\n",
            "130/130 [==============================] - 2s 14ms/step - loss: 0.6727 - accuracy: 0.6028 - val_loss: 0.6802 - val_accuracy: 0.5805\n",
            "Epoch 29/35\n",
            "130/130 [==============================] - 2s 14ms/step - loss: 0.6917 - accuracy: 0.5469 - val_loss: 0.6802 - val_accuracy: 0.5805\n",
            "Epoch 30/35\n",
            "130/130 [==============================] - 2s 13ms/step - loss: 0.6769 - accuracy: 0.5906 - val_loss: 0.6802 - val_accuracy: 0.5805\n",
            "Epoch 31/35\n",
            "130/130 [==============================] - 2s 14ms/step - loss: 0.6864 - accuracy: 0.5633 - val_loss: 0.6802 - val_accuracy: 0.5805\n",
            "Epoch 32/35\n",
            "130/130 [==============================] - 2s 14ms/step - loss: 0.6790 - accuracy: 0.5845 - val_loss: 0.6802 - val_accuracy: 0.5805\n",
            "Epoch 33/35\n",
            "130/130 [==============================] - 2s 14ms/step - loss: 0.6792 - accuracy: 0.5839 - val_loss: 0.6802 - val_accuracy: 0.5805\n",
            "Epoch 34/35\n",
            "130/130 [==============================] - 2s 14ms/step - loss: 0.6720 - accuracy: 0.6051 - val_loss: 0.6802 - val_accuracy: 0.5805\n"
          ],
          "name": "stdout"
        }
      ]
    },
    {
      "cell_type": "code",
      "metadata": {
        "colab": {
          "base_uri": "https://localhost:8080/"
        },
        "id": "UjzPUGSTtYUd",
        "outputId": "7d9a1db7-f079-488b-8de5-22f6d4a8d7eb"
      },
      "source": [
        "model7 = Sequential()\n",
        "model7.add( Conv2D( 32, ( 3, 3 ), activation = 'relu', input_shape=(256, 256, 3) ) )\n",
        "model7.add( MaxPool2D(4, 4) )\n",
        "model7.add( Conv2D( 16, ( 3, 3 ), activation = 'relu' ) )\n",
        "model7.add( Flatten() )\n",
        "model7.add( Dense( 8, activation = 'sigmoid' ) )\n",
        "model7.add( Dense( 2, activation = 'sigmoid' ) )\n",
        "model7.summary()\n",
        "model7.compile( optimizer = 'adam', loss = 'binary_crossentropy', metrics = [ 'accuracy' ] )\n",
        "history7 = model7.fit(  train_generator4, validation_data=validation_generator, callbacks=[callback], epochs = 35, batch_size = 64 )"
      ],
      "execution_count": null,
      "outputs": [
        {
          "output_type": "stream",
          "text": [
            "Model: \"sequential_7\"\n",
            "_________________________________________________________________\n",
            "Layer (type)                 Output Shape              Param #   \n",
            "=================================================================\n",
            "conv2d_14 (Conv2D)           (None, 254, 254, 32)      896       \n",
            "_________________________________________________________________\n",
            "max_pooling2d_7 (MaxPooling2 (None, 63, 63, 32)        0         \n",
            "_________________________________________________________________\n",
            "conv2d_15 (Conv2D)           (None, 61, 61, 16)        4624      \n",
            "_________________________________________________________________\n",
            "flatten_7 (Flatten)          (None, 59536)             0         \n",
            "_________________________________________________________________\n",
            "dense_14 (Dense)             (None, 8)                 476296    \n",
            "_________________________________________________________________\n",
            "dense_15 (Dense)             (None, 2)                 18        \n",
            "=================================================================\n",
            "Total params: 481,834\n",
            "Trainable params: 481,834\n",
            "Non-trainable params: 0\n",
            "_________________________________________________________________\n",
            "Epoch 1/35\n",
            "130/130 [==============================] - 8s 60ms/step - loss: 0.7069 - accuracy: 0.5924 - val_loss: 0.7163 - val_accuracy: 0.5805\n",
            "Epoch 2/35\n",
            "130/130 [==============================] - 8s 59ms/step - loss: 0.7092 - accuracy: 0.5806 - val_loss: 0.6960 - val_accuracy: 0.5805\n",
            "Epoch 3/35\n",
            "130/130 [==============================] - 8s 58ms/step - loss: 0.7225 - accuracy: 0.5367 - val_loss: 0.6871 - val_accuracy: 0.5805\n",
            "Epoch 4/35\n",
            "130/130 [==============================] - 8s 59ms/step - loss: 0.6713 - accuracy: 0.6081 - val_loss: 0.6830 - val_accuracy: 0.5805\n",
            "Epoch 5/35\n",
            "130/130 [==============================] - 8s 59ms/step - loss: 0.6774 - accuracy: 0.5918 - val_loss: 0.6812 - val_accuracy: 0.5805\n",
            "Epoch 6/35\n",
            "130/130 [==============================] - 8s 59ms/step - loss: 0.6707 - accuracy: 0.6062 - val_loss: 0.6806 - val_accuracy: 0.5805\n",
            "Epoch 7/35\n",
            "130/130 [==============================] - 8s 58ms/step - loss: 0.6863 - accuracy: 0.5657 - val_loss: 0.6805 - val_accuracy: 0.5805\n",
            "Epoch 8/35\n",
            "130/130 [==============================] - 8s 58ms/step - loss: 0.6776 - accuracy: 0.5885 - val_loss: 0.6803 - val_accuracy: 0.5805\n",
            "Epoch 9/35\n",
            "130/130 [==============================] - 8s 58ms/step - loss: 0.6838 - accuracy: 0.5715 - val_loss: 0.6803 - val_accuracy: 0.5805\n",
            "Epoch 10/35\n",
            "130/130 [==============================] - 8s 59ms/step - loss: 0.6668 - accuracy: 0.6189 - val_loss: 0.6802 - val_accuracy: 0.5805\n",
            "Epoch 11/35\n",
            "130/130 [==============================] - 8s 59ms/step - loss: 0.6673 - accuracy: 0.6180 - val_loss: 0.6801 - val_accuracy: 0.5805\n",
            "Epoch 12/35\n",
            "130/130 [==============================] - 8s 59ms/step - loss: 0.6650 - accuracy: 0.6274 - val_loss: 0.6801 - val_accuracy: 0.5805\n",
            "Epoch 13/35\n",
            "130/130 [==============================] - 8s 58ms/step - loss: 0.6809 - accuracy: 0.5788 - val_loss: 0.6802 - val_accuracy: 0.5805\n",
            "Epoch 14/35\n",
            "130/130 [==============================] - 8s 59ms/step - loss: 0.6809 - accuracy: 0.5789 - val_loss: 0.6802 - val_accuracy: 0.5805\n",
            "Epoch 15/35\n",
            "130/130 [==============================] - 8s 58ms/step - loss: 0.6777 - accuracy: 0.5884 - val_loss: 0.6802 - val_accuracy: 0.5805\n",
            "Epoch 16/35\n",
            "130/130 [==============================] - 8s 58ms/step - loss: 0.6726 - accuracy: 0.6028 - val_loss: 0.6801 - val_accuracy: 0.5805\n",
            "Epoch 17/35\n",
            "130/130 [==============================] - 8s 58ms/step - loss: 0.6873 - accuracy: 0.5591 - val_loss: 0.6802 - val_accuracy: 0.5805\n",
            "Epoch 18/35\n",
            "130/130 [==============================] - 8s 59ms/step - loss: 0.6753 - accuracy: 0.5956 - val_loss: 0.6802 - val_accuracy: 0.5805\n",
            "Epoch 19/35\n",
            "130/130 [==============================] - 8s 59ms/step - loss: 0.6825 - accuracy: 0.5743 - val_loss: 0.6802 - val_accuracy: 0.5805\n",
            "Epoch 20/35\n",
            "130/130 [==============================] - 8s 58ms/step - loss: 0.6828 - accuracy: 0.5732 - val_loss: 0.6802 - val_accuracy: 0.5805\n",
            "Epoch 21/35\n",
            "130/130 [==============================] - 8s 58ms/step - loss: 0.6720 - accuracy: 0.6054 - val_loss: 0.6801 - val_accuracy: 0.5805\n"
          ],
          "name": "stdout"
        }
      ]
    },
    {
      "cell_type": "code",
      "metadata": {
        "colab": {
          "base_uri": "https://localhost:8080/"
        },
        "id": "yTmfyOWd0TZM",
        "outputId": "40597705-c46c-4455-b082-b642060e3a6f"
      },
      "source": [
        "model8 = Sequential()\n",
        "model8.add( Conv2D( 32, ( 3, 3 ), activation = 'relu', input_shape=(256, 256, 3) ) )\n",
        "model8.add( MaxPool2D(4, 4) )\n",
        "model8.add( Conv2D( 16, ( 3, 3 ), activation = 'relu' ) )\n",
        "model8.add( Flatten() )\n",
        "model8.add( Dense( 8, activation = 'sigmoid' ) )\n",
        "model8.add( Dense( 2, activation = 'sigmoid' ) )\n",
        "model8.summary()\n",
        "model8.compile( optimizer = 'adam', loss = 'binary_crossentropy', metrics = [ 'accuracy' ] )\n",
        "history8 = model8.fit(  train_generator8, validation_data=validation_generator, callbacks=[callback], epochs = 35, batch_size = 64 )"
      ],
      "execution_count": null,
      "outputs": [
        {
          "output_type": "stream",
          "text": [
            "Model: \"sequential_8\"\n",
            "_________________________________________________________________\n",
            "Layer (type)                 Output Shape              Param #   \n",
            "=================================================================\n",
            "conv2d_16 (Conv2D)           (None, 254, 254, 32)      896       \n",
            "_________________________________________________________________\n",
            "max_pooling2d_8 (MaxPooling2 (None, 63, 63, 32)        0         \n",
            "_________________________________________________________________\n",
            "conv2d_17 (Conv2D)           (None, 61, 61, 16)        4624      \n",
            "_________________________________________________________________\n",
            "flatten_8 (Flatten)          (None, 59536)             0         \n",
            "_________________________________________________________________\n",
            "dense_16 (Dense)             (None, 8)                 476296    \n",
            "_________________________________________________________________\n",
            "dense_17 (Dense)             (None, 2)                 18        \n",
            "=================================================================\n",
            "Total params: 481,834\n",
            "Trainable params: 481,834\n",
            "Non-trainable params: 0\n",
            "_________________________________________________________________\n",
            "Epoch 1/35\n",
            "130/130 [==============================] - 8s 60ms/step - loss: 0.7308 - accuracy: 0.6096 - val_loss: 0.7131 - val_accuracy: 0.5805\n",
            "Epoch 2/35\n",
            "130/130 [==============================] - 8s 60ms/step - loss: 0.7412 - accuracy: 0.5383 - val_loss: 0.6932 - val_accuracy: 0.5805\n",
            "Epoch 3/35\n",
            "130/130 [==============================] - 8s 59ms/step - loss: 0.7002 - accuracy: 0.5661 - val_loss: 0.6845 - val_accuracy: 0.5805\n",
            "Epoch 4/35\n",
            "130/130 [==============================] - 8s 60ms/step - loss: 0.6827 - accuracy: 0.5840 - val_loss: 0.6821 - val_accuracy: 0.5805\n",
            "Epoch 5/35\n",
            "130/130 [==============================] - 8s 59ms/step - loss: 0.6713 - accuracy: 0.6044 - val_loss: 0.6809 - val_accuracy: 0.5805\n",
            "Epoch 6/35\n",
            "130/130 [==============================] - 8s 60ms/step - loss: 0.6860 - accuracy: 0.5678 - val_loss: 0.6806 - val_accuracy: 0.5805\n",
            "Epoch 7/35\n",
            "130/130 [==============================] - 8s 59ms/step - loss: 0.6825 - accuracy: 0.5756 - val_loss: 0.6802 - val_accuracy: 0.5805\n",
            "Epoch 8/35\n",
            "130/130 [==============================] - 8s 59ms/step - loss: 0.6775 - accuracy: 0.5890 - val_loss: 0.6803 - val_accuracy: 0.5805\n",
            "Epoch 9/35\n",
            "130/130 [==============================] - 8s 59ms/step - loss: 0.6868 - accuracy: 0.5630 - val_loss: 0.6802 - val_accuracy: 0.5805\n",
            "Epoch 10/35\n",
            "130/130 [==============================] - 8s 60ms/step - loss: 0.6708 - accuracy: 0.6079 - val_loss: 0.6802 - val_accuracy: 0.5805\n",
            "Epoch 11/35\n",
            "130/130 [==============================] - 8s 59ms/step - loss: 0.6770 - accuracy: 0.5902 - val_loss: 0.6801 - val_accuracy: 0.5805\n",
            "Epoch 12/35\n",
            "130/130 [==============================] - 8s 59ms/step - loss: 0.6722 - accuracy: 0.6050 - val_loss: 0.6801 - val_accuracy: 0.5805\n",
            "Epoch 13/35\n",
            "130/130 [==============================] - 8s 59ms/step - loss: 0.6764 - accuracy: 0.5944 - val_loss: 0.6801 - val_accuracy: 0.5805\n",
            "Epoch 14/35\n",
            "130/130 [==============================] - 8s 60ms/step - loss: 0.6764 - accuracy: 0.5927 - val_loss: 0.6802 - val_accuracy: 0.5805\n",
            "Epoch 15/35\n",
            "130/130 [==============================] - 8s 60ms/step - loss: 0.6779 - accuracy: 0.5881 - val_loss: 0.6802 - val_accuracy: 0.5805\n",
            "Epoch 16/35\n",
            "130/130 [==============================] - 8s 60ms/step - loss: 0.6892 - accuracy: 0.5527 - val_loss: 0.6802 - val_accuracy: 0.5805\n",
            "Epoch 17/35\n",
            "130/130 [==============================] - 8s 60ms/step - loss: 0.6791 - accuracy: 0.5844 - val_loss: 0.6802 - val_accuracy: 0.5805\n",
            "Epoch 18/35\n",
            "130/130 [==============================] - 8s 60ms/step - loss: 0.6792 - accuracy: 0.5844 - val_loss: 0.6802 - val_accuracy: 0.5805\n",
            "Epoch 19/35\n",
            "130/130 [==============================] - 8s 60ms/step - loss: 0.6886 - accuracy: 0.5578 - val_loss: 0.6802 - val_accuracy: 0.5805\n",
            "Epoch 20/35\n",
            "130/130 [==============================] - 8s 59ms/step - loss: 0.6943 - accuracy: 0.5401 - val_loss: 0.6804 - val_accuracy: 0.5805\n",
            "Epoch 21/35\n",
            "130/130 [==============================] - 8s 60ms/step - loss: 0.6792 - accuracy: 0.5843 - val_loss: 0.6803 - val_accuracy: 0.5805\n"
          ],
          "name": "stdout"
        }
      ]
    },
    {
      "cell_type": "code",
      "metadata": {
        "colab": {
          "base_uri": "https://localhost:8080/"
        },
        "id": "DAlRM3OS0Twr",
        "outputId": "b3fddeb4-8a32-4f41-da3f-68e99763853b"
      },
      "source": [
        "model9 = Sequential()\n",
        "model9.add( Conv2D( 32, ( 3, 3 ), activation = 'relu', input_shape=(256, 256, 3) ) )\n",
        "model9.add( MaxPool2D(4, 4) )\n",
        "model9.add( Conv2D( 16, ( 3, 3 ), activation = 'relu' ) )\n",
        "model9.add( Flatten() )\n",
        "model9.add( Dense( 8, activation = 'sigmoid' ) )\n",
        "model9.add( Dense( 2, activation = 'sigmoid' ) )\n",
        "model9.summary()\n",
        "model9.compile( optimizer = 'adam', loss = 'binary_crossentropy', metrics = [ 'accuracy' ] )\n",
        "history9 = model9.fit(  train_generator9, validation_data=validation_generator, callbacks=[callback], epochs = 35, batch_size = 64 )"
      ],
      "execution_count": null,
      "outputs": [
        {
          "output_type": "stream",
          "text": [
            "Model: \"sequential_9\"\n",
            "_________________________________________________________________\n",
            "Layer (type)                 Output Shape              Param #   \n",
            "=================================================================\n",
            "conv2d_18 (Conv2D)           (None, 254, 254, 32)      896       \n",
            "_________________________________________________________________\n",
            "max_pooling2d_9 (MaxPooling2 (None, 63, 63, 32)        0         \n",
            "_________________________________________________________________\n",
            "conv2d_19 (Conv2D)           (None, 61, 61, 16)        4624      \n",
            "_________________________________________________________________\n",
            "flatten_9 (Flatten)          (None, 59536)             0         \n",
            "_________________________________________________________________\n",
            "dense_18 (Dense)             (None, 8)                 476296    \n",
            "_________________________________________________________________\n",
            "dense_19 (Dense)             (None, 2)                 18        \n",
            "=================================================================\n",
            "Total params: 481,834\n",
            "Trainable params: 481,834\n",
            "Non-trainable params: 0\n",
            "_________________________________________________________________\n",
            "Epoch 1/35\n",
            "130/130 [==============================] - 8s 61ms/step - loss: 0.7559 - accuracy: 0.5098 - val_loss: 0.7125 - val_accuracy: 0.5805\n",
            "Epoch 2/35\n",
            "130/130 [==============================] - 8s 60ms/step - loss: 0.6890 - accuracy: 0.6017 - val_loss: 0.6907 - val_accuracy: 0.5805\n",
            "Epoch 3/35\n",
            "130/130 [==============================] - 8s 60ms/step - loss: 0.6824 - accuracy: 0.5918 - val_loss: 0.6836 - val_accuracy: 0.5805\n",
            "Epoch 4/35\n",
            "130/130 [==============================] - 8s 60ms/step - loss: 0.6777 - accuracy: 0.5921 - val_loss: 0.6814 - val_accuracy: 0.5805\n",
            "Epoch 5/35\n",
            "130/130 [==============================] - 8s 60ms/step - loss: 0.6802 - accuracy: 0.5835 - val_loss: 0.6806 - val_accuracy: 0.5805\n",
            "Epoch 6/35\n",
            "130/130 [==============================] - 8s 60ms/step - loss: 0.6779 - accuracy: 0.5887 - val_loss: 0.6802 - val_accuracy: 0.5805\n",
            "Epoch 7/35\n",
            "130/130 [==============================] - 8s 60ms/step - loss: 0.6887 - accuracy: 0.5571 - val_loss: 0.6803 - val_accuracy: 0.5805\n",
            "Epoch 8/35\n",
            "130/130 [==============================] - 8s 60ms/step - loss: 0.6781 - accuracy: 0.5876 - val_loss: 0.6804 - val_accuracy: 0.5805\n",
            "Epoch 9/35\n",
            "130/130 [==============================] - 8s 60ms/step - loss: 0.6782 - accuracy: 0.5870 - val_loss: 0.6802 - val_accuracy: 0.5805\n",
            "Epoch 10/35\n",
            "130/130 [==============================] - 8s 59ms/step - loss: 0.6805 - accuracy: 0.5799 - val_loss: 0.6801 - val_accuracy: 0.5805\n",
            "Epoch 11/35\n",
            "130/130 [==============================] - 8s 62ms/step - loss: 0.6736 - accuracy: 0.6011 - val_loss: 0.6802 - val_accuracy: 0.5805\n",
            "Epoch 12/35\n",
            "130/130 [==============================] - 8s 64ms/step - loss: 0.6755 - accuracy: 0.5940 - val_loss: 0.6802 - val_accuracy: 0.5805\n",
            "Epoch 13/35\n",
            "130/130 [==============================] - 8s 60ms/step - loss: 0.6792 - accuracy: 0.5850 - val_loss: 0.6802 - val_accuracy: 0.5805\n",
            "Epoch 14/35\n",
            "130/130 [==============================] - 8s 61ms/step - loss: 0.6972 - accuracy: 0.5299 - val_loss: 0.6802 - val_accuracy: 0.5805\n",
            "Epoch 15/35\n",
            "130/130 [==============================] - 8s 60ms/step - loss: 0.6885 - accuracy: 0.5566 - val_loss: 0.6802 - val_accuracy: 0.5805\n",
            "Epoch 16/35\n",
            "130/130 [==============================] - 8s 60ms/step - loss: 0.6794 - accuracy: 0.5837 - val_loss: 0.6802 - val_accuracy: 0.5805\n",
            "Epoch 17/35\n",
            "130/130 [==============================] - 8s 60ms/step - loss: 0.6722 - accuracy: 0.6053 - val_loss: 0.6802 - val_accuracy: 0.5805\n",
            "Epoch 18/35\n",
            "130/130 [==============================] - 8s 60ms/step - loss: 0.6760 - accuracy: 0.5936 - val_loss: 0.6802 - val_accuracy: 0.5805\n",
            "Epoch 19/35\n",
            "130/130 [==============================] - 8s 60ms/step - loss: 0.6865 - accuracy: 0.5621 - val_loss: 0.6801 - val_accuracy: 0.5805\n",
            "Epoch 20/35\n",
            "130/130 [==============================] - 8s 60ms/step - loss: 0.6846 - accuracy: 0.5676 - val_loss: 0.6802 - val_accuracy: 0.5805\n"
          ],
          "name": "stdout"
        }
      ]
    },
    {
      "cell_type": "code",
      "metadata": {
        "colab": {
          "base_uri": "https://localhost:8080/"
        },
        "id": "238vA0Xy0Ul8",
        "outputId": "731b13fb-e9ae-4cec-b7c3-2e2ae1522370"
      },
      "source": [
        "model10 = Sequential()\n",
        "model10.add( Conv2D( 32, ( 3, 3 ), activation = 'relu', input_shape=(256, 256, 3) ) )\n",
        "model10.add( MaxPool2D(4, 4) )\n",
        "model10.add( Conv2D( 16, ( 3, 3 ), activation = 'relu' ) )\n",
        "model10.add( Flatten() )\n",
        "model10.add( Dense( 8, activation = 'sigmoid' ) )\n",
        "model10.add( Dense( 2, activation = 'sigmoid' ) )\n",
        "model10.summary()\n",
        "model10.compile( optimizer = 'adam', loss = 'binary_crossentropy', metrics = [ 'accuracy' ] )\n",
        "history10 = model10.fit(  train_generator10, validation_data=validation_generator, callbacks=[callback], epochs = 35, batch_size = 64 )"
      ],
      "execution_count": null,
      "outputs": [
        {
          "output_type": "stream",
          "text": [
            "Model: \"sequential_10\"\n",
            "_________________________________________________________________\n",
            "Layer (type)                 Output Shape              Param #   \n",
            "=================================================================\n",
            "conv2d_20 (Conv2D)           (None, 254, 254, 32)      896       \n",
            "_________________________________________________________________\n",
            "max_pooling2d_10 (MaxPooling (None, 63, 63, 32)        0         \n",
            "_________________________________________________________________\n",
            "conv2d_21 (Conv2D)           (None, 61, 61, 16)        4624      \n",
            "_________________________________________________________________\n",
            "flatten_10 (Flatten)         (None, 59536)             0         \n",
            "_________________________________________________________________\n",
            "dense_20 (Dense)             (None, 8)                 476296    \n",
            "_________________________________________________________________\n",
            "dense_21 (Dense)             (None, 2)                 18        \n",
            "=================================================================\n",
            "Total params: 481,834\n",
            "Trainable params: 481,834\n",
            "Non-trainable params: 0\n",
            "_________________________________________________________________\n",
            "Epoch 1/35\n",
            "130/130 [==============================] - 9s 70ms/step - loss: 0.7826 - accuracy: 0.5306 - val_loss: 0.7264 - val_accuracy: 0.5805\n",
            "Epoch 2/35\n",
            "130/130 [==============================] - 9s 69ms/step - loss: 0.7078 - accuracy: 0.5924 - val_loss: 0.6986 - val_accuracy: 0.5805\n",
            "Epoch 3/35\n",
            "130/130 [==============================] - 9s 70ms/step - loss: 0.6879 - accuracy: 0.5908 - val_loss: 0.6859 - val_accuracy: 0.5805\n",
            "Epoch 4/35\n",
            "130/130 [==============================] - 9s 69ms/step - loss: 0.6601 - accuracy: 0.6302 - val_loss: 0.6822 - val_accuracy: 0.5805\n",
            "Epoch 5/35\n",
            "130/130 [==============================] - 9s 69ms/step - loss: 0.6867 - accuracy: 0.5694 - val_loss: 0.6807 - val_accuracy: 0.5805\n",
            "Epoch 6/35\n",
            "130/130 [==============================] - 9s 69ms/step - loss: 0.6921 - accuracy: 0.5499 - val_loss: 0.6804 - val_accuracy: 0.5805\n",
            "Epoch 7/35\n",
            "130/130 [==============================] - 9s 69ms/step - loss: 0.6795 - accuracy: 0.5838 - val_loss: 0.6804 - val_accuracy: 0.5805\n",
            "Epoch 8/35\n",
            "130/130 [==============================] - 9s 70ms/step - loss: 0.6902 - accuracy: 0.5531 - val_loss: 0.6802 - val_accuracy: 0.5805\n",
            "Epoch 9/35\n",
            "130/130 [==============================] - 9s 70ms/step - loss: 0.6771 - accuracy: 0.5900 - val_loss: 0.6803 - val_accuracy: 0.5805\n",
            "Epoch 10/35\n",
            "130/130 [==============================] - 9s 70ms/step - loss: 0.6788 - accuracy: 0.5847 - val_loss: 0.6810 - val_accuracy: 0.5805\n",
            "Epoch 11/35\n",
            "130/130 [==============================] - 9s 69ms/step - loss: 0.6834 - accuracy: 0.5749 - val_loss: 0.6805 - val_accuracy: 0.5805\n",
            "Epoch 12/35\n",
            "130/130 [==============================] - 9s 69ms/step - loss: 0.6739 - accuracy: 0.5985 - val_loss: 0.6803 - val_accuracy: 0.5805\n",
            "Epoch 13/35\n",
            "130/130 [==============================] - 9s 70ms/step - loss: 0.6712 - accuracy: 0.6061 - val_loss: 0.6802 - val_accuracy: 0.5805\n",
            "Epoch 14/35\n",
            "130/130 [==============================] - 9s 70ms/step - loss: 0.6746 - accuracy: 0.5985 - val_loss: 0.6822 - val_accuracy: 0.5805\n",
            "Epoch 15/35\n",
            "130/130 [==============================] - 9s 69ms/step - loss: 0.6889 - accuracy: 0.5663 - val_loss: 0.6808 - val_accuracy: 0.5805\n",
            "Epoch 16/35\n",
            "130/130 [==============================] - 9s 69ms/step - loss: 0.6872 - accuracy: 0.5638 - val_loss: 0.6803 - val_accuracy: 0.5805\n",
            "Epoch 17/35\n",
            "130/130 [==============================] - 9s 69ms/step - loss: 0.6853 - accuracy: 0.5668 - val_loss: 0.6802 - val_accuracy: 0.5805\n",
            "Epoch 18/35\n",
            "130/130 [==============================] - 9s 69ms/step - loss: 0.6707 - accuracy: 0.6088 - val_loss: 0.6801 - val_accuracy: 0.5805\n",
            "Epoch 19/35\n",
            "130/130 [==============================] - 9s 69ms/step - loss: 0.6751 - accuracy: 0.5964 - val_loss: 0.6801 - val_accuracy: 0.5805\n",
            "Epoch 20/35\n",
            "130/130 [==============================] - 9s 69ms/step - loss: 0.6841 - accuracy: 0.5697 - val_loss: 0.6803 - val_accuracy: 0.5805\n",
            "Epoch 21/35\n",
            "130/130 [==============================] - 9s 70ms/step - loss: 0.6777 - accuracy: 0.5888 - val_loss: 0.6802 - val_accuracy: 0.5805\n",
            "Epoch 22/35\n",
            "130/130 [==============================] - 9s 70ms/step - loss: 0.6822 - accuracy: 0.5756 - val_loss: 0.6803 - val_accuracy: 0.5805\n",
            "Epoch 23/35\n",
            "130/130 [==============================] - 9s 69ms/step - loss: 0.6898 - accuracy: 0.5535 - val_loss: 0.6804 - val_accuracy: 0.5805\n",
            "Epoch 24/35\n",
            "130/130 [==============================] - 9s 70ms/step - loss: 0.6777 - accuracy: 0.5887 - val_loss: 0.6802 - val_accuracy: 0.5805\n",
            "Epoch 25/35\n",
            "130/130 [==============================] - 9s 69ms/step - loss: 0.6795 - accuracy: 0.5834 - val_loss: 0.6802 - val_accuracy: 0.5805\n",
            "Epoch 26/35\n",
            "130/130 [==============================] - 9s 69ms/step - loss: 0.6794 - accuracy: 0.5837 - val_loss: 0.6802 - val_accuracy: 0.5805\n",
            "Epoch 27/35\n",
            "130/130 [==============================] - 9s 69ms/step - loss: 0.6830 - accuracy: 0.5742 - val_loss: 0.6802 - val_accuracy: 0.5805\n",
            "Epoch 28/35\n",
            "130/130 [==============================] - 9s 69ms/step - loss: 0.6806 - accuracy: 0.5796 - val_loss: 0.6802 - val_accuracy: 0.5805\n",
            "Epoch 29/35\n",
            "130/130 [==============================] - 9s 69ms/step - loss: 0.6744 - accuracy: 0.5976 - val_loss: 0.6802 - val_accuracy: 0.5805\n"
          ],
          "name": "stdout"
        }
      ]
    },
    {
      "cell_type": "code",
      "metadata": {
        "colab": {
          "base_uri": "https://localhost:8080/"
        },
        "id": "2j6MRtCst_do",
        "outputId": "34d94649-12d6-48d3-ec3d-52aaad085974"
      },
      "source": [
        "model11 = Sequential()\n",
        "model11.add( Conv2D( 32, ( 3, 3 ), activation = 'relu', input_shape=(256, 256, 3) ) )\n",
        "model11.add( MaxPool2D(4, 4) )\n",
        "model11.add( Conv2D( 16, ( 3, 3 ), activation = 'relu' ) )\n",
        "model11.add( Flatten() )\n",
        "model11.add( Dense( 8, activation = 'sigmoid' ) )\n",
        "model11.add( Dense( 2, activation = 'sigmoid' ) )\n",
        "model11.summary()\n",
        "model11.compile( optimizer = 'adam', loss = 'binary_crossentropy', metrics = [ 'accuracy' ] )\n",
        "history11 = model11.fit(  train_generator11, validation_data=validation_generator, callbacks=[callback], epochs = 35, batch_size = 64 )"
      ],
      "execution_count": null,
      "outputs": [
        {
          "output_type": "stream",
          "text": [
            "Model: \"sequential_1\"\n",
            "_________________________________________________________________\n",
            "Layer (type)                 Output Shape              Param #   \n",
            "=================================================================\n",
            "conv2d_2 (Conv2D)            (None, 254, 254, 32)      896       \n",
            "_________________________________________________________________\n",
            "max_pooling2d_1 (MaxPooling2 (None, 63, 63, 32)        0         \n",
            "_________________________________________________________________\n",
            "conv2d_3 (Conv2D)            (None, 61, 61, 16)        4624      \n",
            "_________________________________________________________________\n",
            "flatten_1 (Flatten)          (None, 59536)             0         \n",
            "_________________________________________________________________\n",
            "dense_2 (Dense)              (None, 8)                 476296    \n",
            "_________________________________________________________________\n",
            "dense_3 (Dense)              (None, 2)                 18        \n",
            "=================================================================\n",
            "Total params: 481,834\n",
            "Trainable params: 481,834\n",
            "Non-trainable params: 0\n",
            "_________________________________________________________________\n",
            "Epoch 1/35\n",
            "130/130 [==============================] - 41s 65ms/step - loss: 0.6634 - accuracy: 0.5891 - val_loss: 0.8280 - val_accuracy: 0.5805\n",
            "Epoch 2/35\n",
            "130/130 [==============================] - 8s 64ms/step - loss: 0.7961 - accuracy: 0.5797 - val_loss: 0.7250 - val_accuracy: 0.5805\n",
            "Epoch 3/35\n",
            "130/130 [==============================] - 8s 63ms/step - loss: 0.7281 - accuracy: 0.5647 - val_loss: 0.6926 - val_accuracy: 0.5805\n",
            "Epoch 4/35\n",
            "130/130 [==============================] - 8s 63ms/step - loss: 0.6905 - accuracy: 0.5803 - val_loss: 0.6837 - val_accuracy: 0.5805\n",
            "Epoch 5/35\n",
            "130/130 [==============================] - 8s 63ms/step - loss: 0.6923 - accuracy: 0.5609 - val_loss: 0.6809 - val_accuracy: 0.5805\n",
            "Epoch 6/35\n",
            "130/130 [==============================] - 8s 63ms/step - loss: 0.6763 - accuracy: 0.5925 - val_loss: 0.6804 - val_accuracy: 0.5805\n",
            "Epoch 7/35\n",
            "130/130 [==============================] - 8s 63ms/step - loss: 0.6888 - accuracy: 0.5586 - val_loss: 0.6803 - val_accuracy: 0.5805\n",
            "Epoch 8/35\n",
            "130/130 [==============================] - 8s 62ms/step - loss: 0.6960 - accuracy: 0.5362 - val_loss: 0.6803 - val_accuracy: 0.5805\n",
            "Epoch 9/35\n",
            "130/130 [==============================] - 8s 63ms/step - loss: 0.6768 - accuracy: 0.5907 - val_loss: 0.6803 - val_accuracy: 0.5805\n",
            "Epoch 10/35\n",
            "130/130 [==============================] - 8s 63ms/step - loss: 0.6823 - accuracy: 0.5758 - val_loss: 0.6802 - val_accuracy: 0.5805\n",
            "Epoch 11/35\n",
            "130/130 [==============================] - 8s 64ms/step - loss: 0.6804 - accuracy: 0.5806 - val_loss: 0.6802 - val_accuracy: 0.5805\n",
            "Epoch 12/35\n",
            "130/130 [==============================] - 8s 64ms/step - loss: 0.6861 - accuracy: 0.5635 - val_loss: 0.6803 - val_accuracy: 0.5805\n",
            "Epoch 13/35\n",
            "130/130 [==============================] - 8s 62ms/step - loss: 0.6730 - accuracy: 0.6016 - val_loss: 0.6803 - val_accuracy: 0.5805\n",
            "Epoch 14/35\n",
            "130/130 [==============================] - 8s 64ms/step - loss: 0.6728 - accuracy: 0.6022 - val_loss: 0.6803 - val_accuracy: 0.5805\n",
            "Epoch 15/35\n",
            "130/130 [==============================] - 8s 64ms/step - loss: 0.6731 - accuracy: 0.6014 - val_loss: 0.6802 - val_accuracy: 0.5805\n",
            "Epoch 16/35\n",
            "130/130 [==============================] - 8s 63ms/step - loss: 0.6778 - accuracy: 0.5885 - val_loss: 0.6802 - val_accuracy: 0.5805\n",
            "Epoch 17/35\n",
            "130/130 [==============================] - 8s 64ms/step - loss: 0.6867 - accuracy: 0.5614 - val_loss: 0.6802 - val_accuracy: 0.5805\n",
            "Epoch 18/35\n",
            "130/130 [==============================] - 8s 64ms/step - loss: 0.6684 - accuracy: 0.6154 - val_loss: 0.6801 - val_accuracy: 0.5805\n",
            "Epoch 19/35\n",
            "130/130 [==============================] - 8s 63ms/step - loss: 0.6776 - accuracy: 0.5895 - val_loss: 0.6801 - val_accuracy: 0.5805\n",
            "Epoch 20/35\n",
            "130/130 [==============================] - 8s 63ms/step - loss: 0.6838 - accuracy: 0.5701 - val_loss: 0.6802 - val_accuracy: 0.5805\n",
            "Epoch 21/35\n",
            "130/130 [==============================] - 8s 63ms/step - loss: 0.6730 - accuracy: 0.6031 - val_loss: 0.6802 - val_accuracy: 0.5805\n",
            "Epoch 22/35\n",
            "130/130 [==============================] - 8s 63ms/step - loss: 0.6787 - accuracy: 0.5868 - val_loss: 0.6802 - val_accuracy: 0.5805\n",
            "Epoch 23/35\n",
            "130/130 [==============================] - 8s 63ms/step - loss: 0.6806 - accuracy: 0.5798 - val_loss: 0.6802 - val_accuracy: 0.5805\n",
            "Epoch 24/35\n",
            "130/130 [==============================] - 8s 63ms/step - loss: 0.6683 - accuracy: 0.6156 - val_loss: 0.6802 - val_accuracy: 0.5805\n",
            "Epoch 25/35\n",
            "130/130 [==============================] - 8s 63ms/step - loss: 0.6873 - accuracy: 0.5608 - val_loss: 0.6801 - val_accuracy: 0.5805\n",
            "Epoch 26/35\n",
            "130/130 [==============================] - 8s 63ms/step - loss: 0.6788 - accuracy: 0.5852 - val_loss: 0.6802 - val_accuracy: 0.5805\n",
            "Epoch 27/35\n",
            "130/130 [==============================] - 8s 63ms/step - loss: 0.6852 - accuracy: 0.5661 - val_loss: 0.6802 - val_accuracy: 0.5805\n",
            "Epoch 28/35\n",
            "130/130 [==============================] - 8s 63ms/step - loss: 0.6758 - accuracy: 0.5958 - val_loss: 0.6802 - val_accuracy: 0.5805\n",
            "Epoch 29/35\n",
            "130/130 [==============================] - 8s 63ms/step - loss: 0.7004 - accuracy: 0.5222 - val_loss: 0.6803 - val_accuracy: 0.5805\n",
            "Epoch 30/35\n",
            "130/130 [==============================] - 8s 64ms/step - loss: 0.6890 - accuracy: 0.5579 - val_loss: 0.6804 - val_accuracy: 0.5805\n",
            "Epoch 31/35\n",
            "130/130 [==============================] - 8s 64ms/step - loss: 0.6831 - accuracy: 0.5738 - val_loss: 0.6802 - val_accuracy: 0.5805\n",
            "Epoch 32/35\n",
            "130/130 [==============================] - 8s 63ms/step - loss: 0.6828 - accuracy: 0.5737 - val_loss: 0.6802 - val_accuracy: 0.5805\n",
            "Epoch 33/35\n",
            "130/130 [==============================] - 8s 63ms/step - loss: 0.6671 - accuracy: 0.6196 - val_loss: 0.6802 - val_accuracy: 0.5805\n",
            "Epoch 34/35\n",
            "130/130 [==============================] - 8s 64ms/step - loss: 0.6751 - accuracy: 0.5962 - val_loss: 0.6801 - val_accuracy: 0.5805\n",
            "Epoch 35/35\n",
            "130/130 [==============================] - 8s 63ms/step - loss: 0.6890 - accuracy: 0.5536 - val_loss: 0.6802 - val_accuracy: 0.5805\n"
          ],
          "name": "stdout"
        }
      ]
    },
    {
      "cell_type": "code",
      "metadata": {
        "colab": {
          "base_uri": "https://localhost:8080/"
        },
        "id": "Zdupw61Ft_qn",
        "outputId": "a7463ed2-4801-42a2-8bd5-271857da6eb1"
      },
      "source": [
        "model12 = Sequential()\n",
        "model12.add( Conv2D( 32, ( 3, 3 ), activation = 'relu', input_shape=(256, 256, 3) ) )\n",
        "model12.add( MaxPool2D(4, 4) )\n",
        "model12.add( Conv2D( 16, ( 3, 3 ), activation = 'relu' ) )\n",
        "model12.add( Flatten() )\n",
        "model12.add( Dense( 8, activation = 'sigmoid' ) )\n",
        "model12.add( Dense( 2, activation = 'sigmoid' ) )\n",
        "model12.summary()\n",
        "model12.compile( optimizer = 'adam', loss = 'binary_crossentropy', metrics = [ 'accuracy' ] )\n",
        "history12 = model12.fit(  train_generator12, validation_data=validation_generator, callbacks=[callback], epochs = 35, batch_size = 64 )"
      ],
      "execution_count": null,
      "outputs": [
        {
          "output_type": "stream",
          "text": [
            "Model: \"sequential_2\"\n",
            "_________________________________________________________________\n",
            "Layer (type)                 Output Shape              Param #   \n",
            "=================================================================\n",
            "conv2d_4 (Conv2D)            (None, 254, 254, 32)      896       \n",
            "_________________________________________________________________\n",
            "max_pooling2d_2 (MaxPooling2 (None, 63, 63, 32)        0         \n",
            "_________________________________________________________________\n",
            "conv2d_5 (Conv2D)            (None, 61, 61, 16)        4624      \n",
            "_________________________________________________________________\n",
            "flatten_2 (Flatten)          (None, 59536)             0         \n",
            "_________________________________________________________________\n",
            "dense_4 (Dense)              (None, 8)                 476296    \n",
            "_________________________________________________________________\n",
            "dense_5 (Dense)              (None, 2)                 18        \n",
            "=================================================================\n",
            "Total params: 481,834\n",
            "Trainable params: 481,834\n",
            "Non-trainable params: 0\n",
            "_________________________________________________________________\n",
            "Epoch 1/35\n",
            "130/130 [==============================] - 10s 75ms/step - loss: 1.5720 - accuracy: 0.4315 - val_loss: 1.2484 - val_accuracy: 0.4195\n",
            "Epoch 2/35\n",
            "130/130 [==============================] - 10s 74ms/step - loss: 1.1848 - accuracy: 0.4031 - val_loss: 0.9331 - val_accuracy: 0.4195\n",
            "Epoch 3/35\n",
            "130/130 [==============================] - 10s 74ms/step - loss: 0.8548 - accuracy: 0.4519 - val_loss: 0.7682 - val_accuracy: 0.4195\n",
            "Epoch 4/35\n",
            "130/130 [==============================] - 10s 74ms/step - loss: 0.7407 - accuracy: 0.4384 - val_loss: 0.7045 - val_accuracy: 0.4195\n",
            "Epoch 5/35\n",
            "130/130 [==============================] - 10s 74ms/step - loss: 0.6970 - accuracy: 0.4985 - val_loss: 0.6854 - val_accuracy: 0.5805\n",
            "Epoch 6/35\n",
            "130/130 [==============================] - 10s 73ms/step - loss: 0.6852 - accuracy: 0.5760 - val_loss: 0.6811 - val_accuracy: 0.5805\n",
            "Epoch 7/35\n",
            "130/130 [==============================] - 9s 73ms/step - loss: 0.6752 - accuracy: 0.6017 - val_loss: 0.6803 - val_accuracy: 0.5805\n",
            "Epoch 8/35\n",
            "130/130 [==============================] - 9s 73ms/step - loss: 0.6822 - accuracy: 0.5756 - val_loss: 0.6802 - val_accuracy: 0.5805\n",
            "Epoch 9/35\n",
            "130/130 [==============================] - 9s 73ms/step - loss: 0.6822 - accuracy: 0.5760 - val_loss: 0.6803 - val_accuracy: 0.5805\n",
            "Epoch 10/35\n",
            "130/130 [==============================] - 9s 73ms/step - loss: 0.6923 - accuracy: 0.5458 - val_loss: 0.6804 - val_accuracy: 0.5805\n",
            "Epoch 11/35\n",
            "130/130 [==============================] - 9s 73ms/step - loss: 0.6661 - accuracy: 0.6192 - val_loss: 0.6802 - val_accuracy: 0.5805\n",
            "Epoch 12/35\n",
            "130/130 [==============================] - 10s 73ms/step - loss: 0.7009 - accuracy: 0.5190 - val_loss: 0.6803 - val_accuracy: 0.5805\n",
            "Epoch 13/35\n",
            "130/130 [==============================] - 10s 73ms/step - loss: 0.6818 - accuracy: 0.5780 - val_loss: 0.6801 - val_accuracy: 0.5805\n",
            "Epoch 14/35\n",
            "130/130 [==============================] - 10s 74ms/step - loss: 0.6959 - accuracy: 0.5332 - val_loss: 0.6804 - val_accuracy: 0.5805\n",
            "Epoch 15/35\n",
            "130/130 [==============================] - 9s 72ms/step - loss: 0.6838 - accuracy: 0.5728 - val_loss: 0.6803 - val_accuracy: 0.5805\n",
            "Epoch 16/35\n",
            "130/130 [==============================] - 9s 73ms/step - loss: 0.6830 - accuracy: 0.5741 - val_loss: 0.6802 - val_accuracy: 0.5805\n",
            "Epoch 17/35\n",
            "130/130 [==============================] - 9s 72ms/step - loss: 0.6890 - accuracy: 0.5552 - val_loss: 0.6803 - val_accuracy: 0.5805\n",
            "Epoch 18/35\n",
            "130/130 [==============================] - 9s 73ms/step - loss: 0.6774 - accuracy: 0.5896 - val_loss: 0.6803 - val_accuracy: 0.5805\n",
            "Epoch 19/35\n",
            "130/130 [==============================] - 9s 73ms/step - loss: 0.6749 - accuracy: 0.5969 - val_loss: 0.6802 - val_accuracy: 0.5805\n",
            "Epoch 20/35\n",
            "130/130 [==============================] - 9s 73ms/step - loss: 0.6740 - accuracy: 0.6005 - val_loss: 0.6801 - val_accuracy: 0.5805\n",
            "Epoch 21/35\n",
            "130/130 [==============================] - 9s 72ms/step - loss: 0.6866 - accuracy: 0.5617 - val_loss: 0.6802 - val_accuracy: 0.5805\n",
            "Epoch 22/35\n",
            "130/130 [==============================] - 10s 74ms/step - loss: 0.6789 - accuracy: 0.5861 - val_loss: 0.6801 - val_accuracy: 0.5805\n",
            "Epoch 23/35\n",
            "130/130 [==============================] - 10s 75ms/step - loss: 0.6760 - accuracy: 0.5941 - val_loss: 0.6801 - val_accuracy: 0.5805\n",
            "Epoch 24/35\n",
            "130/130 [==============================] - 10s 74ms/step - loss: 0.6850 - accuracy: 0.5669 - val_loss: 0.6803 - val_accuracy: 0.5805\n",
            "Epoch 25/35\n",
            "130/130 [==============================] - 10s 74ms/step - loss: 0.6728 - accuracy: 0.6028 - val_loss: 0.6802 - val_accuracy: 0.5805\n",
            "Epoch 26/35\n",
            "130/130 [==============================] - 10s 74ms/step - loss: 0.6739 - accuracy: 0.6009 - val_loss: 0.6802 - val_accuracy: 0.5805\n",
            "Epoch 27/35\n",
            "130/130 [==============================] - 10s 75ms/step - loss: 0.6764 - accuracy: 0.5943 - val_loss: 0.6802 - val_accuracy: 0.5805\n",
            "Epoch 28/35\n",
            "130/130 [==============================] - 10s 74ms/step - loss: 0.6574 - accuracy: 0.6479 - val_loss: 0.6801 - val_accuracy: 0.5805\n",
            "Epoch 29/35\n",
            "130/130 [==============================] - 10s 73ms/step - loss: 0.6783 - accuracy: 0.5884 - val_loss: 0.6802 - val_accuracy: 0.5805\n",
            "Epoch 30/35\n",
            "130/130 [==============================] - 10s 74ms/step - loss: 0.6697 - accuracy: 0.6148 - val_loss: 0.6802 - val_accuracy: 0.5805\n",
            "Epoch 31/35\n",
            "130/130 [==============================] - 10s 74ms/step - loss: 0.6737 - accuracy: 0.6029 - val_loss: 0.6803 - val_accuracy: 0.5805\n",
            "Epoch 32/35\n",
            "130/130 [==============================] - 10s 74ms/step - loss: 0.6798 - accuracy: 0.5836 - val_loss: 0.6802 - val_accuracy: 0.5805\n",
            "Epoch 33/35\n",
            "130/130 [==============================] - 10s 73ms/step - loss: 0.6796 - accuracy: 0.5845 - val_loss: 0.6802 - val_accuracy: 0.5805\n",
            "Epoch 34/35\n",
            "130/130 [==============================] - 10s 73ms/step - loss: 0.6682 - accuracy: 0.6173 - val_loss: 0.6803 - val_accuracy: 0.5805\n",
            "Epoch 35/35\n",
            "130/130 [==============================] - 9s 72ms/step - loss: 0.6738 - accuracy: 0.6027 - val_loss: 0.6801 - val_accuracy: 0.5805\n"
          ],
          "name": "stdout"
        }
      ]
    },
    {
      "cell_type": "markdown",
      "metadata": {
        "id": "3s9Za8za6juB"
      },
      "source": [
        "#Evaluate on the test set"
      ]
    },
    {
      "cell_type": "code",
      "metadata": {
        "colab": {
          "base_uri": "https://localhost:8080/"
        },
        "id": "ZVTygi7pAP_W",
        "outputId": "c62e7d2f-25d1-4c58-ac45-011a7cc531d9"
      },
      "source": [
        "testing_loss, testing_acc =originalModel.evaluate(test_generator, max_queue_size=10, steps=9, workers=1, use_multiprocessing=False, verbose=0)\n",
        "print(\"___________________________________\")\n",
        "print(\"Previous Phase Augmentation\")\n",
        "print( 'testing_acc:', testing_acc )\n",
        "print( 'testing_loss:', testing_loss )\n",
        "print(\"===================================\")\n",
        "testing_loss, testing_acc =model1.evaluate(test_generator, max_queue_size=10, steps=9, workers=1, use_multiprocessing=False, verbose=0)\n",
        "print(\"___________________________________\")\n",
        "print(\"Model 1\")\n",
        "print( 'testing_acc:', testing_acc )\n",
        "print( 'testing_loss:', testing_loss )\n",
        "print(\"===================================\")\n",
        "testing_loss, testing_acc =model2.evaluate(test_generator, max_queue_size=10, steps=9, workers=1, use_multiprocessing=False, verbose=0)\n",
        "print(\"___________________________________\")\n",
        "print(\"Model 2\")\n",
        "print( 'testing_acc:', testing_acc )\n",
        "print( 'testing_loss:', testing_loss )\n",
        "print(\"===================================\")\n",
        "testing_loss, testing_acc =model3.evaluate(test_generator, max_queue_size=10, steps=9, workers=1, use_multiprocessing=False, verbose=0)\n",
        "print(\"___________________________________\")\n",
        "print(\"Model 3\")\n",
        "print( 'testing_acc:', testing_acc )\n",
        "print( 'testing_loss:', testing_loss )\n",
        "print(\"===================================\")\n",
        "testing_loss, testing_acc =model4.evaluate(test_generator, max_queue_size=10, steps=9, workers=1, use_multiprocessing=False, verbose=0)\n",
        "print(\"___________________________________\")\n",
        "print(\"Model 4\")\n",
        "print( 'testing_acc:', testing_acc )\n",
        "print( 'testing_loss:', testing_loss )\n",
        "print(\"===================================\")\n",
        "testing_loss, testing_acc =model5.evaluate(test_generator, max_queue_size=10, steps=9, workers=1, use_multiprocessing=False, verbose=0)\n",
        "print(\"___________________________________\")\n",
        "print(\"Model 5\")\n",
        "print( 'testing_acc:', testing_acc )\n",
        "print( 'testing_loss:', testing_loss )\n",
        "print(\"===================================\")\n",
        "testing_loss, testing_acc =model6.evaluate(test_generator, max_queue_size=10, steps=9, workers=1, use_multiprocessing=False, verbose=0)\n",
        "print(\"___________________________________\")\n",
        "print(\"Model 6\")\n",
        "print( 'testing_acc:', testing_acc )\n",
        "print( 'testing_loss:', testing_loss )\n",
        "print(\"===================================\")\n",
        "testing_loss, testing_acc =model7.evaluate(test_generator, max_queue_size=10, steps=9, workers=1, use_multiprocessing=False, verbose=0)\n",
        "print(\"___________________________________\")\n",
        "print(\"Model 7\")\n",
        "print( 'testing_acc:', testing_acc )\n",
        "print( 'testing_loss:', testing_loss )\n",
        "print(\"===================================\")\n",
        "testing_loss, testing_acc =model8.evaluate(test_generator, max_queue_size=10, steps=9, workers=1, use_multiprocessing=False, verbose=0)\n",
        "print(\"___________________________________\")\n",
        "print(\"Model 8\")\n",
        "print( 'testing_acc:', testing_acc )\n",
        "print( 'testing_loss:', testing_loss )\n",
        "print(\"===================================\")\n",
        "testing_loss, testing_acc =model9.evaluate(test_generator, max_queue_size=10, steps=9, workers=1, use_multiprocessing=False, verbose=0)\n",
        "print(\"___________________________________\")\n",
        "print(\"Model 9\")\n",
        "print( 'testing_acc:', testing_acc )\n",
        "print( 'testing_loss:', testing_loss )\n",
        "print(\"===================================\")\n",
        "testing_loss, testing_acc =model10.evaluate(test_generator, max_queue_size=10, steps=9, workers=1, use_multiprocessing=False, verbose=0)\n",
        "print(\"___________________________________\")\n",
        "print(\"Model 10\")\n",
        "print( 'testing_acc:', testing_acc )\n",
        "print( 'testing_loss:', testing_loss )\n",
        "print(\"===================================\")\n",
        "testing_loss, testing_acc =model11.evaluate(test_generator, max_queue_size=10, steps=9, workers=1, use_multiprocessing=False, verbose=0)\n",
        "\n",
        "print(\"Model 11\")\n",
        "print( 'testing_acc:', testing_acc )\n",
        "print( 'testing_loss:', testing_loss )\n",
        "print(\"===================================\")\n",
        "testing_loss, testing_acc =model12.evaluate(test_generator, max_queue_size=10, steps=9, workers=1, use_multiprocessing=False, verbose=0)\n",
        "print(\"___________________________________\")\n",
        "print(\"Model 12\")\n",
        "print( 'testing_acc:', testing_acc )\n",
        "print( 'testing_loss:', testing_loss )\n",
        "print(\"===================================\")"
      ],
      "execution_count": null,
      "outputs": [
        {
          "output_type": "stream",
          "text": [
            "___________________________________\n",
            "Previous Phase Augmentation\n",
            "testing_acc: 0.5780346989631653\n",
            "testing_loss: 0.6809622049331665\n",
            "===================================\n",
            "___________________________________\n",
            "Model 1\n",
            "testing_acc: 0.5780346989631653\n",
            "testing_loss: 0.6810881495475769\n",
            "===================================\n",
            "___________________________________\n",
            "Model 2\n",
            "testing_acc: 0.5780346989631653\n",
            "testing_loss: 0.6809688210487366\n",
            "===================================\n",
            "___________________________________\n",
            "Model 3\n",
            "testing_acc: 0.5780346989631653\n",
            "testing_loss: 0.6810293197631836\n",
            "===================================\n",
            "___________________________________\n",
            "Model 4\n",
            "testing_acc: 0.5780346989631653\n",
            "testing_loss: 0.68097984790802\n",
            "===================================\n",
            "___________________________________\n",
            "Model 5\n",
            "testing_acc: 0.5780346989631653\n",
            "testing_loss: 0.6809921264648438\n",
            "===================================\n",
            "___________________________________\n",
            "Model 6\n",
            "testing_acc: 0.5780346989631653\n",
            "testing_loss: 0.6810362935066223\n",
            "===================================\n",
            "___________________________________\n",
            "Model 7\n",
            "testing_acc: 0.5780346989631653\n",
            "testing_loss: 0.680928111076355\n",
            "===================================\n",
            "___________________________________\n",
            "Model 8\n",
            "testing_acc: 0.5780346989631653\n",
            "testing_loss: 0.6811380386352539\n",
            "===================================\n",
            "___________________________________\n",
            "Model 9\n",
            "testing_acc: 0.5780346989631653\n",
            "testing_loss: 0.6810312271118164\n",
            "===================================\n",
            "___________________________________\n",
            "Model 10\n",
            "testing_acc: 0.5780346989631653\n",
            "testing_loss: 0.6809603571891785\n",
            "===================================\n",
            "Model 11\n",
            "testing_acc: 0.5780346989631653\n",
            "testing_loss: 0.6810050010681152\n",
            "===================================\n",
            "___________________________________\n",
            "Model 12\n",
            "testing_acc: 0.5780346989631653\n",
            "testing_loss: 0.6809549331665039\n",
            "===================================\n"
          ],
          "name": "stdout"
        }
      ]
    },
    {
      "cell_type": "markdown",
      "metadata": {
        "id": "Lo6olh1I6z-o"
      },
      "source": [
        "#Plot the curves"
      ]
    },
    {
      "cell_type": "code",
      "metadata": {
        "colab": {
          "base_uri": "https://localhost:8080/"
        },
        "id": "oC0RyAng63gp",
        "outputId": "11fa30d1-45ee-4d84-b438-9c37e41f34df"
      },
      "source": [
        "plt.plot(originalHistory.history['accuracy'])\n",
        "plt.plot(originalHistory.history['val_accuracy'])\n",
        "plt.ylabel('Accuracy')\n",
        "plt.xlabel('Epoch')\n",
        "plt.legend(['training data', 'validation data'], loc='lower right')\n",
        "plt.show()\n",
        "plt.savefig(\"original plot.png\")"
      ],
      "execution_count": null,
      "outputs": [
        {
          "output_type": "display_data",
          "data": {
            "image/png": "[encoded data removed]",
            "text/plain": [
              "<Figure size 432x288 with 1 Axes>"
            ]
          },
          "metadata": {
            "tags": [],
            "needs_background": "light"
          }
        },
        {
          "output_type": "display_data",
          "data": {
            "text/plain": [
              "<Figure size 432x288 with 0 Axes>"
            ]
          },
          "metadata": {
            "tags": []
          }
        }
      ]
    },
    {
      "cell_type": "code",
      "metadata": {
        "colab": {
          "base_uri": "https://localhost:8080/"
        },
        "id": "pcR2-qMguZwp",
        "outputId": "a083cd5c-e84f-44c7-c646-1489fc1e96f0"
      },
      "source": [
        "plt.plot(history1.history['accuracy'])\n",
        "plt.plot(history1.history['val_accuracy'])\n",
        "plt.ylabel('Accuracy')\n",
        "plt.xlabel('Epoch')\n",
        "plt.legend(['training data', 'validation data'], loc='lower right')\n",
        "plt.show()\n",
        "plt.savefig(\"plot1.png\")"
      ],
      "execution_count": null,
      "outputs": [
        {
          "output_type": "display_data",
          "data": {
            "image/png": "[encoded data removed]",
            "text/plain": [
              "<Figure size 432x288 with 1 Axes>"
            ]
          },
          "metadata": {
            "tags": [],
            "needs_background": "light"
          }
        },
        {
          "output_type": "display_data",
          "data": {
            "text/plain": [
              "<Figure size 432x288 with 0 Axes>"
            ]
          },
          "metadata": {
            "tags": []
          }
        }
      ]
    },
    {
      "cell_type": "code",
      "metadata": {
        "colab": {
          "base_uri": "https://localhost:8080/"
        },
        "id": "cux-jlrfCk2J",
        "outputId": "41eede43-6f9d-4717-f1d4-3f62acbf2e7f"
      },
      "source": [
        "plt.plot(history2.history['accuracy'])\n",
        "plt.plot(history2.history['val_accuracy'])\n",
        "plt.ylabel('Accuracy')\n",
        "plt.xlabel('Epoch')\n",
        "plt.legend(['training data', 'validation data'], loc='lower right')\n",
        "plt.show()\n",
        "plt.savefig(\"plot2.png\")"
      ],
      "execution_count": null,
      "outputs": [
        {
          "output_type": "display_data",
          "data": {
            "image/png": "[encoded data removed]",
            "text/plain": [
              "<Figure size 432x288 with 1 Axes>"
            ]
          },
          "metadata": {
            "tags": [],
            "needs_background": "light"
          }
        },
        {
          "output_type": "display_data",
          "data": {
            "text/plain": [
              "<Figure size 432x288 with 0 Axes>"
            ]
          },
          "metadata": {
            "tags": []
          }
        }
      ]
    },
    {
      "cell_type": "code",
      "metadata": {
        "colab": {
          "base_uri": "https://localhost:8080/"
        },
        "id": "o-vR8shWVOo2",
        "outputId": "4a7f4f46-863b-4071-eeb7-e764bd8d9f8f"
      },
      "source": [
        "plt.plot(history3.history['accuracy'])\n",
        "plt.plot(history3.history['val_accuracy'])\n",
        "plt.ylabel('Accuracy')\n",
        "plt.xlabel('Epoch')\n",
        "plt.legend(['training data', 'validation data'], loc='lower right')\n",
        "plt.show()\n",
        "plt.savefig(\"plot3.png\")"
      ],
      "execution_count": null,
      "outputs": [
        {
          "output_type": "display_data",
          "data": {
            "image/png": "[encoded data removed]",
            "text/plain": [
              "<Figure size 432x288 with 1 Axes>"
            ]
          },
          "metadata": {
            "tags": [],
            "needs_background": "light"
          }
        },
        {
          "output_type": "display_data",
          "data": {
            "text/plain": [
              "<Figure size 432x288 with 0 Axes>"
            ]
          },
          "metadata": {
            "tags": []
          }
        }
      ]
    },
    {
      "cell_type": "code",
      "metadata": {
        "colab": {
          "base_uri": "https://localhost:8080/"
        },
        "id": "tr2feYawVPAi",
        "outputId": "bf157b5e-41c6-4153-acc0-c23278c0a86f"
      },
      "source": [
        "plt.plot(history4.history['accuracy'])\n",
        "plt.plot(history4.history['val_accuracy'])\n",
        "plt.ylabel('Accuracy')\n",
        "plt.xlabel('Epoch')\n",
        "plt.legend(['training data', 'validation data'], loc='lower right')\n",
        "plt.show()\n",
        "plt.savefig(\"plot4.png\")"
      ],
      "execution_count": null,
      "outputs": [
        {
          "output_type": "display_data",
          "data": {
            "image/png": "[encoded data removed]",
            "text/plain": [
              "<Figure size 432x288 with 1 Axes>"
            ]
          },
          "metadata": {
            "tags": [],
            "needs_background": "light"
          }
        },
        {
          "output_type": "display_data",
          "data": {
            "text/plain": [
              "<Figure size 432x288 with 0 Axes>"
            ]
          },
          "metadata": {
            "tags": []
          }
        }
      ]
    },
    {
      "cell_type": "code",
      "metadata": {
        "colab": {
          "base_uri": "https://localhost:8080/"
        },
        "id": "tsEFCrHbVPS2",
        "outputId": "b91dff54-871e-479d-ca0e-fd1bc1552c2a"
      },
      "source": [
        "plt.plot(history5.history['accuracy'])\n",
        "plt.plot(history5.history['val_accuracy'])\n",
        "plt.ylabel('Accuracy')\n",
        "plt.xlabel('Epoch')\n",
        "plt.legend(['training data', 'validation data'], loc='lower right')\n",
        "plt.show()\n",
        "plt.savefig(\"plot5.png\")"
      ],
      "execution_count": null,
      "outputs": [
        {
          "output_type": "display_data",
          "data": {
            "image/png": "[encoded data removed]",
            "text/plain": [
              "<Figure size 432x288 with 1 Axes>"
            ]
          },
          "metadata": {
            "tags": [],
            "needs_background": "light"
          }
        },
        {
          "output_type": "display_data",
          "data": {
            "text/plain": [
              "<Figure size 432x288 with 0 Axes>"
            ]
          },
          "metadata": {
            "tags": []
          }
        }
      ]
    },
    {
      "cell_type": "code",
      "metadata": {
        "colab": {
          "base_uri": "https://localhost:8080/"
        },
        "id": "hfc4i1wcVPhR",
        "outputId": "17fe3739-de49-4cfb-f53d-0e9024ee2614"
      },
      "source": [
        "plt.plot(history6.history['accuracy'])\n",
        "plt.plot(history6.history['val_accuracy'])\n",
        "plt.ylabel('Accuracy')\n",
        "plt.xlabel('Epoch')\n",
        "plt.legend(['training data', 'validation data'], loc='lower right')\n",
        "plt.show()\n",
        "plt.savefig(\"plot6.png\")"
      ],
      "execution_count": null,
      "outputs": [
        {
          "output_type": "display_data",
          "data": {
            "image/png": "[encoded data removed]",
            "text/plain": [
              "<Figure size 432x288 with 1 Axes>"
            ]
          },
          "metadata": {
            "tags": [],
            "needs_background": "light"
          }
        },
        {
          "output_type": "display_data",
          "data": {
            "text/plain": [
              "<Figure size 432x288 with 0 Axes>"
            ]
          },
          "metadata": {
            "tags": []
          }
        }
      ]
    },
    {
      "cell_type": "code",
      "metadata": {
        "colab": {
          "base_uri": "https://localhost:8080/"
        },
        "id": "HiSAKgEzWKpX",
        "outputId": "09ede638-376d-4c48-8379-dcda90ff438d"
      },
      "source": [
        "plt.plot(history7.history['accuracy'])\n",
        "plt.plot(history7.history['val_accuracy'])\n",
        "plt.ylabel('Accuracy')\n",
        "plt.xlabel('Epoch')\n",
        "plt.legend(['training data', 'validation data'], loc='lower right')\n",
        "plt.show()\n",
        "plt.savefig(\"plot7.png\")"
      ],
      "execution_count": null,
      "outputs": [
        {
          "output_type": "display_data",
          "data": {
            "image/png": "[encoded data removed]",
            "text/plain": [
              "<Figure size 432x288 with 1 Axes>"
            ]
          },
          "metadata": {
            "tags": [],
            "needs_background": "light"
          }
        },
        {
          "output_type": "display_data",
          "data": {
            "text/plain": [
              "<Figure size 432x288 with 0 Axes>"
            ]
          },
          "metadata": {
            "tags": []
          }
        }
      ]
    },
    {
      "cell_type": "code",
      "metadata": {
        "colab": {
          "base_uri": "https://localhost:8080/"
        },
        "id": "LFhm5tLN04pK",
        "outputId": "6ba90ff1-138d-4f6b-ae01-83f06c9d5c62"
      },
      "source": [
        "plt.plot(history8.history['accuracy'])\n",
        "plt.plot(history8.history['val_accuracy'])\n",
        "plt.ylabel('Accuracy')\n",
        "plt.xlabel('Epoch')\n",
        "plt.legend(['training data', 'validation data'], loc='lower right')\n",
        "plt.show()\n",
        "plt.savefig(\"plot8.png\")"
      ],
      "execution_count": null,
      "outputs": [
        {
          "output_type": "display_data",
          "data": {
            "image/png": "[encoded data removed]",
            "text/plain": [
              "<Figure size 432x288 with 1 Axes>"
            ]
          },
          "metadata": {
            "tags": [],
            "needs_background": "light"
          }
        },
        {
          "output_type": "display_data",
          "data": {
            "text/plain": [
              "<Figure size 432x288 with 0 Axes>"
            ]
          },
          "metadata": {
            "tags": []
          }
        }
      ]
    },
    {
      "cell_type": "code",
      "metadata": {
        "colab": {
          "base_uri": "https://localhost:8080/"
        },
        "id": "K_u54bKa059T",
        "outputId": "8d728501-006f-48f2-997e-eee91e0b94f6"
      },
      "source": [
        "plt.plot(history9.history['accuracy'])\n",
        "plt.plot(history9.history['val_accuracy'])\n",
        "plt.ylabel('Accuracy')\n",
        "plt.xlabel('Epoch')\n",
        "plt.legend(['training data', 'validation data'], loc='lower right')\n",
        "plt.show()\n",
        "plt.savefig(\"plot9.png\")"
      ],
      "execution_count": null,
      "outputs": [
        {
          "output_type": "display_data",
          "data": {
            "image/png": "[encoded data removed]",
            "text/plain": [
              "<Figure size 432x288 with 1 Axes>"
            ]
          },
          "metadata": {
            "tags": [],
            "needs_background": "light"
          }
        },
        {
          "output_type": "display_data",
          "data": {
            "text/plain": [
              "<Figure size 432x288 with 0 Axes>"
            ]
          },
          "metadata": {
            "tags": []
          }
        }
      ]
    },
    {
      "cell_type": "code",
      "metadata": {
        "colab": {
          "base_uri": "https://localhost:8080/"
        },
        "id": "xAjNxiaj06G8",
        "outputId": "7d9e97da-9e38-43da-9c8d-c436e462328f"
      },
      "source": [
        "plt.plot(history10.history['accuracy'])\n",
        "plt.plot(history10.history['val_accuracy'])\n",
        "plt.ylabel('Accuracy')\n",
        "plt.xlabel('Epoch')\n",
        "plt.legend(['training data', 'validation data'], loc='lower right')\n",
        "plt.show()\n",
        "plt.savefig(\"plot10.png\")"
      ],
      "execution_count": null,
      "outputs": [
        {
          "output_type": "display_data",
          "data": {
            "image/png": "[encoded data removed]",
            "text/plain": [
              "<Figure size 432x288 with 1 Axes>"
            ]
          },
          "metadata": {
            "tags": [],
            "needs_background": "light"
          }
        },
        {
          "output_type": "display_data",
          "data": {
            "text/plain": [
              "<Figure size 432x288 with 0 Axes>"
            ]
          },
          "metadata": {
            "tags": []
          }
        }
      ]
    },
    {
      "cell_type": "code",
      "metadata": {
        "colab": {
          "base_uri": "https://localhost:8080/",
          "height": 296
        },
        "id": "m1Q_6_n1g607",
        "outputId": "d703068b-2112-472e-d82a-06d3740d6b43"
      },
      "source": [
        "plt.plot(history11.history['accuracy'])\n",
        "plt.plot(history11.history['val_accuracy'])\n",
        "plt.ylabel('Accuracy')\n",
        "plt.xlabel('Epoch')\n",
        "plt.legend(['training data', 'validation data'], loc='lower right')\n",
        "plt.show()\n",
        "plt.savefig(\"plot11.png\")"
      ],
      "execution_count": null,
      "outputs": [
        {
          "output_type": "display_data",
          "data": {
            "image/png": "[encoded data removed]",
            "text/plain": [
              "<Figure size 432x288 with 1 Axes>"
            ]
          },
          "metadata": {
            "tags": [],
            "needs_background": "light"
          }
        },
        {
          "output_type": "display_data",
          "data": {
            "text/plain": [
              "<Figure size 432x288 with 0 Axes>"
            ]
          },
          "metadata": {
            "tags": []
          }
        }
      ]
    },
    {
      "cell_type": "code",
      "metadata": {
        "colab": {
          "base_uri": "https://localhost:8080/",
          "height": 296
        },
        "id": "vUpSCGpUg7QQ",
        "outputId": "18d7396e-060d-48b5-e35b-a8bfa82603e2"
      },
      "source": [
        "plt.plot(history12.history['accuracy'])\n",
        "plt.plot(history12.history['val_accuracy'])\n",
        "plt.ylabel('Accuracy')\n",
        "plt.xlabel('Epoch')\n",
        "plt.legend(['training data', 'validation data'], loc='lower right')\n",
        "plt.show()\n",
        "plt.savefig(\"plot12.png\")"
      ],
      "execution_count": null,
      "outputs": [
        {
          "output_type": "display_data",
          "data": {
            "image/png": "[encoded data removed]",
            "text/plain": [
              "<Figure size 432x288 with 1 Axes>"
            ]
          },
          "metadata": {
            "tags": [],
            "needs_background": "light"
          }
        },
        {
          "output_type": "display_data",
          "data": {
            "text/plain": [
              "<Figure size 432x288 with 0 Axes>"
            ]
          },
          "metadata": {
            "tags": []
          }
        }
      ]
    }
  ]
}